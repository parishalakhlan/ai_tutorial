{
 "cells": [
  {
   "cell_type": "markdown",
   "id": "fff64a05-a61b-4e3c-8b8c-579dcce97e17",
   "metadata": {},
   "source": [
    "#### Numpy with python"
   ]
  },
  {
   "cell_type": "code",
   "execution_count": null,
   "id": "dcce164f-a177-4a6a-9c8c-00dd0f5f73f3",
   "metadata": {},
   "outputs": [],
   "source": [
    "# import package\n",
    "# Numpy- a package in python that provides multidimensional array object\n",
    "import numpy as np\n",
    "# numpy array has fix size \n",
    "# if we change size of numpy array after its creation \n",
    "# then new array in created and old one gets deleted \n",
    "# datatypes in numpy array must be same \n",
    "#"
   ]
  },
  {
   "cell_type": "code",
   "execution_count": 5,
   "id": "045a229b-6fe4-4cc1-9326-05b331d721f9",
   "metadata": {},
   "outputs": [
    {
     "data": {
      "text/plain": [
       "array([[ 0,  1,  2,  3,  4],\n",
       "       [ 5,  6,  7,  8,  9],\n",
       "       [10, 11, 12, 13, 14]])"
      ]
     },
     "execution_count": 5,
     "metadata": {},
     "output_type": "execute_result"
    }
   ],
   "source": [
    " import numpy as np\n",
    "a=np.arange(15).reshape(3,5)\n",
    "a\n",
    "# numpy array of 15 itemns , rehsape(row, column) row=3, column =5"
   ]
  },
  {
   "cell_type": "code",
   "execution_count": 15,
   "id": "c45fca9c-358b-4cb1-8018-c0e49e294efc",
   "metadata": {},
   "outputs": [
    {
     "name": "stdout",
     "output_type": "stream",
     "text": [
      "shape of array:  (3, 5)\n",
      "dimension of array:  2\n",
      "size of array:  15\n",
      "itemsize of array:  4\n"
     ]
    }
   ],
   "source": [
    "# shape\n",
    "print(\"shape of array: \",a.shape)\n",
    "print(\"dimension of array: \",a.ndim)  # 2 dimensional array \n",
    "print(\"size of array: \",a.size)\n",
    "print(\"itemsize of array: \",a.itemsize)# itemsize- size of datatype of each elements in array"
   ]
  },
  {
   "cell_type": "code",
   "execution_count": 17,
   "id": "74bb7278-1b8b-4ad2-abbd-0048c8420162",
   "metadata": {},
   "outputs": [
    {
     "data": {
      "text/plain": [
       "<memory at 0x0000014A35EB8040>"
      ]
     },
     "execution_count": 17,
     "metadata": {},
     "output_type": "execute_result"
    }
   ],
   "source": [
    "a.data  # buffer containing actual data"
   ]
  },
  {
   "cell_type": "code",
   "execution_count": 25,
   "id": "cb8701e1-515f-4829-b973-516159fdd200",
   "metadata": {},
   "outputs": [
    {
     "name": "stdout",
     "output_type": "stream",
     "text": [
      "size :   4\n",
      "dtype :   int32\n",
      "itemsize :   4\n",
      "shape :   (4,)\n"
     ]
    }
   ],
   "source": [
    "# array creation \n",
    "import numpy as np\n",
    "a=np.array([3,2,6,1])\n",
    "a\n",
    "print(\"size :  \",a.size)\n",
    "print(\"dtype :  \",a.dtype)\n",
    "print(\"itemsize :  \",a.itemsize)\n",
    "print(\"shape :  \",a.shape)\n",
    "# ndarray hasn't dimension attribute"
   ]
  },
  {
   "cell_type": "code",
   "execution_count": 29,
   "id": "dcdf817b-850f-4230-bc7d-c30c214a50d0",
   "metadata": {},
   "outputs": [
    {
     "data": {
      "text/plain": [
       "array([[1, 5, 4],\n",
       "       [6, 5, 8]])"
      ]
     },
     "execution_count": 29,
     "metadata": {},
     "output_type": "execute_result"
    }
   ],
   "source": [
    "# 2-d array\n",
    "b=np.array([(1,5,4),(6,5,8)])\n",
    "b\n",
    "# must be homogenous , i.e no. of element for x, y must be equal\n",
    "# can't create non-homogeneous array"
   ]
  },
  {
   "cell_type": "code",
   "execution_count": 31,
   "id": "4fe18811-fc8c-4c3b-b312-a10a8f8468d1",
   "metadata": {},
   "outputs": [
    {
     "data": {
      "text/plain": [
       "array([[1.+0.j, 2.+0.j],\n",
       "       [5.+0.j, 4.+0.j]])"
      ]
     },
     "execution_count": 31,
     "metadata": {},
     "output_type": "execute_result"
    }
   ],
   "source": [
    "# explicitly specifying dtype of array\n",
    "c=np.array([[1,2],[5,4]],dtype=complex)\n",
    "c"
   ]
  },
  {
   "cell_type": "code",
   "execution_count": 37,
   "id": "0b0786ff-e44c-4347-92d0-eec064b2ba85",
   "metadata": {},
   "outputs": [
    {
     "name": "stdout",
     "output_type": "stream",
     "text": [
      "array of zeros: \n",
      "\n",
      "\n",
      "array of ones \n"
     ]
    },
    {
     "data": {
      "text/plain": [
       "array([[1., 1., 1.],\n",
       "       [1., 1., 1.]])"
      ]
     },
     "execution_count": 37,
     "metadata": {},
     "output_type": "execute_result"
    }
   ],
   "source": [
    "# creatine arrays of zeroes and ones \n",
    "# zeroes method create array full of zeroes\n",
    "# ones method create array  full of ones \n",
    "print(\"array of zeros: \")\n",
    "np.zeros((3,5))"
   ]
  },
  {
   "cell_type": "code",
   "execution_count": 39,
   "id": "02a435ef-035a-44b2-87c9-1b60b11c9ee8",
   "metadata": {},
   "outputs": [
    {
     "name": "stdout",
     "output_type": "stream",
     "text": [
      "array of ones \n"
     ]
    },
    {
     "data": {
      "text/plain": [
       "array([[1., 1., 1.],\n",
       "       [1., 1., 1.]])"
      ]
     },
     "execution_count": 39,
     "metadata": {},
     "output_type": "execute_result"
    }
   ],
   "source": [
    "print(\"array of ones \")\n",
    "np.ones((2,3))"
   ]
  },
  {
   "cell_type": "code",
   "execution_count": 43,
   "id": "ba36a8c1-299f-47ee-8d09-ef20983393ed",
   "metadata": {},
   "outputs": [
    {
     "data": {
      "text/plain": [
       "array([[1., 1., 1.],\n",
       "       [1., 1., 1.]])"
      ]
     },
     "execution_count": 43,
     "metadata": {},
     "output_type": "execute_result"
    }
   ],
   "source": [
    "# array of empty\n",
    "np.empty((2,3))"
   ]
  },
  {
   "cell_type": "code",
   "execution_count": 45,
   "id": "e3ccce0b-ba3d-495c-ae52-518617ebf0cd",
   "metadata": {},
   "outputs": [
    {
     "data": {
      "text/plain": [
       "array([10, 15, 20, 25])"
      ]
     },
     "execution_count": 45,
     "metadata": {},
     "output_type": "execute_result"
    }
   ],
   "source": [
    "# arange create array into given range\n",
    "# start, end, steps\n",
    "np.arange(10,30,5)"
   ]
  },
  {
   "cell_type": "code",
   "execution_count": 47,
   "id": "cc2293f9-88e1-45e3-843b-8d03940086ea",
   "metadata": {},
   "outputs": [
    {
     "data": {
      "text/plain": [
       "array([1. , 1.5, 2. , 2.5])"
      ]
     },
     "execution_count": 47,
     "metadata": {},
     "output_type": "execute_result"
    }
   ],
   "source": [
    "# arange also accepts float arguments\n",
    "np.arange(1,3,0.5)"
   ]
  },
  {
   "cell_type": "code",
   "execution_count": 10,
   "id": "5691e757-a7f9-400e-8787-6d02c17d19e4",
   "metadata": {},
   "outputs": [
    {
     "data": {
      "text/plain": [
       "array([0, 1, 2, 3])"
      ]
     },
     "execution_count": 10,
     "metadata": {},
     "output_type": "execute_result"
    }
   ],
   "source": [
    "import numpy as np\n",
    "a=np.array([10,20,30,40])\n",
    "b=np.arange(4)\n",
    "b"
   ]
  },
  {
   "cell_type": "code",
   "execution_count": 12,
   "id": "26aee387-901d-44dd-8ca0-3f362e6c6138",
   "metadata": {},
   "outputs": [
    {
     "data": {
      "text/plain": [
       "array([10, 19, 28, 37])"
      ]
     },
     "execution_count": 12,
     "metadata": {},
     "output_type": "execute_result"
    }
   ],
   "source": [
    "c=a-b\n",
    "c"
   ]
  },
  {
   "cell_type": "code",
   "execution_count": 14,
   "id": "2c15da4e-4fb6-4dc8-bc3e-f57ab48aec5a",
   "metadata": {},
   "outputs": [
    {
     "data": {
      "text/plain": [
       "array([0, 1, 4, 9])"
      ]
     },
     "execution_count": 14,
     "metadata": {},
     "output_type": "execute_result"
    }
   ],
   "source": [
    "b**2  # all the operation will be applied to all elements"
   ]
  },
  {
   "cell_type": "code",
   "execution_count": 16,
   "id": "d60f7476-30a4-4fc7-9ad0-95d219361806",
   "metadata": {},
   "outputs": [
    {
     "data": {
      "text/plain": [
       "array([-5.44021111,  9.12945251, -9.88031624,  7.4511316 ])"
      ]
     },
     "execution_count": 16,
     "metadata": {},
     "output_type": "execute_result"
    }
   ],
   "source": [
    "10*np.sin(a)"
   ]
  },
  {
   "cell_type": "code",
   "execution_count": 18,
   "id": "21a9ab6f-1d4f-48eb-8a06-21b630c11ba8",
   "metadata": {},
   "outputs": [
    {
     "data": {
      "text/plain": [
       "array([ True,  True,  True, False])"
      ]
     },
     "execution_count": 18,
     "metadata": {},
     "output_type": "execute_result"
    }
   ],
   "source": [
    "a<35"
   ]
  },
  {
   "cell_type": "code",
   "execution_count": 26,
   "id": "3bb4dff0-41cb-434d-ac87-df76f7bdc72d",
   "metadata": {},
   "outputs": [],
   "source": [
    "A=np.arange(2,4,0.5)\n",
    "B=np.arange(5,7,0.5)"
   ]
  },
  {
   "cell_type": "code",
   "execution_count": 28,
   "id": "0ce0c628-64bb-4234-8d22-6fc88fffa486",
   "metadata": {},
   "outputs": [
    {
     "data": {
      "text/plain": [
       "array([10.  , 13.75, 18.  , 22.75])"
      ]
     },
     "execution_count": 28,
     "metadata": {},
     "output_type": "execute_result"
    }
   ],
   "source": [
    "A*B"
   ]
  },
  {
   "cell_type": "code",
   "execution_count": 30,
   "id": "9752370f-1ec3-4a15-beb3-691a21c50eb1",
   "metadata": {},
   "outputs": [
    {
     "data": {
      "text/plain": [
       "array([[3, 3, 3],\n",
       "       [3, 3, 3]])"
      ]
     },
     "execution_count": 30,
     "metadata": {},
     "output_type": "execute_result"
    }
   ],
   "source": [
    "rg=np.random.default_rng(1)  # create instance of default  random no. generator\n",
    "a=np.ones((2,3),dtype=int)\n",
    "b=rg.random((2,3))\n",
    "a*=3\n",
    "a\n",
    "# a+=b this can't be done , b won't automaticaally convert to a's dtype"
   ]
  },
  {
   "cell_type": "code",
   "execution_count": 32,
   "id": "05a6affc-566e-4615-92bd-07b26332763f",
   "metadata": {},
   "outputs": [
    {
     "data": {
      "text/plain": [
       "array([[0.51182162, 0.9504637 , 0.14415961],\n",
       "       [0.94864945, 0.31183145, 0.42332645]])"
      ]
     },
     "execution_count": 32,
     "metadata": {},
     "output_type": "execute_result"
    }
   ],
   "source": [
    "b"
   ]
  },
  {
   "cell_type": "code",
   "execution_count": 34,
   "id": "fc543f09-4a26-40fd-901e-2c4f01609bfb",
   "metadata": {},
   "outputs": [
    {
     "data": {
      "text/plain": [
       "array([[3, 3, 3],\n",
       "       [3, 3, 3]])"
      ]
     },
     "execution_count": 34,
     "metadata": {},
     "output_type": "execute_result"
    }
   ],
   "source": [
    "a"
   ]
  },
  {
   "cell_type": "markdown",
   "id": "ec70ce60-073d-4c38-a19f-9f0807de502e",
   "metadata": {},
   "source": [
    "#### Reverse array "
   ]
  },
  {
   "cell_type": "code",
   "execution_count": 37,
   "id": "b11ef080-9240-446d-bc50-9454da488e26",
   "metadata": {},
   "outputs": [
    {
     "name": "stdout",
     "output_type": "stream",
     "text": [
      "reversed array is:   [8 3 5 6 1]\n"
     ]
    }
   ],
   "source": [
    "arr=np.array([1,6,5,3,8])\n",
    "reverse_arr=np.flip(arr)\n",
    "print(\"reversed array is:  \",reverse_arr)"
   ]
  },
  {
   "cell_type": "code",
   "execution_count": 39,
   "id": "aa13ab4e-33b5-4e08-bb1e-7fa2b813b5bc",
   "metadata": {},
   "outputs": [
    {
     "data": {
      "text/plain": [
       "array([[1, 5, 7, 3, 4],\n",
       "       [2, 5, 4, 8, 2],\n",
       "       [1, 7, 6, 3, 9]])"
      ]
     },
     "execution_count": 39,
     "metadata": {},
     "output_type": "execute_result"
    }
   ],
   "source": [
    "# reverse 2-d array\n",
    "arr_2d=np.array([[1,5,7,3,4],[2,5,4,8,2],[1,7,6,3,9]])\n",
    "arr_2d"
   ]
  },
  {
   "cell_type": "code",
   "execution_count": 41,
   "id": "e759433e-b470-4946-8a48-2d8fb963cc4d",
   "metadata": {},
   "outputs": [
    {
     "name": "stdout",
     "output_type": "stream",
     "text": [
      "reversed array:   [[9 3 6 7 1]\n",
      " [2 8 4 5 2]\n",
      " [4 3 7 5 1]]\n"
     ]
    }
   ],
   "source": [
    "re_arr=np.flip(arr_2d)\n",
    "print(\"reversed array:  \",re_arr)\n",
    "# if axis is not specified for flip , \n",
    "# both column-wise and row-wise arr will reverse"
   ]
  },
  {
   "cell_type": "code",
   "execution_count": 43,
   "id": "9ae6aac8-3b02-4b60-a21a-4b7aa86718e4",
   "metadata": {},
   "outputs": [
    {
     "name": "stdout",
     "output_type": "stream",
     "text": [
      "[[4 3 7 5 1]\n",
      " [2 8 4 5 2]\n",
      " [9 3 6 7 1]]\n"
     ]
    }
   ],
   "source": [
    "# reverse through row\n",
    "re_row=np.flip(re_arr,axis=0)\n",
    "print(re_row)\n",
    "# elements reversed only row wise "
   ]
  },
  {
   "cell_type": "code",
   "execution_count": 47,
   "id": "f7842960-f47a-40c3-bffc-2d66735c701d",
   "metadata": {},
   "outputs": [
    {
     "name": "stdout",
     "output_type": "stream",
     "text": [
      "[[1 7 6 3 9]\n",
      " [2 5 4 8 2]\n",
      " [1 5 7 3 4]]\n"
     ]
    }
   ],
   "source": [
    "# reverse through column\n",
    "re_col=np.flip(re_arr,axis=1)\n",
    "print(re_col)"
   ]
  },
  {
   "cell_type": "code",
   "execution_count": 49,
   "id": "e6b9dd80-b1d4-4834-99c1-863457c1082b",
   "metadata": {},
   "outputs": [
    {
     "name": "stdout",
     "output_type": "stream",
     "text": [
      "[7 5 5]\n"
     ]
    }
   ],
   "source": [
    "# reverse using any index \n",
    "arr_i=np.flip(arr_2d[:,1])\n",
    "print(arr_i)"
   ]
  },
  {
   "cell_type": "code",
   "execution_count": 2,
   "id": "f43efec0-ba01-4bc0-8b10-5d5efa96465c",
   "metadata": {},
   "outputs": [
    {
     "data": {
      "text/plain": [
       "array([[1, 5, 6],\n",
       "       [3, 6, 5],\n",
       "       [2, 5, 6]])"
      ]
     },
     "execution_count": 2,
     "metadata": {},
     "output_type": "execute_result"
    }
   ],
   "source": [
    "# reshape and flatten multi-dimensional array\n",
    "import numpy as np\n",
    "x=np.array([[1,5,6],[3,6,5],[2,5,6]])\n",
    "x"
   ]
  },
  {
   "cell_type": "code",
   "execution_count": 3,
   "id": "68cfd108-6454-488d-8b04-8b5e9d213ebc",
   "metadata": {},
   "outputs": [
    {
     "data": {
      "text/plain": [
       "(3, 3)"
      ]
     },
     "execution_count": 3,
     "metadata": {},
     "output_type": "execute_result"
    }
   ],
   "source": [
    "x.shape"
   ]
  },
  {
   "cell_type": "code",
   "execution_count": 4,
   "id": "517a5bce-ebe0-4e23-9b25-1aa2ec223b31",
   "metadata": {},
   "outputs": [
    {
     "data": {
      "text/plain": [
       "array([1, 5, 6, 3, 6, 5, 2, 5, 6])"
      ]
     },
     "execution_count": 4,
     "metadata": {},
     "output_type": "execute_result"
    }
   ],
   "source": [
    "#flatten the multidimension array\n",
    "#using .flatten- the changes made to new array won't affect \n",
    "# the parent original array\n",
    "#using .ravel method-new array created in this method is refernce to parent array #\n",
    "#(i.e a view a created) and the changes made to new array affect the parent array #\n",
    "#efficient method- .ravel- cuz it doesn't create any copy , memory efficient\n",
    "x.flatten()"
   ]
  },
  {
   "cell_type": "code",
   "execution_count": 5,
   "id": "6a344bd9-9be9-46c1-8e3f-41d042bf3be4",
   "metadata": {},
   "outputs": [
    {
     "data": {
      "text/plain": [
       "array([1, 5, 6, 3, 6, 5, 2, 5, 6])"
      ]
     },
     "execution_count": 5,
     "metadata": {},
     "output_type": "execute_result"
    }
   ],
   "source": [
    "x.ravel()"
   ]
  },
  {
   "cell_type": "code",
   "execution_count": 6,
   "id": "38c61aa2-a613-4594-b169-3fc47d2cb320",
   "metadata": {},
   "outputs": [
    {
     "data": {
      "text/plain": [
       "\u001b[1;31mDocstring:\u001b[0m\n",
       "max(iterable, *[, default=obj, key=func]) -> value\n",
       "max(arg1, arg2, *args, *[, key=func]) -> value\n",
       "\n",
       "With a single iterable argument, return its biggest item. The\n",
       "default keyword-only argument specifies an object to return if\n",
       "the provided iterable is empty.\n",
       "With two or more arguments, return the largest argument.\n",
       "\u001b[1;31mType:\u001b[0m      builtin_function_or_method"
      ]
     },
     "metadata": {},
     "output_type": "display_data"
    }
   ],
   "source": [
    "max?\n",
    "#? - to access all the useful info about any function,variable\n",
    "#function or about any element we want to access##"
   ]
  },
  {
   "cell_type": "code",
   "execution_count": 8,
   "id": "7715bdc4-f99e-42d0-b95e-8a9d03da18d1",
   "metadata": {},
   "outputs": [
    {
     "data": {
      "text/plain": [
       "\u001b[1;31mType:\u001b[0m        ndarray\n",
       "\u001b[1;31mString form:\u001b[0m\n",
       "[[1 5 6]\n",
       " [3 6 5]\n",
       " [2 5 6]]\n",
       "\u001b[1;31mLength:\u001b[0m      3\n",
       "\u001b[1;31mFile:\u001b[0m        c:\\users\\asus\\anaconda3\\anaconda_setup\\lib\\site-packages\\numpy\\__init__.py\n",
       "\u001b[1;31mDocstring:\u001b[0m  \n",
       "ndarray(shape, dtype=float, buffer=None, offset=0,\n",
       "        strides=None, order=None)\n",
       "\n",
       "An array object represents a multidimensional, homogeneous array\n",
       "of fixed-size items.  An associated data-type object describes the\n",
       "format of each element in the array (its byte-order, how many bytes it\n",
       "occupies in memory, whether it is an integer, a floating point number,\n",
       "or something else, etc.)\n",
       "\n",
       "Arrays should be constructed using `array`, `zeros` or `empty` (refer\n",
       "to the See Also section below).  The parameters given here refer to\n",
       "a low-level method (`ndarray(...)`) for instantiating an array.\n",
       "\n",
       "For more information, refer to the `numpy` module and examine the\n",
       "methods and attributes of an array.\n",
       "\n",
       "Parameters\n",
       "----------\n",
       "(for the __new__ method; see Notes below)\n",
       "\n",
       "shape : tuple of ints\n",
       "    Shape of created array.\n",
       "dtype : data-type, optional\n",
       "    Any object that can be interpreted as a numpy data type.\n",
       "buffer : object exposing buffer interface, optional\n",
       "    Used to fill the array with data.\n",
       "offset : int, optional\n",
       "    Offset of array data in buffer.\n",
       "strides : tuple of ints, optional\n",
       "    Strides of data in memory.\n",
       "order : {'C', 'F'}, optional\n",
       "    Row-major (C-style) or column-major (Fortran-style) order.\n",
       "\n",
       "Attributes\n",
       "----------\n",
       "T : ndarray\n",
       "    Transpose of the array.\n",
       "data : buffer\n",
       "    The array's elements, in memory.\n",
       "dtype : dtype object\n",
       "    Describes the format of the elements in the array.\n",
       "flags : dict\n",
       "    Dictionary containing information related to memory use, e.g.,\n",
       "    'C_CONTIGUOUS', 'OWNDATA', 'WRITEABLE', etc.\n",
       "flat : numpy.flatiter object\n",
       "    Flattened version of the array as an iterator.  The iterator\n",
       "    allows assignments, e.g., ``x.flat = 3`` (See `ndarray.flat` for\n",
       "    assignment examples; TODO).\n",
       "imag : ndarray\n",
       "    Imaginary part of the array.\n",
       "real : ndarray\n",
       "    Real part of the array.\n",
       "size : int\n",
       "    Number of elements in the array.\n",
       "itemsize : int\n",
       "    The memory use of each array element in bytes.\n",
       "nbytes : int\n",
       "    The total number of bytes required to store the array data,\n",
       "    i.e., ``itemsize * size``.\n",
       "ndim : int\n",
       "    The array's number of dimensions.\n",
       "shape : tuple of ints\n",
       "    Shape of the array.\n",
       "strides : tuple of ints\n",
       "    The step-size required to move from one element to the next in\n",
       "    memory. For example, a contiguous ``(3, 4)`` array of type\n",
       "    ``int16`` in C-order has strides ``(8, 2)``.  This implies that\n",
       "    to move from element to element in memory requires jumps of 2 bytes.\n",
       "    To move from row-to-row, one needs to jump 8 bytes at a time\n",
       "    (``2 * 4``).\n",
       "ctypes : ctypes object\n",
       "    Class containing properties of the array needed for interaction\n",
       "    with ctypes.\n",
       "base : ndarray\n",
       "    If the array is a view into another array, that array is its `base`\n",
       "    (unless that array is also a view).  The `base` array is where the\n",
       "    array data is actually stored.\n",
       "\n",
       "See Also\n",
       "--------\n",
       "array : Construct an array.\n",
       "zeros : Create an array, each element of which is zero.\n",
       "empty : Create an array, but leave its allocated memory unchanged (i.e.,\n",
       "        it contains \"garbage\").\n",
       "dtype : Create a data-type.\n",
       "numpy.typing.NDArray : An ndarray alias :term:`generic <generic type>`\n",
       "                       w.r.t. its `dtype.type <numpy.dtype.type>`.\n",
       "\n",
       "Notes\n",
       "-----\n",
       "There are two modes of creating an array using ``__new__``:\n",
       "\n",
       "1. If `buffer` is None, then only `shape`, `dtype`, and `order`\n",
       "   are used.\n",
       "2. If `buffer` is an object exposing the buffer interface, then\n",
       "   all keywords are interpreted.\n",
       "\n",
       "No ``__init__`` method is needed because the array is fully initialized\n",
       "after the ``__new__`` method.\n",
       "\n",
       "Examples\n",
       "--------\n",
       "These examples illustrate the low-level `ndarray` constructor.  Refer\n",
       "to the `See Also` section above for easier ways of constructing an\n",
       "ndarray.\n",
       "\n",
       "First mode, `buffer` is None:\n",
       "\n",
       ">>> np.ndarray(shape=(2,2), dtype=float, order='F')\n",
       "array([[0.0e+000, 0.0e+000], # random\n",
       "       [     nan, 2.5e-323]])\n",
       "\n",
       "Second mode:\n",
       "\n",
       ">>> np.ndarray((2,), buffer=np.array([1,2,3]),\n",
       "...            offset=np.int_().itemsize,\n",
       "...            dtype=int) # offset = 1*itemsize, i.e. skip first element\n",
       "array([2, 3])"
      ]
     },
     "metadata": {},
     "output_type": "display_data"
    }
   ],
   "source": [
    "x?"
   ]
  },
  {
   "cell_type": "code",
   "execution_count": 9,
   "id": "2d8ddc6d-929e-4da7-9297-bf4c7478bb9a",
   "metadata": {},
   "outputs": [],
   "source": [
    "def double(a):\n",
    "    return a*2"
   ]
  },
  {
   "cell_type": "code",
   "execution_count": 10,
   "id": "c8ad0c51-95b3-4142-97a5-8f5262756fd0",
   "metadata": {},
   "outputs": [
    {
     "data": {
      "text/plain": [
       "\u001b[1;31mSignature:\u001b[0m \u001b[0mdouble\u001b[0m\u001b[1;33m(\u001b[0m\u001b[0ma\u001b[0m\u001b[1;33m)\u001b[0m\u001b[1;33m\u001b[0m\u001b[1;33m\u001b[0m\u001b[0m\n",
       "\u001b[1;31mDocstring:\u001b[0m <no docstring>\n",
       "\u001b[1;31mFile:\u001b[0m      c:\\users\\asus\\appdata\\local\\temp\\ipykernel_14524\\2157672883.py\n",
       "\u001b[1;31mType:\u001b[0m      function"
      ]
     },
     "metadata": {},
     "output_type": "display_data"
    }
   ],
   "source": [
    "double?\n",
    "# created a function and accesssing info about it"
   ]
  },
  {
   "cell_type": "code",
   "execution_count": 13,
   "id": "75d65e84-54a0-4799-b14a-cf7a35337a41",
   "metadata": {},
   "outputs": [
    {
     "ename": "ValueError",
     "evalue": "Single argument to subplot must be a three-digit integer, not [array([1, 5, 6, 9, 0, 5, 0]), array([6, 4, 9, 1, 3, 5, 0])]",
     "output_type": "error",
     "traceback": [
      "\u001b[1;31m---------------------------------------------------------------------------\u001b[0m",
      "\u001b[1;31mValueError\u001b[0m                                Traceback (most recent call last)",
      "Cell \u001b[1;32mIn[13], line 6\u001b[0m\n\u001b[0;32m      4\u001b[0m a\u001b[38;5;241m=\u001b[39mnp\u001b[38;5;241m.\u001b[39marray([\u001b[38;5;241m1\u001b[39m,\u001b[38;5;241m5\u001b[39m,\u001b[38;5;241m6\u001b[39m,\u001b[38;5;241m9\u001b[39m,\u001b[38;5;241m0\u001b[39m,\u001b[38;5;241m5\u001b[39m,\u001b[38;5;241m0\u001b[39m])\n\u001b[0;32m      5\u001b[0m b\u001b[38;5;241m=\u001b[39mnp\u001b[38;5;241m.\u001b[39marray([\u001b[38;5;241m6\u001b[39m,\u001b[38;5;241m4\u001b[39m,\u001b[38;5;241m9\u001b[39m,\u001b[38;5;241m1\u001b[39m,\u001b[38;5;241m3\u001b[39m,\u001b[38;5;241m5\u001b[39m,\u001b[38;5;241m0\u001b[39m])\n\u001b[1;32m----> 6\u001b[0m plt\u001b[38;5;241m.\u001b[39msubplot([a,b])\n",
      "File \u001b[1;32m~\\anaconda3\\anaconda_setup\\Lib\\site-packages\\matplotlib\\pyplot.py:1440\u001b[0m, in \u001b[0;36msubplot\u001b[1;34m(*args, **kwargs)\u001b[0m\n\u001b[0;32m   1437\u001b[0m fig \u001b[38;5;241m=\u001b[39m gcf()\n\u001b[0;32m   1439\u001b[0m \u001b[38;5;66;03m# First, search for an existing subplot with a matching spec.\u001b[39;00m\n\u001b[1;32m-> 1440\u001b[0m key \u001b[38;5;241m=\u001b[39m SubplotSpec\u001b[38;5;241m.\u001b[39m_from_subplot_args(fig, args)\n\u001b[0;32m   1442\u001b[0m \u001b[38;5;28;01mfor\u001b[39;00m ax \u001b[38;5;129;01min\u001b[39;00m fig\u001b[38;5;241m.\u001b[39maxes:\n\u001b[0;32m   1443\u001b[0m     \u001b[38;5;66;03m# If we found an Axes at the position, we can re-use it if the user passed no\u001b[39;00m\n\u001b[0;32m   1444\u001b[0m     \u001b[38;5;66;03m# kwargs or if the axes class and kwargs are identical.\u001b[39;00m\n\u001b[0;32m   1445\u001b[0m     \u001b[38;5;28;01mif\u001b[39;00m (ax\u001b[38;5;241m.\u001b[39mget_subplotspec() \u001b[38;5;241m==\u001b[39m key\n\u001b[0;32m   1446\u001b[0m         \u001b[38;5;129;01mand\u001b[39;00m (kwargs \u001b[38;5;241m==\u001b[39m {}\n\u001b[0;32m   1447\u001b[0m              \u001b[38;5;129;01mor\u001b[39;00m (ax\u001b[38;5;241m.\u001b[39m_projection_init\n\u001b[0;32m   1448\u001b[0m                  \u001b[38;5;241m==\u001b[39m fig\u001b[38;5;241m.\u001b[39m_process_projection_requirements(\u001b[38;5;241m*\u001b[39m\u001b[38;5;241m*\u001b[39mkwargs)))):\n",
      "File \u001b[1;32m~\\anaconda3\\anaconda_setup\\Lib\\site-packages\\matplotlib\\gridspec.py:574\u001b[0m, in \u001b[0;36mSubplotSpec._from_subplot_args\u001b[1;34m(figure, args)\u001b[0m\n\u001b[0;32m    572\u001b[0m     \u001b[38;5;28;01mreturn\u001b[39;00m arg\n\u001b[0;32m    573\u001b[0m \u001b[38;5;28;01melif\u001b[39;00m \u001b[38;5;129;01mnot\u001b[39;00m \u001b[38;5;28misinstance\u001b[39m(arg, Integral):\n\u001b[1;32m--> 574\u001b[0m     \u001b[38;5;28;01mraise\u001b[39;00m \u001b[38;5;167;01mValueError\u001b[39;00m(\n\u001b[0;32m    575\u001b[0m         \u001b[38;5;124mf\u001b[39m\u001b[38;5;124m\"\u001b[39m\u001b[38;5;124mSingle argument to subplot must be a three-digit \u001b[39m\u001b[38;5;124m\"\u001b[39m\n\u001b[0;32m    576\u001b[0m         \u001b[38;5;124mf\u001b[39m\u001b[38;5;124m\"\u001b[39m\u001b[38;5;124minteger, not \u001b[39m\u001b[38;5;132;01m{\u001b[39;00marg\u001b[38;5;132;01m!r}\u001b[39;00m\u001b[38;5;124m\"\u001b[39m)\n\u001b[0;32m    577\u001b[0m \u001b[38;5;28;01mtry\u001b[39;00m:\n\u001b[0;32m    578\u001b[0m     rows, cols, num \u001b[38;5;241m=\u001b[39m \u001b[38;5;28mmap\u001b[39m(\u001b[38;5;28mint\u001b[39m, \u001b[38;5;28mstr\u001b[39m(arg))\n",
      "\u001b[1;31mValueError\u001b[0m: Single argument to subplot must be a three-digit integer, not [array([1, 5, 6, 9, 0, 5, 0]), array([6, 4, 9, 1, 3, 5, 0])]"
     ]
    },
    {
     "data": {
      "text/plain": [
       "<Figure size 640x480 with 0 Axes>"
      ]
     },
     "metadata": {},
     "output_type": "display_data"
    }
   ],
   "source": [
    "import matplotlib.pyplot as plt\n",
    "import numpy as np\n",
    "import pandas as pd\n",
    "a=np.array([1,5,6,9,0,5,0])\n",
    "b=np.array([6,4,9,1,3,5,0])\n",
    "\n",
    "plt.subplot([a,b])\n"
   ]
  },
  {
   "cell_type": "markdown",
   "id": "45e5d76f-8b73-4307-a4a3-705ffa79bc38",
   "metadata": {},
   "source": [
    "### Mutation,replication of array"
   ]
  },
  {
   "cell_type": "code",
   "execution_count": 19,
   "id": "3ebd7a9a-c2ab-4823-98e6-4f7a534d8a97",
   "metadata": {},
   "outputs": [
    {
     "name": "stdout",
     "output_type": "stream",
     "text": [
      "original array\n",
      "[2 6 9 7]\n",
      "array after changes made\n",
      "[3 7 9 7]\n",
      "array->b\n",
      "[3 7]\n"
     ]
    }
   ],
   "source": [
    "a=np.array([2,6,9,7])\n",
    "print(\"original array\")\n",
    "print(a)\n",
    "b=a[:2]\n",
    "b+=1\n",
    "print(\"array after changes made\")\n",
    "print(a)\n",
    "print(\"array->b\")\n",
    "print(b)"
   ]
  },
  {
   "cell_type": "code",
   "execution_count": 22,
   "id": "c7c3c006-4a15-4347-befd-ab8a3286b23a",
   "metadata": {},
   "outputs": [
    {
     "data": {
      "text/plain": [
       "array([[1., 1., 1., 1.],\n",
       "       [1., 1., 1., 1.],\n",
       "       [0., 0., 1., 0.],\n",
       "       [0., 0., 0., 2.]])"
      ]
     },
     "execution_count": 22,
     "metadata": {},
     "output_type": "execute_result"
    }
   ],
   "source": [
    "# joining 4   (2 by 2) arrays into big 4x4 array\n",
    "# using block method\n",
    "A=np.ones((2,2))\n",
    "B=np.ones((2,2))\n",
    "C=np.zeros((2,2))\n",
    "D=np.diag((1,2))\n",
    "np.block([[A,B],[C,D]])"
   ]
  },
  {
   "cell_type": "code",
   "execution_count": 25,
   "id": "73a2fd26-ffcb-4b2b-9a94-0b9fffb67f0e",
   "metadata": {},
   "outputs": [
    {
     "data": {
      "text/plain": [
       "array([[1., 1.],\n",
       "       [1., 1.]])"
      ]
     },
     "execution_count": 25,
     "metadata": {},
     "output_type": "execute_result"
    }
   ],
   "source": [
    "# brief summary\n",
    "A=np.ones((2,2))\n",
    "A"
   ]
  },
  {
   "cell_type": "code",
   "execution_count": 27,
   "id": "f208aa43-6046-4a0a-a0a9-bd260060f8ec",
   "metadata": {},
   "outputs": [
    {
     "data": {
      "text/plain": [
       "array([[1., 0.],\n",
       "       [0., 1.]])"
      ]
     },
     "execution_count": 27,
     "metadata": {},
     "output_type": "execute_result"
    }
   ],
   "source": [
    "B=np.eye(2,2)\n",
    "B\n",
    "# eye- returns 1 at diagonal and 0 at  other places"
   ]
  },
  {
   "cell_type": "code",
   "execution_count": 29,
   "id": "e775dacb-2566-4a04-85c7-f94cf6c0a176",
   "metadata": {},
   "outputs": [
    {
     "data": {
      "text/plain": [
       "array([[1., 0., 0., 0., 0.],\n",
       "       [0., 1., 0., 0., 0.],\n",
       "       [0., 0., 1., 0., 0.],\n",
       "       [0., 0., 0., 1., 0.]])"
      ]
     },
     "execution_count": 29,
     "metadata": {},
     "output_type": "execute_result"
    }
   ],
   "source": [
    "# another eye example\n",
    "K=np.eye(4,5)\n",
    "K"
   ]
  },
  {
   "cell_type": "code",
   "execution_count": 31,
   "id": "0acefe25-3c83-4e73-9662-c2db747ae7cb",
   "metadata": {},
   "outputs": [
    {
     "data": {
      "text/plain": [
       "array([[0., 0.],\n",
       "       [0., 0.]])"
      ]
     },
     "execution_count": 31,
     "metadata": {},
     "output_type": "execute_result"
    }
   ],
   "source": [
    "C=np.zeros((2,2))\n",
    "C"
   ]
  },
  {
   "cell_type": "code",
   "execution_count": 32,
   "id": "0a3cc27d-475d-4c82-bf5c-47d9f6b133a2",
   "metadata": {},
   "outputs": [
    {
     "data": {
      "text/plain": [
       "array([[-3,  0],\n",
       "       [ 0, -4]])"
      ]
     },
     "execution_count": 32,
     "metadata": {},
     "output_type": "execute_result"
    }
   ],
   "source": [
    "D=np.diag((-3,-4))\n",
    "D"
   ]
  },
  {
   "cell_type": "code",
   "execution_count": null,
   "id": "f7400c54-f837-461b-85f7-93d4598f0b3e",
   "metadata": {},
   "outputs": [],
   "source": []
  }
 ],
 "metadata": {
  "kernelspec": {
   "display_name": "Python 3 (ipykernel)",
   "language": "python",
   "name": "python3"
  },
  "language_info": {
   "codemirror_mode": {
    "name": "ipython",
    "version": 3
   },
   "file_extension": ".py",
   "mimetype": "text/x-python",
   "name": "python",
   "nbconvert_exporter": "python",
   "pygments_lexer": "ipython3",
   "version": "3.12.4"
  }
 },
 "nbformat": 4,
 "nbformat_minor": 5
}
