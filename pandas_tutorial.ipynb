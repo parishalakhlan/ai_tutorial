{
 "cells": [
  {
   "cell_type": "code",
   "execution_count": 2,
   "id": "47d59a5c-62a4-407a-adcc-456184c49a40",
   "metadata": {},
   "outputs": [
    {
     "name": "stdout",
     "output_type": "stream",
     "text": [
      "   a   b\n",
      "0  1  gh\n",
      "1  2  we\n",
      "2  5  er\n"
     ]
    }
   ],
   "source": [
    "import pandas as pd \n",
    "dii={\n",
    "    'a':['1','2','5'],\n",
    "     'b':['gh','we','er']}\n",
    "hii=pd.DataFrame(dii)\n",
    "print(hii)"
   ]
  },
  {
   "cell_type": "code",
   "execution_count": 30,
   "id": "e20140f2-84f0-411f-827b-e8c03686b76f",
   "metadata": {},
   "outputs": [
    {
     "name": "stdout",
     "output_type": "stream",
     "text": [
      "      Name Age Sex\n",
      "0  Parisha  12   F\n",
      "1   Khushi  13   F\n",
      "2     Diya  17   F\n",
      "3    Manya  18   F\n",
      "4   Shreya  19   F\n"
     ]
    }
   ],
   "source": [
    "# importing package\n",
    "import pandas as pd\n",
    "# creating dictionary\n",
    "info={\n",
    "  'Name':['Parisha','Khushi','Diya','Manya','Shreya'],\n",
    "    'Age':['12','13','17','18','19'],\n",
    "    'Sex':['F','F','F','F','F']\n",
    "}\n",
    "# creating dataframe \n",
    "df=pd.DataFrame(info)\n",
    "print(df)"
   ]
  },
  {
   "cell_type": "code",
   "execution_count": 32,
   "id": "bd09e837-447d-44bf-b52e-022454603fae",
   "metadata": {},
   "outputs": [
    {
     "name": "stdout",
     "output_type": "stream",
     "text": [
      "Name    [Parisha, Khushi, Diya, Manya, Shreya]\n",
      "Age                       [12, 13, 17, 18, 19]\n",
      "Sex                            [F, F, F, F, F]\n",
      "dtype: object\n"
     ]
    }
   ],
   "source": [
    "# prinitng series \n",
    "sr=pd.Series(info)\n",
    "print(sr)"
   ]
  },
  {
   "cell_type": "code",
   "execution_count": 10,
   "id": "ef0597b9-3998-4add-9e11-12a20d929986",
   "metadata": {},
   "outputs": [
    {
     "name": "stdout",
     "output_type": "stream",
     "text": [
      "['12', '13', '17', '18', '19']\n"
     ]
    }
   ],
   "source": [
    "# print particular column\n",
    "print(info['Age'])"
   ]
  },
  {
   "cell_type": "code",
   "execution_count": 12,
   "id": "792d3908-8bd9-47d3-8b09-75c19d8b5b60",
   "metadata": {},
   "outputs": [
    {
     "name": "stdout",
     "output_type": "stream",
     "text": [
      "0      1\n",
      "1    214\n",
      "2     16\n",
      "3     21\n",
      "4     23\n",
      "Name: st_age, dtype: int64\n"
     ]
    }
   ],
   "source": [
    "# creating series implicitly\n",
    "ages=pd.Series([1,214,16,21,23],name='st_age')\n",
    "print(ages)"
   ]
  },
  {
   "cell_type": "code",
   "execution_count": 24,
   "id": "03e24a1b-a0d7-406b-bf9a-8b0859e15103",
   "metadata": {},
   "outputs": [
    {
     "name": "stdout",
     "output_type": "stream",
     "text": [
      "maxm:  19\n",
      "minm:   12\n"
     ]
    }
   ],
   "source": [
    "# max min of data\n",
    "ds=df['Age'].max()\n",
    "print(\"maxm: \",ds)\n",
    "se=df['Age'].min()\n",
    "print(\"minm:  \",se)"
   ]
  },
  {
   "cell_type": "code",
   "execution_count": 34,
   "id": "79170aeb-f07b-4368-b862-47a428670bba",
   "metadata": {},
   "outputs": [
    {
     "name": "stdout",
     "output_type": "stream",
     "text": [
      "overview:            Name Age Sex\n",
      "count         5   5   5\n",
      "unique        5   5   1\n",
      "top     Parisha  12   F\n",
      "freq          1   1   5\n"
     ]
    }
   ],
   "source": [
    "# describe() function gives overview of numerical data in dataframe \n",
    "print(\"overview:\",df.describe())\n",
    "# giving all data about how many entries for each column , no. of unique entries"
   ]
  },
  {
   "cell_type": "markdown",
   "id": "ad99e661-6a6d-4f4a-b3cb-e558ef18950a",
   "metadata": {},
   "source": [
    "# importing csv file"
   ]
  },
  {
   "cell_type": "code",
   "execution_count": 4,
   "id": "04a9fc93-c6fa-4466-9bd4-8cbb114aef87",
   "metadata": {},
   "outputs": [
    {
     "name": "stdout",
     "output_type": "stream",
     "text": [
      "     MinTemp  MaxTemp  Rainfall  Evaporation  Sunshine WindGustDir  \\\n",
      "0        8.0     24.3       0.0          3.4       6.3          NW   \n",
      "1       14.0     26.9       3.6          4.4       9.7         ENE   \n",
      "2       13.7     23.4       3.6          5.8       3.3          NW   \n",
      "3       13.3     15.5      39.8          7.2       9.1          NW   \n",
      "4        7.6     16.1       2.8          5.6      10.6         SSE   \n",
      "..       ...      ...       ...          ...       ...         ...   \n",
      "361      9.0     30.7       0.0          7.6      12.1         NNW   \n",
      "362      7.1     28.4       0.0         11.6      12.7           N   \n",
      "363     12.5     19.9       0.0          8.4       5.3         ESE   \n",
      "364     12.5     26.9       0.0          5.0       7.1          NW   \n",
      "365     12.3     30.2       0.0          6.0      12.6          NW   \n",
      "\n",
      "     WindGustSpeed WindDir9am WindDir3pm  WindSpeed9am  ...  Humidity3pm  \\\n",
      "0             30.0         SW         NW           6.0  ...           29   \n",
      "1             39.0          E          W           4.0  ...           36   \n",
      "2             85.0          N        NNE           6.0  ...           69   \n",
      "3             54.0        WNW          W          30.0  ...           56   \n",
      "4             50.0        SSE        ESE          20.0  ...           49   \n",
      "..             ...        ...        ...           ...  ...          ...   \n",
      "361           76.0        SSE         NW           7.0  ...           15   \n",
      "362           48.0        NNW        NNW           2.0  ...           22   \n",
      "363           43.0        ENE        ENE          11.0  ...           47   \n",
      "364           46.0        SSW        WNW           6.0  ...           39   \n",
      "365           78.0         NW        WNW          31.0  ...           13   \n",
      "\n",
      "     Pressure9am  Pressure3pm  Cloud9am  Cloud3pm  Temp9am  Temp3pm  \\\n",
      "0         1019.7       1015.0         7         7     14.4     23.6   \n",
      "1         1012.4       1008.4         5         3     17.5     25.7   \n",
      "2         1009.5       1007.2         8         7     15.4     20.2   \n",
      "3         1005.5       1007.0         2         7     13.5     14.1   \n",
      "4         1018.3       1018.5         7         7     11.1     15.4   \n",
      "..           ...          ...       ...       ...      ...      ...   \n",
      "361       1016.1       1010.8         1         3     20.4     30.0   \n",
      "362       1020.0       1016.9         0         1     17.2     28.2   \n",
      "363       1024.0       1022.8         3         2     14.5     18.3   \n",
      "364       1021.0       1016.2         6         7     15.8     25.9   \n",
      "365       1009.6       1009.2         1         1     23.8     28.6   \n",
      "\n",
      "     RainToday  RISK_MM RainTomorrow  \n",
      "0           No      3.6          Yes  \n",
      "1          Yes      3.6          Yes  \n",
      "2          Yes     39.8          Yes  \n",
      "3          Yes      2.8          Yes  \n",
      "4          Yes      0.0           No  \n",
      "..         ...      ...          ...  \n",
      "361         No      0.0           No  \n",
      "362         No      0.0           No  \n",
      "363         No      0.0           No  \n",
      "364         No      0.0           No  \n",
      "365         No      0.0           No  \n",
      "\n",
      "[366 rows x 22 columns]\n"
     ]
    }
   ],
   "source": [
    "import pandas as pd \n",
    "fg=pd.read_csv(\"weather.csv\")\n",
    "gh=pd.DataFrame(fg)\n",
    "print(gh)\n",
    "# got everything in dataframe form columns containing the info "
   ]
  },
  {
   "cell_type": "code",
   "execution_count": 6,
   "id": "dda5243c-aca2-438f-856f-057e5d206e96",
   "metadata": {},
   "outputs": [
    {
     "name": "stdout",
     "output_type": "stream",
     "text": [
      "0       No\n",
      "1      Yes\n",
      "2      Yes\n",
      "3      Yes\n",
      "4      Yes\n",
      "      ... \n",
      "361     No\n",
      "362     No\n",
      "363     No\n",
      "364     No\n",
      "365     No\n",
      "Name: RainToday, Length: 366, dtype: object\n"
     ]
    }
   ],
   "source": [
    "# printing a particular column- RainToday\n",
    "print(gh['RainToday'])"
   ]
  },
  {
   "cell_type": "code",
   "execution_count": 5,
   "id": "9a4ff14f-6b58-4103-8eee-99d365122f78",
   "metadata": {},
   "outputs": [
    {
     "name": "stdout",
     "output_type": "stream",
     "text": [
      "max of RainToday:  39.8\n",
      "min of RainToday:  0.0\n"
     ]
    }
   ],
   "source": [
    "# getting min,max of particular column\n",
    "print(\"max of RainToday: \",gh['RISK_MM'].max())\n",
    "print(\"min of RainToday: \",gh['RISK_MM'].min())"
   ]
  },
  {
   "cell_type": "code",
   "execution_count": 7,
   "id": "23254a44-2591-4787-bdbe-98a107ad40c0",
   "metadata": {},
   "outputs": [
    {
     "name": "stdout",
     "output_type": "stream",
     "text": [
      "first three columns:  0    24.3\n",
      "1    26.9\n",
      "2    23.4\n",
      "Name: MaxTemp, dtype: float64\n",
      "\n",
      "\n",
      " columns:  0    24.3\n",
      "1    26.9\n",
      "2    23.4\n",
      "3    15.5\n",
      "4    16.1\n",
      "Name: MaxTemp, dtype: float64\n"
     ]
    }
   ],
   "source": [
    "# head- to specify first n rows of particlular column \n",
    "# head(n)- specify first n  rows of particular columns \n",
    "max_temp=gh['MaxTemp']\n",
    "print(\"first three columns: \", max_temp.head(3))\n",
    "print(\"\\n\")\n",
    "print(\" columns: \",max_temp.head())"
   ]
  },
  {
   "cell_type": "code",
   "execution_count": 9,
   "id": "f2f7b111-50da-44c4-a978-40b96cab46af",
   "metadata": {},
   "outputs": [
    {
     "name": "stdout",
     "output_type": "stream",
     "text": [
      "<class 'pandas.core.series.Series'>\n"
     ]
    }
   ],
   "source": [
    "# type of particular column\n",
    "print(type(gh['RainTomorrow']))\n",
    "#each column in pandas dataframe  is series\n",
    "# if a single column is selected then returned object is series\n"
   ]
  },
  {
   "cell_type": "code",
   "execution_count": 11,
   "id": "d7f3105f-961e-442f-977e-46ba5f344798",
   "metadata": {},
   "outputs": [
    {
     "name": "stdout",
     "output_type": "stream",
     "text": [
      "(366,)\n"
     ]
    }
   ],
   "source": [
    "# shape of output\n",
    "# return (rows,column)\n",
    "# here series is 1-d hence returned (366,) i,e 366 rows in one column\n",
    "print(gh['RainTomorrow'].shape)"
   ]
  },
  {
   "cell_type": "code",
   "execution_count": 23,
   "id": "506f71e8-d0aa-4c1c-a620-0f678298d475",
   "metadata": {},
   "outputs": [
    {
     "name": "stdout",
     "output_type": "stream",
     "text": [
      "   MinTemp  MaxTemp\n",
      "0      8.0     24.3\n",
      "1     14.0     26.9\n",
      "2     13.7     23.4\n",
      "3     13.3     15.5\n",
      "4      7.6     16.1\n"
     ]
    }
   ],
   "source": [
    "# getting head for more than 1 column\n",
    "min_max_temp=gh[['MinTemp','MaxTemp']]\n",
    "print(min_max_temp.head())"
   ]
  },
  {
   "cell_type": "code",
   "execution_count": 25,
   "id": "a241c55a-b5ca-44c6-b93e-0f0deadde8df",
   "metadata": {},
   "outputs": [
    {
     "name": "stdout",
     "output_type": "stream",
     "text": [
      "   Rainfall  Evaporation  Sunshine\n",
      "0       0.0          3.4       6.3\n",
      "1       3.6          4.4       9.7\n",
      "2       3.6          5.8       3.3\n",
      "3      39.8          7.2       9.1\n",
      "4       2.8          5.6      10.6\n",
      "\n",
      "\n",
      "<class 'pandas.core.frame.DataFrame'>\n"
     ]
    }
   ],
   "source": [
    "# getting head for three columns\n",
    "#innner sq. brackets define python list with column names\n",
    "#outer brackets select info from gh dataframe \n",
    "mmm=gh[['Rainfall','Evaporation','Sunshine']]\n",
    "print(mmm.head())\n",
    "# getting type viz dataframe cuz above columns are part of dataframe \n",
    "# getting shape , return (row,column) as dataframe is (row,column) is 2-d\n",
    "\n",
    "print(\"\\n\")\n",
    "print(type(gh[['Rainfall','Evaporation','Sunshine']]))"
   ]
  },
  {
   "cell_type": "code",
   "execution_count": 63,
   "id": "acf0692e-2bc1-44df-91cf-0b83d5153224",
   "metadata": {},
   "outputs": [
    {
     "name": "stdout",
     "output_type": "stream",
     "text": [
      "   MinTemp  MaxTemp  Rainfall  Evaporation  Sunshine WindGustDir  \\\n",
      "0      8.0     24.3       0.0          3.4       6.3          NW   \n",
      "1     14.0     26.9       3.6          4.4       9.7         ENE   \n",
      "3     13.3     15.5      39.8          7.2       9.1          NW   \n",
      "\n",
      "   WindGustSpeed WindDir9am WindDir3pm  WindSpeed9am  ...  Humidity3pm  \\\n",
      "0           30.0         SW         NW           6.0  ...           29   \n",
      "1           39.0          E          W           4.0  ...           36   \n",
      "3           54.0        WNW          W          30.0  ...           56   \n",
      "\n",
      "   Pressure9am  Pressure3pm  Cloud9am  Cloud3pm  Temp9am  Temp3pm  RainToday  \\\n",
      "0       1019.7       1015.0         7         7     14.4     23.6         No   \n",
      "1       1012.4       1008.4         5         3     17.5     25.7        Yes   \n",
      "3       1005.5       1007.0         2         7     13.5     14.1        Yes   \n",
      "\n",
      "   RISK_MM RainTomorrow  \n",
      "0      3.6          Yes  \n",
      "1      3.6          Yes  \n",
      "3      2.8          Yes  \n",
      "\n",
      "[3 rows x 22 columns]\n",
      "\n",
      "\n",
      "\n",
      "0     True\n",
      "1     True\n",
      "2    False\n",
      "3     True\n",
      "4     True\n",
      "Name: Sunshine, dtype: bool\n",
      "\n",
      "\n",
      "\n",
      "shape of column\n",
      "(292, 22)\n"
     ]
    }
   ],
   "source": [
    "# filter the rows \n",
    "# getting whole dataframe according to filtering the rows\n",
    "col_above_5=(gh['Sunshine'])>5  # gives bool value\n",
    "df_above_5=gh[gh['Sunshine']>5]\n",
    "print(df_above_5.head(3))\n",
    "\n",
    "# to get only that column\n",
    "# below code will give bool values for the comparison made above\n",
    "# rather than giving the int values i.e whether above statement\n",
    "# is satisfied by the specific column\n",
    "print(\"\\n\\n\")\n",
    "print(col_above_5.head())\n",
    "print(\"\\n\\n\")\n",
    "print(\"shape of column\")\n",
    "print(df_above_5.shape)"
   ]
  },
  {
   "cell_type": "markdown",
   "id": "b25a2ec0-e75b-4af7-936b-8a8db388a8f7",
   "metadata": {},
   "source": [
    "#### select specific row and column in dataframe\n"
   ]
  },
  {
   "cell_type": "code",
   "execution_count": 13,
   "id": "08ce8c7a-c21c-4608-a4d5-b81241ecc4eb",
   "metadata": {},
   "outputs": [
    {
     "name": "stdout",
     "output_type": "stream",
     "text": [
      "getting different column \n",
      "0    3.4\n",
      "1    4.4\n",
      "3    7.2\n",
      "Name: Evaporation, dtype: float64\n",
      "\n",
      "\n",
      "\n",
      "getting same column \n",
      "0    6.3\n",
      "1    9.7\n",
      "2    3.3\n",
      "Name: Sunshine, dtype: float64\n"
     ]
    }
   ],
   "source": [
    "# use loc() method\n",
    "#before comma part specifies condition for row #\n",
    "#after comma - name of column to print\n",
    "print(\"getting different column \")\n",
    "above_5=gh.loc[gh['Sunshine']>5,'Evaporation']\n",
    "print(above_5.head(3))\n",
    "above_3=gh.loc[gh['Sunshine']>3,'Sunshine']\n",
    "print(\"\\n\\n\")\n",
    "print(\"getting same column \")\n",
    "print(above_3.head(3))"
   ]
  },
  {
   "cell_type": "code",
   "execution_count": 69,
   "id": "9569513a-1e52-468c-94ad-9afd66397b8f",
   "metadata": {},
   "outputs": [
    {
     "name": "stdout",
     "output_type": "stream",
     "text": [
      "0    True\n",
      "1    True\n",
      "2    True\n",
      "Name: MinTemp, dtype: bool\n"
     ]
    }
   ],
   "source": [
    "# not null values- notna()\n",
    "# return bool value,True for each row having non null value\n",
    "min_temp_nona=gh['MinTemp'].notna()\n",
    "print(min_temp_nona.head(3))\n",
    "# can get dataframe using double squares "
   ]
  },
  {
   "cell_type": "code",
   "execution_count": 95,
   "id": "a4bb3a5e-9626-421e-8b28-ecb8e59fca84",
   "metadata": {},
   "outputs": [
    {
     "name": "stdout",
     "output_type": "stream",
     "text": [
      "Empty DataFrame\n",
      "Columns: [MinTemp, MaxTemp, Rainfall, Evaporation, Sunshine, WindGustDir, WindGustSpeed, WindDir9am, WindDir3pm, WindSpeed9am, WindSpeed3pm, Humidity9am, Humidity3pm, Pressure9am, Pressure3pm, Cloud9am, Cloud3pm, Temp9am, Temp3pm, RainToday, RISK_MM, RainTomorrow]\n",
      "Index: []\n",
      "\n",
      "[0 rows x 22 columns]\n"
     ]
    }
   ],
   "source": [
    "# using isin method\n",
    "# return True value for each row where the condition satisfied\n",
    "sunshine_57=gh[gh['MinTemp'].isin([(10,11)])]\n",
    "print(sunshine_57)"
   ]
  },
  {
   "cell_type": "code",
   "execution_count": 15,
   "id": "81e7655f-1db4-4fba-91e1-6d444ca7bb5c",
   "metadata": {},
   "outputs": [
    {
     "data": {
      "text/html": [
       "<div>\n",
       "<style scoped>\n",
       "    .dataframe tbody tr th:only-of-type {\n",
       "        vertical-align: middle;\n",
       "    }\n",
       "\n",
       "    .dataframe tbody tr th {\n",
       "        vertical-align: top;\n",
       "    }\n",
       "\n",
       "    .dataframe thead th {\n",
       "        text-align: right;\n",
       "    }\n",
       "</style>\n",
       "<table border=\"1\" class=\"dataframe\">\n",
       "  <thead>\n",
       "    <tr style=\"text-align: right;\">\n",
       "      <th></th>\n",
       "      <th>Rainfall</th>\n",
       "      <th>Evaporation</th>\n",
       "      <th>Sunshine</th>\n",
       "    </tr>\n",
       "  </thead>\n",
       "  <tbody>\n",
       "    <tr>\n",
       "      <th>9</th>\n",
       "      <td>16.2</td>\n",
       "      <td>5.4</td>\n",
       "      <td>7.7</td>\n",
       "    </tr>\n",
       "    <tr>\n",
       "      <th>10</th>\n",
       "      <td>0.0</td>\n",
       "      <td>4.2</td>\n",
       "      <td>11.9</td>\n",
       "    </tr>\n",
       "    <tr>\n",
       "      <th>11</th>\n",
       "      <td>0.2</td>\n",
       "      <td>7.2</td>\n",
       "      <td>12.5</td>\n",
       "    </tr>\n",
       "    <tr>\n",
       "      <th>12</th>\n",
       "      <td>0.0</td>\n",
       "      <td>7.2</td>\n",
       "      <td>13.0</td>\n",
       "    </tr>\n",
       "    <tr>\n",
       "      <th>13</th>\n",
       "      <td>0.0</td>\n",
       "      <td>6.2</td>\n",
       "      <td>12.4</td>\n",
       "    </tr>\n",
       "    <tr>\n",
       "      <th>14</th>\n",
       "      <td>0.0</td>\n",
       "      <td>8.8</td>\n",
       "      <td>13.1</td>\n",
       "    </tr>\n",
       "    <tr>\n",
       "      <th>15</th>\n",
       "      <td>0.0</td>\n",
       "      <td>8.4</td>\n",
       "      <td>11.1</td>\n",
       "    </tr>\n",
       "    <tr>\n",
       "      <th>16</th>\n",
       "      <td>0.0</td>\n",
       "      <td>7.2</td>\n",
       "      <td>8.4</td>\n",
       "    </tr>\n",
       "    <tr>\n",
       "      <th>17</th>\n",
       "      <td>1.2</td>\n",
       "      <td>7.2</td>\n",
       "      <td>10.1</td>\n",
       "    </tr>\n",
       "    <tr>\n",
       "      <th>18</th>\n",
       "      <td>0.6</td>\n",
       "      <td>7.4</td>\n",
       "      <td>13.0</td>\n",
       "    </tr>\n",
       "    <tr>\n",
       "      <th>19</th>\n",
       "      <td>0.0</td>\n",
       "      <td>8.0</td>\n",
       "      <td>10.4</td>\n",
       "    </tr>\n",
       "    <tr>\n",
       "      <th>20</th>\n",
       "      <td>0.0</td>\n",
       "      <td>8.8</td>\n",
       "      <td>9.5</td>\n",
       "    </tr>\n",
       "    <tr>\n",
       "      <th>21</th>\n",
       "      <td>0.4</td>\n",
       "      <td>9.2</td>\n",
       "      <td>0.0</td>\n",
       "    </tr>\n",
       "    <tr>\n",
       "      <th>22</th>\n",
       "      <td>25.8</td>\n",
       "      <td>2.8</td>\n",
       "      <td>0.6</td>\n",
       "    </tr>\n",
       "    <tr>\n",
       "      <th>23</th>\n",
       "      <td>0.4</td>\n",
       "      <td>1.2</td>\n",
       "      <td>7.5</td>\n",
       "    </tr>\n",
       "    <tr>\n",
       "      <th>24</th>\n",
       "      <td>0.0</td>\n",
       "      <td>4.4</td>\n",
       "      <td>8.1</td>\n",
       "    </tr>\n",
       "  </tbody>\n",
       "</table>\n",
       "</div>"
      ],
      "text/plain": [
       "    Rainfall  Evaporation  Sunshine\n",
       "9       16.2          5.4       7.7\n",
       "10       0.0          4.2      11.9\n",
       "11       0.2          7.2      12.5\n",
       "12       0.0          7.2      13.0\n",
       "13       0.0          6.2      12.4\n",
       "14       0.0          8.8      13.1\n",
       "15       0.0          8.4      11.1\n",
       "16       0.0          7.2       8.4\n",
       "17       1.2          7.2      10.1\n",
       "18       0.6          7.4      13.0\n",
       "19       0.0          8.0      10.4\n",
       "20       0.0          8.8       9.5\n",
       "21       0.4          9.2       0.0\n",
       "22      25.8          2.8       0.6\n",
       "23       0.4          1.2       7.5\n",
       "24       0.0          4.4       8.1"
      ]
     },
     "execution_count": 15,
     "metadata": {},
     "output_type": "execute_result"
    }
   ],
   "source": [
    "#iloc method use for selecting specific rows and column\n",
    "# in loc we've to specify in terms of name#\n",
    "# getting rows from 10 to 25 \n",
    "# column 3 to 5 , indexing starts from 0\n",
    "gh.iloc[9:25,2:5]"
   ]
  },
  {
   "cell_type": "code",
   "execution_count": 21,
   "id": "3439a240-65a3-497c-b53f-210b8001f22c",
   "metadata": {},
   "outputs": [
    {
     "name": "stdout",
     "output_type": "stream",
     "text": [
      "0    4\n",
      "1    4\n",
      "2    4\n",
      "Name: Evaporation, dtype: object\n"
     ]
    }
   ],
   "source": [
    "# specifying value to any columns\n",
    "# important point- value of same datatype(datatype used in column)\n",
    "# must be assigned to column, different datatype give error\n",
    "gh.iloc[0:3,3]=4\n",
    "print(gh.iloc[0:3,3])"
   ]
  },
  {
   "cell_type": "markdown",
   "id": "93058c37-ba86-46ad-bc18-64240c4fd3b7",
   "metadata": {},
   "source": [
    "## using matplotlib in pandas "
   ]
  },
  {
   "cell_type": "code",
   "execution_count": 3,
   "id": "fddeaf35-cb1c-4906-9d3d-7ce2c53ce7df",
   "metadata": {},
   "outputs": [
    {
     "name": "stdout",
     "output_type": "stream",
     "text": [
      "         MaxTemp  Rainfall  Evaporation  Sunshine WindGustDir  WindGustSpeed  \\\n",
      "MinTemp                                                                        \n",
      "8.0         24.3       0.0          3.4       6.3          NW           30.0   \n",
      "14.0        26.9       3.6          4.4       9.7         ENE           39.0   \n",
      "13.7        23.4       3.6          5.8       3.3          NW           85.0   \n",
      "13.3        15.5      39.8          7.2       9.1          NW           54.0   \n",
      "7.6         16.1       2.8          5.6      10.6         SSE           50.0   \n",
      "\n",
      "        WindDir9am WindDir3pm  WindSpeed9am  WindSpeed3pm  ...  Humidity3pm  \\\n",
      "MinTemp                                                    ...                \n",
      "8.0             SW         NW           6.0            20  ...           29   \n",
      "14.0             E          W           4.0            17  ...           36   \n",
      "13.7             N        NNE           6.0             6  ...           69   \n",
      "13.3           WNW          W          30.0            24  ...           56   \n",
      "7.6            SSE        ESE          20.0            28  ...           49   \n",
      "\n",
      "         Pressure9am  Pressure3pm  Cloud9am  Cloud3pm  Temp9am  Temp3pm  \\\n",
      "MinTemp                                                                   \n",
      "8.0           1019.7       1015.0         7         7     14.4     23.6   \n",
      "14.0          1012.4       1008.4         5         3     17.5     25.7   \n",
      "13.7          1009.5       1007.2         8         7     15.4     20.2   \n",
      "13.3          1005.5       1007.0         2         7     13.5     14.1   \n",
      "7.6           1018.3       1018.5         7         7     11.1     15.4   \n",
      "\n",
      "         RainToday RISK_MM  RainTomorrow  \n",
      "MinTemp                                   \n",
      "8.0             No     3.6           Yes  \n",
      "14.0           Yes     3.6           Yes  \n",
      "13.7           Yes    39.8           Yes  \n",
      "13.3           Yes     2.8           Yes  \n",
      "7.6            Yes     0.0            No  \n",
      "\n",
      "[5 rows x 21 columns]\n"
     ]
    }
   ],
   "source": [
    "# import package \n",
    "import matplotlib.pyplot as plt\n",
    "import pandas as pd\n",
    "weather_calc=pd.read_csv(\"weather.csv\",index_col=0) #index col paramater states 1st column is \n",
    "# index of resulting dataset \n",
    "print(weather_calc.head())"
   ]
  },
  {
   "cell_type": "markdown",
   "id": "14d4aa67-f7f2-42a1-9a49-1b9682ac0c6b",
   "metadata": {},
   "source": [
    "weather_calc.plot()\n",
    "# get visula check for data "
   ]
  },
  {
   "cell_type": "code",
   "execution_count": 42,
   "id": "430e843a-b7fc-454e-b7f5-db69ff092d8c",
   "metadata": {},
   "outputs": [
    {
     "data": {
      "text/plain": [
       "<Axes: xlabel='MinTemp'>"
      ]
     },
     "execution_count": 42,
     "metadata": {},
     "output_type": "execute_result"
    },
    {
     "data": {
      "image/png": "[encoded data removed]",
      "text/plain": [
       "<Figure size 640x480 with 1 Axes>"
      ]
     },
     "metadata": {},
     "output_type": "display_data"
    }
   ],
   "source": [
    "# plot particluar col\n",
    "weather_calc['Evaporation'].plot()\n",
    "# all plots are creating vs mintemp i.e mintemp at x axis"
   ]
  },
  {
   "cell_type": "code",
   "execution_count": 46,
   "id": "2e5640d6-7183-4939-93a4-4b4c2b4b5bfe",
   "metadata": {},
   "outputs": [
    {
     "data": {
      "text/plain": [
       "<Axes: xlabel='MinTemp'>"
      ]
     },
     "execution_count": 46,
     "metadata": {},
     "output_type": "execute_result"
    },
    {
     "data": {
      "image/png": "[encoded data removed]",
      "text/plain": [
       "<Figure size 640x480 with 1 Axes>"
      ]
     },
     "metadata": {},
     "output_type": "display_data"
    }
   ],
   "source": [
    "weather_calc['Pressure9am'].plot()"
   ]
  },
  {
   "cell_type": "code",
   "execution_count": 56,
   "id": "15c6955a-e4f1-4472-801f-7299afcf5e6d",
   "metadata": {},
   "outputs": [
    {
     "data": {
      "text/plain": [
       "<Axes: xlabel='Evaporation', ylabel='Pressure9am'>"
      ]
     },
     "execution_count": 56,
     "metadata": {},
     "output_type": "execute_result"
    },
    {
     "data": {
      "image/png": "[encoded data removed]",
      "text/plain": [
       "<Figure size 640x480 with 1 Axes>"
      ]
     },
     "metadata": {},
     "output_type": "display_data"
    }
   ],
   "source": [
    "weather_calc.plot.scatter(x='Evaporation',y='Pressure9am',alpha=0.8)\n",
    "# alpha ranges from 0 to 1 , int value for intensity of graphical object\n"
   ]
  },
  {
   "cell_type": "code",
   "execution_count": 62,
   "id": "3acdb22a-043f-4459-ba25-2c0e16bd748c",
   "metadata": {},
   "outputs": [
    {
     "data": {
      "text/plain": [
       "<Axes: >"
      ]
     },
     "execution_count": 62,
     "metadata": {},
     "output_type": "execute_result"
    },
    {
     "data": {
      "image/png": "[encoded data removed]",
      "text/plain": [
       "<Figure size 640x480 with 1 Axes>"
      ]
     },
     "metadata": {},
     "output_type": "display_data"
    }
   ],
   "source": [
    "# box plot method#3\n",
    "weather_calc.plot.box(x='Evaporation',y='MaxTemp')"
   ]
  },
  {
   "cell_type": "code",
   "execution_count": 16,
   "id": "19a82468-fdea-457d-8570-05a9d69516e3",
   "metadata": {},
   "outputs": [
    {
     "data": {
      "text/plain": [
       "<Axes: >"
      ]
     },
     "execution_count": 16,
     "metadata": {},
     "output_type": "execute_result"
    },
    {
     "data": {
      "image/png": "[encoded data removed]",
      "text/plain": [
       "<Figure size 640x480 with 1 Axes>"
      ]
     },
     "metadata": {},
     "output_type": "display_data"
    }
   ],
   "source": [
    "weather_calc.plot.box()\n",
    "# sctter method needs x and y arguments ,but box method don't need "
   ]
  },
  {
   "cell_type": "code",
   "execution_count": 80,
   "id": "142f66b3-4b04-4262-adb2-faa79971f3ac",
   "metadata": {},
   "outputs": [
    {
     "data": {
      "image/png": "[encoded data removed]",
      "text/plain": [
       "<Figure size 1200x400 with 16 Axes>"
      ]
     },
     "metadata": {},
     "output_type": "display_data"
    }
   ],
   "source": [
    "# plot column in seperate area\n",
    "axs=weather_calc.plot.area(figsize=(12,4),subplots=True)"
   ]
  },
  {
   "cell_type": "code",
   "execution_count": 20,
   "id": "23d0e2db-a8a5-4d73-8f67-d503040d3f07",
   "metadata": {},
   "outputs": [
    {
     "data": {
      "image/png": "[encoded data removed]",
      "text/plain": [
       "<Figure size 1200x400 with 1 Axes>"
      ]
     },
     "metadata": {},
     "output_type": "display_data"
    }
   ],
   "source": [
    "#customize plot\n",
    "fig,axs=plt.subplots(figsize=(12,4))\n",
    "# giving fig size to subplot"
   ]
  },
  {
   "cell_type": "code",
   "execution_count": 22,
   "id": "1dc97503-151f-426b-9de6-b5111832e47a",
   "metadata": {},
   "outputs": [
    {
     "data": {
      "text/plain": [
       "<Axes: xlabel='MinTemp'>"
      ]
     },
     "execution_count": 22,
     "metadata": {},
     "output_type": "execute_result"
    }
   ],
   "source": [
    "# extend\n",
    "weather_calc.plot.area(ax=axs)"
   ]
  },
  {
   "cell_type": "code",
   "execution_count": 94,
   "id": "f7f8f843-888e-4d33-bd99-f2b3a602fe44",
   "metadata": {},
   "outputs": [
    {
     "data": {
      "text/plain": [
       "Text(4.444444444444452, 0.5, 'MinTemp')"
      ]
     },
     "execution_count": 94,
     "metadata": {},
     "output_type": "execute_result"
    }
   ],
   "source": [
    "# set y label \n",
    "axs.set_ylabel('MinTemp')"
   ]
  },
  {
   "cell_type": "code",
   "execution_count": 24,
   "id": "f9ee4ac1-35fe-4b05-9b65-116351817ba9",
   "metadata": {},
   "outputs": [],
   "source": [
    "# save fig\n",
    "fig.savefig('MinTemp.png')"
   ]
  },
  {
   "cell_type": "markdown",
   "id": "0c719290-b7d1-4790-808c-dd6c227f74bf",
   "metadata": {},
   "source": [
    "### working on rows and columns "
   ]
  },
  {
   "cell_type": "code",
   "execution_count": 26,
   "id": "3a90f4f6-471f-4c7b-8954-4bc39472d910",
   "metadata": {},
   "outputs": [
    {
     "name": "stdout",
     "output_type": "stream",
     "text": [
      "         MaxTemp  Rainfall  Evaporation  Sunshine WindGustDir  WindGustSpeed  \\\n",
      "MinTemp                                                                        \n",
      "8.0         24.3       0.0          3.4       6.3          NW           30.0   \n",
      "14.0        26.9       3.6          4.4       9.7         ENE           39.0   \n",
      "13.7        23.4       3.6          5.8       3.3          NW           85.0   \n",
      "13.3        15.5      39.8          7.2       9.1          NW           54.0   \n",
      "7.6         16.1       2.8          5.6      10.6         SSE           50.0   \n",
      "\n",
      "        WindDir9am WindDir3pm  WindSpeed9am  WindSpeed3pm  ...  Pressure9am  \\\n",
      "MinTemp                                                    ...                \n",
      "8.0             SW         NW           6.0            20  ...       1019.7   \n",
      "14.0             E          W           4.0            17  ...       1012.4   \n",
      "13.7             N        NNE           6.0             6  ...       1009.5   \n",
      "13.3           WNW          W          30.0            24  ...       1005.5   \n",
      "7.6            SSE        ESE          20.0            28  ...       1018.3   \n",
      "\n",
      "         Pressure3pm  Cloud9am  Cloud3pm  Temp9am  Temp3pm  RainToday  \\\n",
      "MinTemp                                                                 \n",
      "8.0           1015.0         7         7     14.4     23.6         No   \n",
      "14.0          1008.4         5         3     17.5     25.7        Yes   \n",
      "13.7          1007.2         8         7     15.4     20.2        Yes   \n",
      "13.3          1007.0         2         7     13.5     14.1        Yes   \n",
      "7.6           1018.5         7         7     11.1     15.4        Yes   \n",
      "\n",
      "         RISK_MM RainTomorrow  total_pressure  \n",
      "MinTemp                                        \n",
      "8.0          3.6          Yes          3059.1  \n",
      "14.0         3.6          Yes          3037.2  \n",
      "13.7        39.8          Yes          3028.5  \n",
      "13.3         2.8          Yes          3016.5  \n",
      "7.6          0.0           No          3054.9  \n",
      "\n",
      "[5 rows x 22 columns]\n"
     ]
    }
   ],
   "source": [
    "# adding new column over multiplying coeff to values of any column\n",
    "weather_calc['total_pressure']=weather_calc['Pressure9am']*3\n",
    "print(weather_calc.head())"
   ]
  },
  {
   "cell_type": "code",
   "execution_count": 32,
   "id": "45d0f744-f277-45d8-b2e0-e6b9644c70ae",
   "metadata": {},
   "outputs": [
    {
     "name": "stdout",
     "output_type": "stream",
     "text": [
      "         MaxTemp  Rainfall  Evaporation  Sunshine WindGustDir  WindGustSpeed  \\\n",
      "MinTemp                                                                        \n",
      "8.0         24.3       0.0          3.4       6.3          NW           30.0   \n",
      "14.0        26.9       3.6          4.4       9.7         ENE           39.0   \n",
      "13.7        23.4       3.6          5.8       3.3          NW           85.0   \n",
      "\n",
      "        WindDir9am WindDir3pm  WindSpeed9am  WindSpeed3pm  ...  Pressure3pm  \\\n",
      "MinTemp                                                    ...                \n",
      "8.0             SW         NW           6.0            20  ...       1015.0   \n",
      "14.0             E          W           4.0            17  ...       1008.4   \n",
      "13.7             N        NNE           6.0             6  ...       1007.2   \n",
      "\n",
      "         Cloud9am  Cloud3pm  Temp9am  Temp3pm  RainToday  RISK_MM  \\\n",
      "MinTemp                                                             \n",
      "8.0             7         7     14.4     23.6         No      3.6   \n",
      "14.0            5         3     17.5     25.7        Yes      3.6   \n",
      "13.7            8         7     15.4     20.2        Yes     39.8   \n",
      "\n",
      "         RainTomorrow total_pressure  div_pressure  \n",
      "MinTemp                                             \n",
      "8.0               Yes         3059.1      1.004631  \n",
      "14.0              Yes         3037.2      1.003967  \n",
      "13.7              Yes         3028.5      1.002284  \n",
      "\n",
      "[3 rows x 23 columns]\n"
     ]
    }
   ],
   "source": [
    "# creating new column by dividing two coluns(must be of same dtype)\n",
    "weather_calc['div_pressure']=(weather_calc['Pressure9am']/weather_calc['Pressure3pm'])\n",
    "print(weather_calc.head(3))"
   ]
  },
  {
   "cell_type": "code",
   "execution_count": 34,
   "id": "a0f8e407-c1dd-4645-8118-5fe79ccf9364",
   "metadata": {},
   "outputs": [
    {
     "name": "stdout",
     "output_type": "stream",
     "text": [
      "         MaxTemp  Rain  Evaporation  Sunshine WindGustDir  WindGustSpeed  \\\n",
      "MinTemp                                                                    \n",
      "8.0         24.3   0.0          3.4       6.3          NW           30.0   \n",
      "14.0        26.9   3.6          4.4       9.7         ENE           39.0   \n",
      "13.7        23.4   3.6          5.8       3.3          NW           85.0   \n",
      "\n",
      "        WindDir9am WindDir3pm  WindSpeed9am  WindSpeed3pm  ...  3pmpre  \\\n",
      "MinTemp                                                    ...           \n",
      "8.0             SW         NW           6.0            20  ...  1015.0   \n",
      "14.0             E          W           4.0            17  ...  1008.4   \n",
      "13.7             N        NNE           6.0             6  ...  1007.2   \n",
      "\n",
      "         Cloud9am  Cloud3pm  Temp9am  Temp3pm  RainToday  RISK_MM  \\\n",
      "MinTemp                                                             \n",
      "8.0             7         7     14.4     23.6         No      3.6   \n",
      "14.0            5         3     17.5     25.7        Yes      3.6   \n",
      "13.7            8         7     15.4     20.2        Yes     39.8   \n",
      "\n",
      "         RainTomorrow total_pressure  div_pressure  \n",
      "MinTemp                                             \n",
      "8.0               Yes         3059.1      1.004631  \n",
      "14.0              Yes         3037.2      1.003967  \n",
      "13.7              Yes         3028.5      1.002284  \n",
      "\n",
      "[3 rows x 23 columns]\n"
     ]
    }
   ],
   "source": [
    "# rename column names using rename method\n",
    "weather_calc_rename=weather_calc.rename(\n",
    "    columns={\n",
    "     'Pressure9am':'9ampre',\n",
    "      'Pressure3pm':'3pmpre',\n",
    "        'Rainfall':'Rain'\n",
    "    })\n",
    "print(weather_calc_rename.head(3))"
   ]
  },
  {
   "cell_type": "markdown",
   "id": "cf03eb7a-b0f8-47fd-82ef-34263b26ace0",
   "metadata": {},
   "source": [
    "##### statistics in pandas "
   ]
  },
  {
   "cell_type": "code",
   "execution_count": 6,
   "id": "2f84d3db-aa38-40e1-a018-e2a2465adcc4",
   "metadata": {},
   "outputs": [
    {
     "name": "stdout",
     "output_type": "stream",
     "text": [
      "mean is :  4.521857923497268\n",
      "median is :  4.2\n",
      "mode is :  0    2.2\n",
      "Name: Evaporation, dtype: float64\n"
     ]
    }
   ],
   "source": [
    "# mean , mode ,median\n",
    "print(\"mean is : \",weather_calc['Evaporation'].mean())\n",
    "print(\"median is : \",weather_calc['Evaporation'].median())\n",
    "print(\"mode is : \",weather_calc['Evaporation'].mode())"
   ]
  },
  {
   "cell_type": "code",
   "execution_count": 8,
   "id": "c40edb1a-237e-4083-ae44-65b5114f3565",
   "metadata": {},
   "outputs": [
    {
     "data": {
      "text/html": [
       "<div>\n",
       "<style scoped>\n",
       "    .dataframe tbody tr th:only-of-type {\n",
       "        vertical-align: middle;\n",
       "    }\n",
       "\n",
       "    .dataframe tbody tr th {\n",
       "        vertical-align: top;\n",
       "    }\n",
       "\n",
       "    .dataframe thead th {\n",
       "        text-align: right;\n",
       "    }\n",
       "</style>\n",
       "<table border=\"1\" class=\"dataframe\">\n",
       "  <thead>\n",
       "    <tr style=\"text-align: right;\">\n",
       "      <th></th>\n",
       "      <th>Evaporation</th>\n",
       "      <th>Sunshine</th>\n",
       "    </tr>\n",
       "  </thead>\n",
       "  <tbody>\n",
       "    <tr>\n",
       "      <th>count</th>\n",
       "      <td>366.000000</td>\n",
       "      <td>363.000000</td>\n",
       "    </tr>\n",
       "    <tr>\n",
       "      <th>mean</th>\n",
       "      <td>4.521858</td>\n",
       "      <td>7.909366</td>\n",
       "    </tr>\n",
       "    <tr>\n",
       "      <th>std</th>\n",
       "      <td>2.669383</td>\n",
       "      <td>3.481517</td>\n",
       "    </tr>\n",
       "    <tr>\n",
       "      <th>min</th>\n",
       "      <td>0.200000</td>\n",
       "      <td>0.000000</td>\n",
       "    </tr>\n",
       "    <tr>\n",
       "      <th>25%</th>\n",
       "      <td>2.200000</td>\n",
       "      <td>5.950000</td>\n",
       "    </tr>\n",
       "    <tr>\n",
       "      <th>50%</th>\n",
       "      <td>4.200000</td>\n",
       "      <td>8.600000</td>\n",
       "    </tr>\n",
       "    <tr>\n",
       "      <th>75%</th>\n",
       "      <td>6.400000</td>\n",
       "      <td>10.500000</td>\n",
       "    </tr>\n",
       "    <tr>\n",
       "      <th>max</th>\n",
       "      <td>13.800000</td>\n",
       "      <td>13.600000</td>\n",
       "    </tr>\n",
       "  </tbody>\n",
       "</table>\n",
       "</div>"
      ],
      "text/plain": [
       "       Evaporation    Sunshine\n",
       "count   366.000000  363.000000\n",
       "mean      4.521858    7.909366\n",
       "std       2.669383    3.481517\n",
       "min       0.200000    0.000000\n",
       "25%       2.200000    5.950000\n",
       "50%       4.200000    8.600000\n",
       "75%       6.400000   10.500000\n",
       "max      13.800000   13.600000"
      ]
     },
     "execution_count": 8,
     "metadata": {},
     "output_type": "execute_result"
    }
   ],
   "source": [
    "# describing all statistics for particular column\n",
    "weather_calc[['Evaporation','Sunshine']].describe()"
   ]
  },
  {
   "cell_type": "code",
   "execution_count": 18,
   "id": "02cba629-f5e4-4649-88aa-a3bb171cd2a7",
   "metadata": {},
   "outputs": [
    {
     "ename": "ValueError",
     "evalue": "cannot combine transform and aggregation operations",
     "output_type": "error",
     "traceback": [
      "\u001b[1;31m---------------------------------------------------------------------------\u001b[0m",
      "\u001b[1;31mTypeError\u001b[0m                                 Traceback (most recent call last)",
      "File \u001b[1;32m~\\anaconda3\\Lib\\site-packages\\pandas\\core\\apply.py:385\u001b[0m, in \u001b[0;36mApply.wrap_results_list_like\u001b[1;34m(self, keys, results)\u001b[0m\n\u001b[0;32m    384\u001b[0m \u001b[38;5;28;01mtry\u001b[39;00m:\n\u001b[1;32m--> 385\u001b[0m     \u001b[38;5;28;01mreturn\u001b[39;00m concat(results, keys\u001b[38;5;241m=\u001b[39mkeys, axis\u001b[38;5;241m=\u001b[39m\u001b[38;5;241m1\u001b[39m, sort\u001b[38;5;241m=\u001b[39m\u001b[38;5;28;01mFalse\u001b[39;00m)\n\u001b[0;32m    386\u001b[0m \u001b[38;5;28;01mexcept\u001b[39;00m \u001b[38;5;167;01mTypeError\u001b[39;00m \u001b[38;5;28;01mas\u001b[39;00m err:\n\u001b[0;32m    387\u001b[0m     \u001b[38;5;66;03m# we are concatting non-NDFrame objects,\u001b[39;00m\n\u001b[0;32m    388\u001b[0m     \u001b[38;5;66;03m# e.g. a list of scalars\u001b[39;00m\n",
      "File \u001b[1;32m~\\anaconda3\\Lib\\site-packages\\pandas\\core\\reshape\\concat.py:380\u001b[0m, in \u001b[0;36mconcat\u001b[1;34m(objs, axis, join, ignore_index, keys, levels, names, verify_integrity, sort, copy)\u001b[0m\n\u001b[0;32m    378\u001b[0m     copy \u001b[38;5;241m=\u001b[39m \u001b[38;5;28;01mFalse\u001b[39;00m\n\u001b[1;32m--> 380\u001b[0m op \u001b[38;5;241m=\u001b[39m _Concatenator(\n\u001b[0;32m    381\u001b[0m     objs,\n\u001b[0;32m    382\u001b[0m     axis\u001b[38;5;241m=\u001b[39maxis,\n\u001b[0;32m    383\u001b[0m     ignore_index\u001b[38;5;241m=\u001b[39mignore_index,\n\u001b[0;32m    384\u001b[0m     join\u001b[38;5;241m=\u001b[39mjoin,\n\u001b[0;32m    385\u001b[0m     keys\u001b[38;5;241m=\u001b[39mkeys,\n\u001b[0;32m    386\u001b[0m     levels\u001b[38;5;241m=\u001b[39mlevels,\n\u001b[0;32m    387\u001b[0m     names\u001b[38;5;241m=\u001b[39mnames,\n\u001b[0;32m    388\u001b[0m     verify_integrity\u001b[38;5;241m=\u001b[39mverify_integrity,\n\u001b[0;32m    389\u001b[0m     copy\u001b[38;5;241m=\u001b[39mcopy,\n\u001b[0;32m    390\u001b[0m     sort\u001b[38;5;241m=\u001b[39msort,\n\u001b[0;32m    391\u001b[0m )\n\u001b[0;32m    393\u001b[0m \u001b[38;5;28;01mreturn\u001b[39;00m op\u001b[38;5;241m.\u001b[39mget_result()\n",
      "File \u001b[1;32m~\\anaconda3\\Lib\\site-packages\\pandas\\core\\reshape\\concat.py:446\u001b[0m, in \u001b[0;36m_Concatenator.__init__\u001b[1;34m(self, objs, axis, join, keys, levels, names, ignore_index, verify_integrity, copy, sort)\u001b[0m\n\u001b[0;32m    445\u001b[0m \u001b[38;5;66;03m# figure out what our result ndim is going to be\u001b[39;00m\n\u001b[1;32m--> 446\u001b[0m ndims \u001b[38;5;241m=\u001b[39m \u001b[38;5;28mself\u001b[39m\u001b[38;5;241m.\u001b[39m_get_ndims(objs)\n\u001b[0;32m    447\u001b[0m sample, objs \u001b[38;5;241m=\u001b[39m \u001b[38;5;28mself\u001b[39m\u001b[38;5;241m.\u001b[39m_get_sample_object(objs, ndims, keys, names, levels)\n",
      "File \u001b[1;32m~\\anaconda3\\Lib\\site-packages\\pandas\\core\\reshape\\concat.py:487\u001b[0m, in \u001b[0;36m_Concatenator._get_ndims\u001b[1;34m(self, objs)\u001b[0m\n\u001b[0;32m    483\u001b[0m     msg \u001b[38;5;241m=\u001b[39m (\n\u001b[0;32m    484\u001b[0m         \u001b[38;5;124mf\u001b[39m\u001b[38;5;124m\"\u001b[39m\u001b[38;5;124mcannot concatenate object of type \u001b[39m\u001b[38;5;124m'\u001b[39m\u001b[38;5;132;01m{\u001b[39;00m\u001b[38;5;28mtype\u001b[39m(obj)\u001b[38;5;132;01m}\u001b[39;00m\u001b[38;5;124m'\u001b[39m\u001b[38;5;124m; \u001b[39m\u001b[38;5;124m\"\u001b[39m\n\u001b[0;32m    485\u001b[0m         \u001b[38;5;124m\"\u001b[39m\u001b[38;5;124monly Series and DataFrame objs are valid\u001b[39m\u001b[38;5;124m\"\u001b[39m\n\u001b[0;32m    486\u001b[0m     )\n\u001b[1;32m--> 487\u001b[0m     \u001b[38;5;28;01mraise\u001b[39;00m \u001b[38;5;167;01mTypeError\u001b[39;00m(msg)\n\u001b[0;32m    489\u001b[0m ndims\u001b[38;5;241m.\u001b[39madd(obj\u001b[38;5;241m.\u001b[39mndim)\n",
      "\u001b[1;31mTypeError\u001b[0m: cannot concatenate object of type '<class 'float'>'; only Series and DataFrame objs are valid",
      "\nThe above exception was the direct cause of the following exception:\n",
      "\u001b[1;31mValueError\u001b[0m                                Traceback (most recent call last)",
      "Cell \u001b[1;32mIn[18], line 2\u001b[0m\n\u001b[0;32m      1\u001b[0m \u001b[38;5;66;03m# aggregation method - agg method \u001b[39;00m\n\u001b[1;32m----> 2\u001b[0m hii\u001b[38;5;241m=\u001b[39mweather_calc\u001b[38;5;241m.\u001b[39magg({\n\u001b[0;32m      3\u001b[0m    \u001b[38;5;124m'\u001b[39m\u001b[38;5;124mEvaporation\u001b[39m\u001b[38;5;124m'\u001b[39m:[\u001b[38;5;124m'\u001b[39m\u001b[38;5;124mmin\u001b[39m\u001b[38;5;124m'\u001b[39m,\u001b[38;5;124m'\u001b[39m\u001b[38;5;124mmode\u001b[39m\u001b[38;5;124m'\u001b[39m,\u001b[38;5;124m'\u001b[39m\u001b[38;5;124mcount\u001b[39m\u001b[38;5;124m'\u001b[39m,\u001b[38;5;124m'\u001b[39m\u001b[38;5;124mmean\u001b[39m\u001b[38;5;124m'\u001b[39m,\u001b[38;5;124m'\u001b[39m\u001b[38;5;124mmax\u001b[39m\u001b[38;5;124m'\u001b[39m],\n\u001b[0;32m      4\u001b[0m    \u001b[38;5;124m'\u001b[39m\u001b[38;5;124mSunshine\u001b[39m\u001b[38;5;124m'\u001b[39m:[\u001b[38;5;124m'\u001b[39m\u001b[38;5;124mmin\u001b[39m\u001b[38;5;124m'\u001b[39m,\u001b[38;5;124m'\u001b[39m\u001b[38;5;124mmode\u001b[39m\u001b[38;5;124m'\u001b[39m,\u001b[38;5;124m'\u001b[39m\u001b[38;5;124mcount\u001b[39m\u001b[38;5;124m'\u001b[39m,\u001b[38;5;124m'\u001b[39m\u001b[38;5;124mmax\u001b[39m\u001b[38;5;124m'\u001b[39m,\u001b[38;5;124m'\u001b[39m\u001b[38;5;124mskew\u001b[39m\u001b[38;5;124m'\u001b[39m]\n\u001b[0;32m      5\u001b[0m })\n\u001b[0;32m      6\u001b[0m \u001b[38;5;28mprint\u001b[39m(hii)\n",
      "File \u001b[1;32m~\\anaconda3\\Lib\\site-packages\\pandas\\core\\frame.py:9843\u001b[0m, in \u001b[0;36mDataFrame.aggregate\u001b[1;34m(self, func, axis, *args, **kwargs)\u001b[0m\n\u001b[0;32m   9840\u001b[0m axis \u001b[38;5;241m=\u001b[39m \u001b[38;5;28mself\u001b[39m\u001b[38;5;241m.\u001b[39m_get_axis_number(axis)\n\u001b[0;32m   9842\u001b[0m op \u001b[38;5;241m=\u001b[39m frame_apply(\u001b[38;5;28mself\u001b[39m, func\u001b[38;5;241m=\u001b[39mfunc, axis\u001b[38;5;241m=\u001b[39maxis, args\u001b[38;5;241m=\u001b[39margs, kwargs\u001b[38;5;241m=\u001b[39mkwargs)\n\u001b[1;32m-> 9843\u001b[0m result \u001b[38;5;241m=\u001b[39m op\u001b[38;5;241m.\u001b[39magg()\n\u001b[0;32m   9844\u001b[0m result \u001b[38;5;241m=\u001b[39m reconstruct_and_relabel_result(result, func, \u001b[38;5;241m*\u001b[39m\u001b[38;5;241m*\u001b[39mkwargs)\n\u001b[0;32m   9845\u001b[0m \u001b[38;5;28;01mreturn\u001b[39;00m result\n",
      "File \u001b[1;32m~\\anaconda3\\Lib\\site-packages\\pandas\\core\\apply.py:849\u001b[0m, in \u001b[0;36mFrameApply.agg\u001b[1;34m(self)\u001b[0m\n\u001b[0;32m    847\u001b[0m result \u001b[38;5;241m=\u001b[39m \u001b[38;5;28;01mNone\u001b[39;00m\n\u001b[0;32m    848\u001b[0m \u001b[38;5;28;01mtry\u001b[39;00m:\n\u001b[1;32m--> 849\u001b[0m     result \u001b[38;5;241m=\u001b[39m \u001b[38;5;28msuper\u001b[39m()\u001b[38;5;241m.\u001b[39magg()\n\u001b[0;32m    850\u001b[0m \u001b[38;5;28;01mfinally\u001b[39;00m:\n\u001b[0;32m    851\u001b[0m     \u001b[38;5;28mself\u001b[39m\u001b[38;5;241m.\u001b[39mobj \u001b[38;5;241m=\u001b[39m obj\n",
      "File \u001b[1;32m~\\anaconda3\\Lib\\site-packages\\pandas\\core\\apply.py:175\u001b[0m, in \u001b[0;36mApply.agg\u001b[1;34m(self)\u001b[0m\n\u001b[0;32m    172\u001b[0m     \u001b[38;5;28;01mreturn\u001b[39;00m \u001b[38;5;28mself\u001b[39m\u001b[38;5;241m.\u001b[39mapply_str()\n\u001b[0;32m    174\u001b[0m \u001b[38;5;28;01mif\u001b[39;00m is_dict_like(func):\n\u001b[1;32m--> 175\u001b[0m     \u001b[38;5;28;01mreturn\u001b[39;00m \u001b[38;5;28mself\u001b[39m\u001b[38;5;241m.\u001b[39magg_dict_like()\n\u001b[0;32m    176\u001b[0m \u001b[38;5;28;01melif\u001b[39;00m is_list_like(func):\n\u001b[0;32m    177\u001b[0m     \u001b[38;5;66;03m# we require a list, but not a 'str'\u001b[39;00m\n\u001b[0;32m    178\u001b[0m     \u001b[38;5;28;01mreturn\u001b[39;00m \u001b[38;5;28mself\u001b[39m\u001b[38;5;241m.\u001b[39magg_list_like()\n",
      "File \u001b[1;32m~\\anaconda3\\Lib\\site-packages\\pandas\\core\\apply.py:406\u001b[0m, in \u001b[0;36mApply.agg_dict_like\u001b[1;34m(self)\u001b[0m\n\u001b[0;32m    398\u001b[0m \u001b[38;5;28;01mdef\u001b[39;00m \u001b[38;5;21magg_dict_like\u001b[39m(\u001b[38;5;28mself\u001b[39m) \u001b[38;5;241m-\u001b[39m\u001b[38;5;241m>\u001b[39m DataFrame \u001b[38;5;241m|\u001b[39m Series:\n\u001b[0;32m    399\u001b[0m \u001b[38;5;250m    \u001b[39m\u001b[38;5;124;03m\"\"\"\u001b[39;00m\n\u001b[0;32m    400\u001b[0m \u001b[38;5;124;03m    Compute aggregation in the case of a dict-like argument.\u001b[39;00m\n\u001b[0;32m    401\u001b[0m \n\u001b[1;32m   (...)\u001b[0m\n\u001b[0;32m    404\u001b[0m \u001b[38;5;124;03m    Result of aggregation.\u001b[39;00m\n\u001b[0;32m    405\u001b[0m \u001b[38;5;124;03m    \"\"\"\u001b[39;00m\n\u001b[1;32m--> 406\u001b[0m     \u001b[38;5;28;01mreturn\u001b[39;00m \u001b[38;5;28mself\u001b[39m\u001b[38;5;241m.\u001b[39magg_or_apply_dict_like(op_name\u001b[38;5;241m=\u001b[39m\u001b[38;5;124m\"\u001b[39m\u001b[38;5;124magg\u001b[39m\u001b[38;5;124m\"\u001b[39m)\n",
      "File \u001b[1;32m~\\anaconda3\\Lib\\site-packages\\pandas\\core\\apply.py:739\u001b[0m, in \u001b[0;36mNDFrameApply.agg_or_apply_dict_like\u001b[1;34m(self, op_name)\u001b[0m\n\u001b[0;32m    736\u001b[0m     \u001b[38;5;28;01mraise\u001b[39;00m \u001b[38;5;167;01mNotImplementedError\u001b[39;00m(\u001b[38;5;124m\"\u001b[39m\u001b[38;5;124maxis other than 0 is not supported\u001b[39m\u001b[38;5;124m\"\u001b[39m)\n\u001b[0;32m    738\u001b[0m selection \u001b[38;5;241m=\u001b[39m \u001b[38;5;28;01mNone\u001b[39;00m\n\u001b[1;32m--> 739\u001b[0m result_index, result_data \u001b[38;5;241m=\u001b[39m \u001b[38;5;28mself\u001b[39m\u001b[38;5;241m.\u001b[39mcompute_dict_like(\n\u001b[0;32m    740\u001b[0m     op_name, obj, selection, kwargs\n\u001b[0;32m    741\u001b[0m )\n\u001b[0;32m    742\u001b[0m result \u001b[38;5;241m=\u001b[39m \u001b[38;5;28mself\u001b[39m\u001b[38;5;241m.\u001b[39mwrap_results_dict_like(obj, result_index, result_data)\n\u001b[0;32m    743\u001b[0m \u001b[38;5;28;01mreturn\u001b[39;00m result\n",
      "File \u001b[1;32m~\\anaconda3\\Lib\\site-packages\\pandas\\core\\apply.py:479\u001b[0m, in \u001b[0;36mApply.compute_dict_like\u001b[1;34m(self, op_name, selected_obj, selection, kwargs)\u001b[0m\n\u001b[0;32m    476\u001b[0m         results \u001b[38;5;241m+\u001b[39m\u001b[38;5;241m=\u001b[39m key_data\n\u001b[0;32m    477\u001b[0m \u001b[38;5;28;01melse\u001b[39;00m:\n\u001b[0;32m    478\u001b[0m     \u001b[38;5;66;03m# key used for column selection and output\u001b[39;00m\n\u001b[1;32m--> 479\u001b[0m     results \u001b[38;5;241m=\u001b[39m [\n\u001b[0;32m    480\u001b[0m         \u001b[38;5;28mgetattr\u001b[39m(obj\u001b[38;5;241m.\u001b[39m_gotitem(key, ndim\u001b[38;5;241m=\u001b[39m\u001b[38;5;241m1\u001b[39m), op_name)(how, \u001b[38;5;241m*\u001b[39m\u001b[38;5;241m*\u001b[39mkwargs)\n\u001b[0;32m    481\u001b[0m         \u001b[38;5;28;01mfor\u001b[39;00m key, how \u001b[38;5;129;01min\u001b[39;00m func\u001b[38;5;241m.\u001b[39mitems()\n\u001b[0;32m    482\u001b[0m     ]\n\u001b[0;32m    483\u001b[0m     keys \u001b[38;5;241m=\u001b[39m \u001b[38;5;28mlist\u001b[39m(func\u001b[38;5;241m.\u001b[39mkeys())\n\u001b[0;32m    485\u001b[0m \u001b[38;5;28;01mreturn\u001b[39;00m keys, results\n",
      "File \u001b[1;32m~\\anaconda3\\Lib\\site-packages\\pandas\\core\\apply.py:480\u001b[0m, in \u001b[0;36m<listcomp>\u001b[1;34m(.0)\u001b[0m\n\u001b[0;32m    476\u001b[0m         results \u001b[38;5;241m+\u001b[39m\u001b[38;5;241m=\u001b[39m key_data\n\u001b[0;32m    477\u001b[0m \u001b[38;5;28;01melse\u001b[39;00m:\n\u001b[0;32m    478\u001b[0m     \u001b[38;5;66;03m# key used for column selection and output\u001b[39;00m\n\u001b[0;32m    479\u001b[0m     results \u001b[38;5;241m=\u001b[39m [\n\u001b[1;32m--> 480\u001b[0m         \u001b[38;5;28mgetattr\u001b[39m(obj\u001b[38;5;241m.\u001b[39m_gotitem(key, ndim\u001b[38;5;241m=\u001b[39m\u001b[38;5;241m1\u001b[39m), op_name)(how, \u001b[38;5;241m*\u001b[39m\u001b[38;5;241m*\u001b[39mkwargs)\n\u001b[0;32m    481\u001b[0m         \u001b[38;5;28;01mfor\u001b[39;00m key, how \u001b[38;5;129;01min\u001b[39;00m func\u001b[38;5;241m.\u001b[39mitems()\n\u001b[0;32m    482\u001b[0m     ]\n\u001b[0;32m    483\u001b[0m     keys \u001b[38;5;241m=\u001b[39m \u001b[38;5;28mlist\u001b[39m(func\u001b[38;5;241m.\u001b[39mkeys())\n\u001b[0;32m    485\u001b[0m \u001b[38;5;28;01mreturn\u001b[39;00m keys, results\n",
      "File \u001b[1;32m~\\anaconda3\\Lib\\site-packages\\pandas\\core\\series.py:4610\u001b[0m, in \u001b[0;36mSeries.aggregate\u001b[1;34m(self, func, axis, *args, **kwargs)\u001b[0m\n\u001b[0;32m   4607\u001b[0m     func \u001b[38;5;241m=\u001b[39m \u001b[38;5;28mdict\u001b[39m(kwargs\u001b[38;5;241m.\u001b[39mitems())\n\u001b[0;32m   4609\u001b[0m op \u001b[38;5;241m=\u001b[39m SeriesApply(\u001b[38;5;28mself\u001b[39m, func, args\u001b[38;5;241m=\u001b[39margs, kwargs\u001b[38;5;241m=\u001b[39mkwargs)\n\u001b[1;32m-> 4610\u001b[0m result \u001b[38;5;241m=\u001b[39m op\u001b[38;5;241m.\u001b[39magg()\n\u001b[0;32m   4611\u001b[0m \u001b[38;5;28;01mreturn\u001b[39;00m result\n",
      "File \u001b[1;32m~\\anaconda3\\Lib\\site-packages\\pandas\\core\\apply.py:1212\u001b[0m, in \u001b[0;36mSeriesApply.agg\u001b[1;34m(self)\u001b[0m\n\u001b[0;32m   1211\u001b[0m \u001b[38;5;28;01mdef\u001b[39;00m \u001b[38;5;21magg\u001b[39m(\u001b[38;5;28mself\u001b[39m):\n\u001b[1;32m-> 1212\u001b[0m     result \u001b[38;5;241m=\u001b[39m \u001b[38;5;28msuper\u001b[39m()\u001b[38;5;241m.\u001b[39magg()\n\u001b[0;32m   1213\u001b[0m     \u001b[38;5;28;01mif\u001b[39;00m result \u001b[38;5;129;01mis\u001b[39;00m \u001b[38;5;28;01mNone\u001b[39;00m:\n\u001b[0;32m   1214\u001b[0m         obj \u001b[38;5;241m=\u001b[39m \u001b[38;5;28mself\u001b[39m\u001b[38;5;241m.\u001b[39mobj\n",
      "File \u001b[1;32m~\\anaconda3\\Lib\\site-packages\\pandas\\core\\apply.py:178\u001b[0m, in \u001b[0;36mApply.agg\u001b[1;34m(self)\u001b[0m\n\u001b[0;32m    175\u001b[0m     \u001b[38;5;28;01mreturn\u001b[39;00m \u001b[38;5;28mself\u001b[39m\u001b[38;5;241m.\u001b[39magg_dict_like()\n\u001b[0;32m    176\u001b[0m \u001b[38;5;28;01melif\u001b[39;00m is_list_like(func):\n\u001b[0;32m    177\u001b[0m     \u001b[38;5;66;03m# we require a list, but not a 'str'\u001b[39;00m\n\u001b[1;32m--> 178\u001b[0m     \u001b[38;5;28;01mreturn\u001b[39;00m \u001b[38;5;28mself\u001b[39m\u001b[38;5;241m.\u001b[39magg_list_like()\n\u001b[0;32m    180\u001b[0m \u001b[38;5;28;01mif\u001b[39;00m \u001b[38;5;28mcallable\u001b[39m(func):\n\u001b[0;32m    181\u001b[0m     f \u001b[38;5;241m=\u001b[39m com\u001b[38;5;241m.\u001b[39mget_cython_func(func)\n",
      "File \u001b[1;32m~\\anaconda3\\Lib\\site-packages\\pandas\\core\\apply.py:311\u001b[0m, in \u001b[0;36mApply.agg_list_like\u001b[1;34m(self)\u001b[0m\n\u001b[0;32m    303\u001b[0m \u001b[38;5;28;01mdef\u001b[39;00m \u001b[38;5;21magg_list_like\u001b[39m(\u001b[38;5;28mself\u001b[39m) \u001b[38;5;241m-\u001b[39m\u001b[38;5;241m>\u001b[39m DataFrame \u001b[38;5;241m|\u001b[39m Series:\n\u001b[0;32m    304\u001b[0m \u001b[38;5;250m    \u001b[39m\u001b[38;5;124;03m\"\"\"\u001b[39;00m\n\u001b[0;32m    305\u001b[0m \u001b[38;5;124;03m    Compute aggregation in the case of a list-like argument.\u001b[39;00m\n\u001b[0;32m    306\u001b[0m \n\u001b[1;32m   (...)\u001b[0m\n\u001b[0;32m    309\u001b[0m \u001b[38;5;124;03m    Result of aggregation.\u001b[39;00m\n\u001b[0;32m    310\u001b[0m \u001b[38;5;124;03m    \"\"\"\u001b[39;00m\n\u001b[1;32m--> 311\u001b[0m     \u001b[38;5;28;01mreturn\u001b[39;00m \u001b[38;5;28mself\u001b[39m\u001b[38;5;241m.\u001b[39magg_or_apply_list_like(op_name\u001b[38;5;241m=\u001b[39m\u001b[38;5;124m\"\u001b[39m\u001b[38;5;124magg\u001b[39m\u001b[38;5;124m\"\u001b[39m)\n",
      "File \u001b[1;32m~\\anaconda3\\Lib\\site-packages\\pandas\\core\\apply.py:721\u001b[0m, in \u001b[0;36mNDFrameApply.agg_or_apply_list_like\u001b[1;34m(self, op_name)\u001b[0m\n\u001b[0;32m    718\u001b[0m     \u001b[38;5;28;01mraise\u001b[39;00m \u001b[38;5;167;01mNotImplementedError\u001b[39;00m(\u001b[38;5;124m\"\u001b[39m\u001b[38;5;124maxis other than 0 is not supported\u001b[39m\u001b[38;5;124m\"\u001b[39m)\n\u001b[0;32m    720\u001b[0m keys, results \u001b[38;5;241m=\u001b[39m \u001b[38;5;28mself\u001b[39m\u001b[38;5;241m.\u001b[39mcompute_list_like(op_name, obj, kwargs)\n\u001b[1;32m--> 721\u001b[0m result \u001b[38;5;241m=\u001b[39m \u001b[38;5;28mself\u001b[39m\u001b[38;5;241m.\u001b[39mwrap_results_list_like(keys, results)\n\u001b[0;32m    722\u001b[0m \u001b[38;5;28;01mreturn\u001b[39;00m result\n",
      "File \u001b[1;32m~\\anaconda3\\Lib\\site-packages\\pandas\\core\\apply.py:393\u001b[0m, in \u001b[0;36mApply.wrap_results_list_like\u001b[1;34m(self, keys, results)\u001b[0m\n\u001b[0;32m    391\u001b[0m result \u001b[38;5;241m=\u001b[39m Series(results, index\u001b[38;5;241m=\u001b[39mkeys, name\u001b[38;5;241m=\u001b[39mobj\u001b[38;5;241m.\u001b[39mname)\n\u001b[0;32m    392\u001b[0m \u001b[38;5;28;01mif\u001b[39;00m is_nested_object(result):\n\u001b[1;32m--> 393\u001b[0m     \u001b[38;5;28;01mraise\u001b[39;00m \u001b[38;5;167;01mValueError\u001b[39;00m(\n\u001b[0;32m    394\u001b[0m         \u001b[38;5;124m\"\u001b[39m\u001b[38;5;124mcannot combine transform and aggregation operations\u001b[39m\u001b[38;5;124m\"\u001b[39m\n\u001b[0;32m    395\u001b[0m     ) \u001b[38;5;28;01mfrom\u001b[39;00m \u001b[38;5;21;01merr\u001b[39;00m\n\u001b[0;32m    396\u001b[0m \u001b[38;5;28;01mreturn\u001b[39;00m result\n",
      "\u001b[1;31mValueError\u001b[0m: cannot combine transform and aggregation operations"
     ]
    }
   ],
   "source": [
    "# aggregation method - agg method \n",
    "hii=weather_calc.agg({\n",
    "   'Evaporation':['min','mode','count','mean','max'],\n",
    "   'Sunshine':['min','mode','count','max','skew']\n",
    "})\n",
    "print(hii)"
   ]
  },
  {
   "cell_type": "code",
   "execution_count": 22,
   "id": "ffd565a4-90b5-4272-9aa8-867053933b22",
   "metadata": {},
   "outputs": [
    {
     "ename": "KeyError",
     "evalue": "'WindSpeed3pm'",
     "output_type": "error",
     "traceback": [
      "\u001b[1;31m---------------------------------------------------------------------------\u001b[0m",
      "\u001b[1;31mKeyError\u001b[0m                                  Traceback (most recent call last)",
      "Cell \u001b[1;32mIn[22], line 2\u001b[0m\n\u001b[0;32m      1\u001b[0m \u001b[38;5;66;03m# group by method \u001b[39;00m\n\u001b[1;32m----> 2\u001b[0m weather_calc[[\u001b[38;5;124m'\u001b[39m\u001b[38;5;124mEvaporation\u001b[39m\u001b[38;5;124m'\u001b[39m,\u001b[38;5;124m'\u001b[39m\u001b[38;5;124mSunshine\u001b[39m\u001b[38;5;124m'\u001b[39m]]\u001b[38;5;241m.\u001b[39mgroupby(\u001b[38;5;124m'\u001b[39m\u001b[38;5;124mWindSpeed3pm\u001b[39m\u001b[38;5;124m'\u001b[39m)\u001b[38;5;241m.\u001b[39mmean()\n",
      "File \u001b[1;32m~\\anaconda3\\Lib\\site-packages\\pandas\\core\\frame.py:8869\u001b[0m, in \u001b[0;36mDataFrame.groupby\u001b[1;34m(self, by, axis, level, as_index, sort, group_keys, observed, dropna)\u001b[0m\n\u001b[0;32m   8866\u001b[0m \u001b[38;5;28;01mif\u001b[39;00m level \u001b[38;5;129;01mis\u001b[39;00m \u001b[38;5;28;01mNone\u001b[39;00m \u001b[38;5;129;01mand\u001b[39;00m by \u001b[38;5;129;01mis\u001b[39;00m \u001b[38;5;28;01mNone\u001b[39;00m:\n\u001b[0;32m   8867\u001b[0m     \u001b[38;5;28;01mraise\u001b[39;00m \u001b[38;5;167;01mTypeError\u001b[39;00m(\u001b[38;5;124m\"\u001b[39m\u001b[38;5;124mYou have to supply one of \u001b[39m\u001b[38;5;124m'\u001b[39m\u001b[38;5;124mby\u001b[39m\u001b[38;5;124m'\u001b[39m\u001b[38;5;124m and \u001b[39m\u001b[38;5;124m'\u001b[39m\u001b[38;5;124mlevel\u001b[39m\u001b[38;5;124m'\u001b[39m\u001b[38;5;124m\"\u001b[39m)\n\u001b[1;32m-> 8869\u001b[0m \u001b[38;5;28;01mreturn\u001b[39;00m DataFrameGroupBy(\n\u001b[0;32m   8870\u001b[0m     obj\u001b[38;5;241m=\u001b[39m\u001b[38;5;28mself\u001b[39m,\n\u001b[0;32m   8871\u001b[0m     keys\u001b[38;5;241m=\u001b[39mby,\n\u001b[0;32m   8872\u001b[0m     axis\u001b[38;5;241m=\u001b[39maxis,\n\u001b[0;32m   8873\u001b[0m     level\u001b[38;5;241m=\u001b[39mlevel,\n\u001b[0;32m   8874\u001b[0m     as_index\u001b[38;5;241m=\u001b[39mas_index,\n\u001b[0;32m   8875\u001b[0m     sort\u001b[38;5;241m=\u001b[39msort,\n\u001b[0;32m   8876\u001b[0m     group_keys\u001b[38;5;241m=\u001b[39mgroup_keys,\n\u001b[0;32m   8877\u001b[0m     observed\u001b[38;5;241m=\u001b[39mobserved,\n\u001b[0;32m   8878\u001b[0m     dropna\u001b[38;5;241m=\u001b[39mdropna,\n\u001b[0;32m   8879\u001b[0m )\n",
      "File \u001b[1;32m~\\anaconda3\\Lib\\site-packages\\pandas\\core\\groupby\\groupby.py:1278\u001b[0m, in \u001b[0;36mGroupBy.__init__\u001b[1;34m(self, obj, keys, axis, level, grouper, exclusions, selection, as_index, sort, group_keys, observed, dropna)\u001b[0m\n\u001b[0;32m   1275\u001b[0m \u001b[38;5;28mself\u001b[39m\u001b[38;5;241m.\u001b[39mdropna \u001b[38;5;241m=\u001b[39m dropna\n\u001b[0;32m   1277\u001b[0m \u001b[38;5;28;01mif\u001b[39;00m grouper \u001b[38;5;129;01mis\u001b[39;00m \u001b[38;5;28;01mNone\u001b[39;00m:\n\u001b[1;32m-> 1278\u001b[0m     grouper, exclusions, obj \u001b[38;5;241m=\u001b[39m get_grouper(\n\u001b[0;32m   1279\u001b[0m         obj,\n\u001b[0;32m   1280\u001b[0m         keys,\n\u001b[0;32m   1281\u001b[0m         axis\u001b[38;5;241m=\u001b[39maxis,\n\u001b[0;32m   1282\u001b[0m         level\u001b[38;5;241m=\u001b[39mlevel,\n\u001b[0;32m   1283\u001b[0m         sort\u001b[38;5;241m=\u001b[39msort,\n\u001b[0;32m   1284\u001b[0m         observed\u001b[38;5;241m=\u001b[39m\u001b[38;5;28;01mFalse\u001b[39;00m \u001b[38;5;28;01mif\u001b[39;00m observed \u001b[38;5;129;01mis\u001b[39;00m lib\u001b[38;5;241m.\u001b[39mno_default \u001b[38;5;28;01melse\u001b[39;00m observed,\n\u001b[0;32m   1285\u001b[0m         dropna\u001b[38;5;241m=\u001b[39m\u001b[38;5;28mself\u001b[39m\u001b[38;5;241m.\u001b[39mdropna,\n\u001b[0;32m   1286\u001b[0m     )\n\u001b[0;32m   1288\u001b[0m \u001b[38;5;28;01mif\u001b[39;00m observed \u001b[38;5;129;01mis\u001b[39;00m lib\u001b[38;5;241m.\u001b[39mno_default:\n\u001b[0;32m   1289\u001b[0m     \u001b[38;5;28;01mif\u001b[39;00m \u001b[38;5;28many\u001b[39m(ping\u001b[38;5;241m.\u001b[39m_passed_categorical \u001b[38;5;28;01mfor\u001b[39;00m ping \u001b[38;5;129;01min\u001b[39;00m grouper\u001b[38;5;241m.\u001b[39mgroupings):\n",
      "File \u001b[1;32m~\\anaconda3\\Lib\\site-packages\\pandas\\core\\groupby\\grouper.py:1009\u001b[0m, in \u001b[0;36mget_grouper\u001b[1;34m(obj, key, axis, level, sort, observed, validate, dropna)\u001b[0m\n\u001b[0;32m   1007\u001b[0m         in_axis, level, gpr \u001b[38;5;241m=\u001b[39m \u001b[38;5;28;01mFalse\u001b[39;00m, gpr, \u001b[38;5;28;01mNone\u001b[39;00m\n\u001b[0;32m   1008\u001b[0m     \u001b[38;5;28;01melse\u001b[39;00m:\n\u001b[1;32m-> 1009\u001b[0m         \u001b[38;5;28;01mraise\u001b[39;00m \u001b[38;5;167;01mKeyError\u001b[39;00m(gpr)\n\u001b[0;32m   1010\u001b[0m \u001b[38;5;28;01melif\u001b[39;00m \u001b[38;5;28misinstance\u001b[39m(gpr, Grouper) \u001b[38;5;129;01mand\u001b[39;00m gpr\u001b[38;5;241m.\u001b[39mkey \u001b[38;5;129;01mis\u001b[39;00m \u001b[38;5;129;01mnot\u001b[39;00m \u001b[38;5;28;01mNone\u001b[39;00m:\n\u001b[0;32m   1011\u001b[0m     \u001b[38;5;66;03m# Add key to exclusions\u001b[39;00m\n\u001b[0;32m   1012\u001b[0m     exclusions\u001b[38;5;241m.\u001b[39madd(gpr\u001b[38;5;241m.\u001b[39mkey)\n",
      "\u001b[1;31mKeyError\u001b[0m: 'WindSpeed3pm'"
     ]
    }
   ],
   "source": [
    "# group by method \n",
    "weather_calc[['Evaporation','Sunshine']].groupby('WindSpeed3pm').mean()"
   ]
  },
  {
   "cell_type": "code",
   "execution_count": 24,
   "id": "e610e14b-0c3d-4884-8029-3610defba4b1",
   "metadata": {},
   "outputs": [
    {
     "ename": "TypeError",
     "evalue": "agg function failed [how->mean,dtype->object]",
     "output_type": "error",
     "traceback": [
      "\u001b[1;31m---------------------------------------------------------------------------\u001b[0m",
      "\u001b[1;31mTypeError\u001b[0m                                 Traceback (most recent call last)",
      "File \u001b[1;32m~\\anaconda3\\Lib\\site-packages\\pandas\\core\\groupby\\groupby.py:1874\u001b[0m, in \u001b[0;36mGroupBy._agg_py_fallback\u001b[1;34m(self, how, values, ndim, alt)\u001b[0m\n\u001b[0;32m   1873\u001b[0m \u001b[38;5;28;01mtry\u001b[39;00m:\n\u001b[1;32m-> 1874\u001b[0m     res_values \u001b[38;5;241m=\u001b[39m \u001b[38;5;28mself\u001b[39m\u001b[38;5;241m.\u001b[39mgrouper\u001b[38;5;241m.\u001b[39magg_series(ser, alt, preserve_dtype\u001b[38;5;241m=\u001b[39m\u001b[38;5;28;01mTrue\u001b[39;00m)\n\u001b[0;32m   1875\u001b[0m \u001b[38;5;28;01mexcept\u001b[39;00m \u001b[38;5;167;01mException\u001b[39;00m \u001b[38;5;28;01mas\u001b[39;00m err:\n",
      "File \u001b[1;32m~\\anaconda3\\Lib\\site-packages\\pandas\\core\\groupby\\ops.py:849\u001b[0m, in \u001b[0;36mBaseGrouper.agg_series\u001b[1;34m(self, obj, func, preserve_dtype)\u001b[0m\n\u001b[0;32m    847\u001b[0m     preserve_dtype \u001b[38;5;241m=\u001b[39m \u001b[38;5;28;01mTrue\u001b[39;00m\n\u001b[1;32m--> 849\u001b[0m result \u001b[38;5;241m=\u001b[39m \u001b[38;5;28mself\u001b[39m\u001b[38;5;241m.\u001b[39m_aggregate_series_pure_python(obj, func)\n\u001b[0;32m    851\u001b[0m \u001b[38;5;28;01mif\u001b[39;00m \u001b[38;5;28mlen\u001b[39m(obj) \u001b[38;5;241m==\u001b[39m \u001b[38;5;241m0\u001b[39m \u001b[38;5;129;01mand\u001b[39;00m \u001b[38;5;28mlen\u001b[39m(result) \u001b[38;5;241m==\u001b[39m \u001b[38;5;241m0\u001b[39m \u001b[38;5;129;01mand\u001b[39;00m \u001b[38;5;28misinstance\u001b[39m(obj\u001b[38;5;241m.\u001b[39mdtype, ExtensionDtype):\n",
      "File \u001b[1;32m~\\anaconda3\\Lib\\site-packages\\pandas\\core\\groupby\\ops.py:877\u001b[0m, in \u001b[0;36mBaseGrouper._aggregate_series_pure_python\u001b[1;34m(self, obj, func)\u001b[0m\n\u001b[0;32m    876\u001b[0m \u001b[38;5;28;01mfor\u001b[39;00m i, group \u001b[38;5;129;01min\u001b[39;00m \u001b[38;5;28menumerate\u001b[39m(splitter):\n\u001b[1;32m--> 877\u001b[0m     res \u001b[38;5;241m=\u001b[39m func(group)\n\u001b[0;32m    878\u001b[0m     res \u001b[38;5;241m=\u001b[39m extract_result(res)\n",
      "File \u001b[1;32m~\\anaconda3\\Lib\\site-packages\\pandas\\core\\groupby\\groupby.py:2380\u001b[0m, in \u001b[0;36mGroupBy.mean.<locals>.<lambda>\u001b[1;34m(x)\u001b[0m\n\u001b[0;32m   2377\u001b[0m \u001b[38;5;28;01melse\u001b[39;00m:\n\u001b[0;32m   2378\u001b[0m     result \u001b[38;5;241m=\u001b[39m \u001b[38;5;28mself\u001b[39m\u001b[38;5;241m.\u001b[39m_cython_agg_general(\n\u001b[0;32m   2379\u001b[0m         \u001b[38;5;124m\"\u001b[39m\u001b[38;5;124mmean\u001b[39m\u001b[38;5;124m\"\u001b[39m,\n\u001b[1;32m-> 2380\u001b[0m         alt\u001b[38;5;241m=\u001b[39m\u001b[38;5;28;01mlambda\u001b[39;00m x: Series(x)\u001b[38;5;241m.\u001b[39mmean(numeric_only\u001b[38;5;241m=\u001b[39mnumeric_only),\n\u001b[0;32m   2381\u001b[0m         numeric_only\u001b[38;5;241m=\u001b[39mnumeric_only,\n\u001b[0;32m   2382\u001b[0m     )\n\u001b[0;32m   2383\u001b[0m     \u001b[38;5;28;01mreturn\u001b[39;00m result\u001b[38;5;241m.\u001b[39m__finalize__(\u001b[38;5;28mself\u001b[39m\u001b[38;5;241m.\u001b[39mobj, method\u001b[38;5;241m=\u001b[39m\u001b[38;5;124m\"\u001b[39m\u001b[38;5;124mgroupby\u001b[39m\u001b[38;5;124m\"\u001b[39m)\n",
      "File \u001b[1;32m~\\anaconda3\\Lib\\site-packages\\pandas\\core\\series.py:6225\u001b[0m, in \u001b[0;36mSeries.mean\u001b[1;34m(self, axis, skipna, numeric_only, **kwargs)\u001b[0m\n\u001b[0;32m   6217\u001b[0m \u001b[38;5;129m@doc\u001b[39m(make_doc(\u001b[38;5;124m\"\u001b[39m\u001b[38;5;124mmean\u001b[39m\u001b[38;5;124m\"\u001b[39m, ndim\u001b[38;5;241m=\u001b[39m\u001b[38;5;241m1\u001b[39m))\n\u001b[0;32m   6218\u001b[0m \u001b[38;5;28;01mdef\u001b[39;00m \u001b[38;5;21mmean\u001b[39m(\n\u001b[0;32m   6219\u001b[0m     \u001b[38;5;28mself\u001b[39m,\n\u001b[1;32m   (...)\u001b[0m\n\u001b[0;32m   6223\u001b[0m     \u001b[38;5;241m*\u001b[39m\u001b[38;5;241m*\u001b[39mkwargs,\n\u001b[0;32m   6224\u001b[0m ):\n\u001b[1;32m-> 6225\u001b[0m     \u001b[38;5;28;01mreturn\u001b[39;00m NDFrame\u001b[38;5;241m.\u001b[39mmean(\u001b[38;5;28mself\u001b[39m, axis, skipna, numeric_only, \u001b[38;5;241m*\u001b[39m\u001b[38;5;241m*\u001b[39mkwargs)\n",
      "File \u001b[1;32m~\\anaconda3\\Lib\\site-packages\\pandas\\core\\generic.py:11992\u001b[0m, in \u001b[0;36mNDFrame.mean\u001b[1;34m(self, axis, skipna, numeric_only, **kwargs)\u001b[0m\n\u001b[0;32m  11985\u001b[0m \u001b[38;5;28;01mdef\u001b[39;00m \u001b[38;5;21mmean\u001b[39m(\n\u001b[0;32m  11986\u001b[0m     \u001b[38;5;28mself\u001b[39m,\n\u001b[0;32m  11987\u001b[0m     axis: Axis \u001b[38;5;241m|\u001b[39m \u001b[38;5;28;01mNone\u001b[39;00m \u001b[38;5;241m=\u001b[39m \u001b[38;5;241m0\u001b[39m,\n\u001b[1;32m   (...)\u001b[0m\n\u001b[0;32m  11990\u001b[0m     \u001b[38;5;241m*\u001b[39m\u001b[38;5;241m*\u001b[39mkwargs,\n\u001b[0;32m  11991\u001b[0m ) \u001b[38;5;241m-\u001b[39m\u001b[38;5;241m>\u001b[39m Series \u001b[38;5;241m|\u001b[39m \u001b[38;5;28mfloat\u001b[39m:\n\u001b[1;32m> 11992\u001b[0m     \u001b[38;5;28;01mreturn\u001b[39;00m \u001b[38;5;28mself\u001b[39m\u001b[38;5;241m.\u001b[39m_stat_function(\n\u001b[0;32m  11993\u001b[0m         \u001b[38;5;124m\"\u001b[39m\u001b[38;5;124mmean\u001b[39m\u001b[38;5;124m\"\u001b[39m, nanops\u001b[38;5;241m.\u001b[39mnanmean, axis, skipna, numeric_only, \u001b[38;5;241m*\u001b[39m\u001b[38;5;241m*\u001b[39mkwargs\n\u001b[0;32m  11994\u001b[0m     )\n",
      "File \u001b[1;32m~\\anaconda3\\Lib\\site-packages\\pandas\\core\\generic.py:11949\u001b[0m, in \u001b[0;36mNDFrame._stat_function\u001b[1;34m(self, name, func, axis, skipna, numeric_only, **kwargs)\u001b[0m\n\u001b[0;32m  11947\u001b[0m validate_bool_kwarg(skipna, \u001b[38;5;124m\"\u001b[39m\u001b[38;5;124mskipna\u001b[39m\u001b[38;5;124m\"\u001b[39m, none_allowed\u001b[38;5;241m=\u001b[39m\u001b[38;5;28;01mFalse\u001b[39;00m)\n\u001b[1;32m> 11949\u001b[0m \u001b[38;5;28;01mreturn\u001b[39;00m \u001b[38;5;28mself\u001b[39m\u001b[38;5;241m.\u001b[39m_reduce(\n\u001b[0;32m  11950\u001b[0m     func, name\u001b[38;5;241m=\u001b[39mname, axis\u001b[38;5;241m=\u001b[39maxis, skipna\u001b[38;5;241m=\u001b[39mskipna, numeric_only\u001b[38;5;241m=\u001b[39mnumeric_only\n\u001b[0;32m  11951\u001b[0m )\n",
      "File \u001b[1;32m~\\anaconda3\\Lib\\site-packages\\pandas\\core\\series.py:6133\u001b[0m, in \u001b[0;36mSeries._reduce\u001b[1;34m(self, op, name, axis, skipna, numeric_only, filter_type, **kwds)\u001b[0m\n\u001b[0;32m   6129\u001b[0m     \u001b[38;5;28;01mraise\u001b[39;00m \u001b[38;5;167;01mTypeError\u001b[39;00m(\n\u001b[0;32m   6130\u001b[0m         \u001b[38;5;124mf\u001b[39m\u001b[38;5;124m\"\u001b[39m\u001b[38;5;124mSeries.\u001b[39m\u001b[38;5;132;01m{\u001b[39;00mname\u001b[38;5;132;01m}\u001b[39;00m\u001b[38;5;124m does not allow \u001b[39m\u001b[38;5;132;01m{\u001b[39;00mkwd_name\u001b[38;5;132;01m}\u001b[39;00m\u001b[38;5;124m=\u001b[39m\u001b[38;5;132;01m{\u001b[39;00mnumeric_only\u001b[38;5;132;01m}\u001b[39;00m\u001b[38;5;124m \u001b[39m\u001b[38;5;124m\"\u001b[39m\n\u001b[0;32m   6131\u001b[0m         \u001b[38;5;124m\"\u001b[39m\u001b[38;5;124mwith non-numeric dtypes.\u001b[39m\u001b[38;5;124m\"\u001b[39m\n\u001b[0;32m   6132\u001b[0m     )\n\u001b[1;32m-> 6133\u001b[0m \u001b[38;5;28;01mreturn\u001b[39;00m op(delegate, skipna\u001b[38;5;241m=\u001b[39mskipna, \u001b[38;5;241m*\u001b[39m\u001b[38;5;241m*\u001b[39mkwds)\n",
      "File \u001b[1;32m~\\anaconda3\\Lib\\site-packages\\pandas\\core\\nanops.py:147\u001b[0m, in \u001b[0;36mbottleneck_switch.__call__.<locals>.f\u001b[1;34m(values, axis, skipna, **kwds)\u001b[0m\n\u001b[0;32m    146\u001b[0m \u001b[38;5;28;01melse\u001b[39;00m:\n\u001b[1;32m--> 147\u001b[0m     result \u001b[38;5;241m=\u001b[39m alt(values, axis\u001b[38;5;241m=\u001b[39maxis, skipna\u001b[38;5;241m=\u001b[39mskipna, \u001b[38;5;241m*\u001b[39m\u001b[38;5;241m*\u001b[39mkwds)\n\u001b[0;32m    149\u001b[0m \u001b[38;5;28;01mreturn\u001b[39;00m result\n",
      "File \u001b[1;32m~\\anaconda3\\Lib\\site-packages\\pandas\\core\\nanops.py:404\u001b[0m, in \u001b[0;36m_datetimelike_compat.<locals>.new_func\u001b[1;34m(values, axis, skipna, mask, **kwargs)\u001b[0m\n\u001b[0;32m    402\u001b[0m     mask \u001b[38;5;241m=\u001b[39m isna(values)\n\u001b[1;32m--> 404\u001b[0m result \u001b[38;5;241m=\u001b[39m func(values, axis\u001b[38;5;241m=\u001b[39maxis, skipna\u001b[38;5;241m=\u001b[39mskipna, mask\u001b[38;5;241m=\u001b[39mmask, \u001b[38;5;241m*\u001b[39m\u001b[38;5;241m*\u001b[39mkwargs)\n\u001b[0;32m    406\u001b[0m \u001b[38;5;28;01mif\u001b[39;00m datetimelike:\n",
      "File \u001b[1;32m~\\anaconda3\\Lib\\site-packages\\pandas\\core\\nanops.py:720\u001b[0m, in \u001b[0;36mnanmean\u001b[1;34m(values, axis, skipna, mask)\u001b[0m\n\u001b[0;32m    719\u001b[0m the_sum \u001b[38;5;241m=\u001b[39m values\u001b[38;5;241m.\u001b[39msum(axis, dtype\u001b[38;5;241m=\u001b[39mdtype_sum)\n\u001b[1;32m--> 720\u001b[0m the_sum \u001b[38;5;241m=\u001b[39m _ensure_numeric(the_sum)\n\u001b[0;32m    722\u001b[0m \u001b[38;5;28;01mif\u001b[39;00m axis \u001b[38;5;129;01mis\u001b[39;00m \u001b[38;5;129;01mnot\u001b[39;00m \u001b[38;5;28;01mNone\u001b[39;00m \u001b[38;5;129;01mand\u001b[39;00m \u001b[38;5;28mgetattr\u001b[39m(the_sum, \u001b[38;5;124m\"\u001b[39m\u001b[38;5;124mndim\u001b[39m\u001b[38;5;124m\"\u001b[39m, \u001b[38;5;28;01mFalse\u001b[39;00m):\n",
      "File \u001b[1;32m~\\anaconda3\\Lib\\site-packages\\pandas\\core\\nanops.py:1693\u001b[0m, in \u001b[0;36m_ensure_numeric\u001b[1;34m(x)\u001b[0m\n\u001b[0;32m   1691\u001b[0m \u001b[38;5;28;01mif\u001b[39;00m \u001b[38;5;28misinstance\u001b[39m(x, \u001b[38;5;28mstr\u001b[39m):\n\u001b[0;32m   1692\u001b[0m     \u001b[38;5;66;03m# GH#44008, GH#36703 avoid casting e.g. strings to numeric\u001b[39;00m\n\u001b[1;32m-> 1693\u001b[0m     \u001b[38;5;28;01mraise\u001b[39;00m \u001b[38;5;167;01mTypeError\u001b[39;00m(\u001b[38;5;124mf\u001b[39m\u001b[38;5;124m\"\u001b[39m\u001b[38;5;124mCould not convert string \u001b[39m\u001b[38;5;124m'\u001b[39m\u001b[38;5;132;01m{\u001b[39;00mx\u001b[38;5;132;01m}\u001b[39;00m\u001b[38;5;124m'\u001b[39m\u001b[38;5;124m to numeric\u001b[39m\u001b[38;5;124m\"\u001b[39m)\n\u001b[0;32m   1694\u001b[0m \u001b[38;5;28;01mtry\u001b[39;00m:\n",
      "\u001b[1;31mTypeError\u001b[0m: Could not convert string 'SSENW' to numeric",
      "\nThe above exception was the direct cause of the following exception:\n",
      "\u001b[1;31mTypeError\u001b[0m                                 Traceback (most recent call last)",
      "Cell \u001b[1;32mIn[24], line 1\u001b[0m\n\u001b[1;32m----> 1\u001b[0m weather_calc\u001b[38;5;241m.\u001b[39mgroupby(\u001b[38;5;124m'\u001b[39m\u001b[38;5;124mEvaporation\u001b[39m\u001b[38;5;124m'\u001b[39m)\u001b[38;5;241m.\u001b[39mmean()\n",
      "File \u001b[1;32m~\\anaconda3\\Lib\\site-packages\\pandas\\core\\groupby\\groupby.py:2378\u001b[0m, in \u001b[0;36mGroupBy.mean\u001b[1;34m(self, numeric_only, engine, engine_kwargs)\u001b[0m\n\u001b[0;32m   2371\u001b[0m     \u001b[38;5;28;01mreturn\u001b[39;00m \u001b[38;5;28mself\u001b[39m\u001b[38;5;241m.\u001b[39m_numba_agg_general(\n\u001b[0;32m   2372\u001b[0m         grouped_mean,\n\u001b[0;32m   2373\u001b[0m         executor\u001b[38;5;241m.\u001b[39mfloat_dtype_mapping,\n\u001b[0;32m   2374\u001b[0m         engine_kwargs,\n\u001b[0;32m   2375\u001b[0m         min_periods\u001b[38;5;241m=\u001b[39m\u001b[38;5;241m0\u001b[39m,\n\u001b[0;32m   2376\u001b[0m     )\n\u001b[0;32m   2377\u001b[0m \u001b[38;5;28;01melse\u001b[39;00m:\n\u001b[1;32m-> 2378\u001b[0m     result \u001b[38;5;241m=\u001b[39m \u001b[38;5;28mself\u001b[39m\u001b[38;5;241m.\u001b[39m_cython_agg_general(\n\u001b[0;32m   2379\u001b[0m         \u001b[38;5;124m\"\u001b[39m\u001b[38;5;124mmean\u001b[39m\u001b[38;5;124m\"\u001b[39m,\n\u001b[0;32m   2380\u001b[0m         alt\u001b[38;5;241m=\u001b[39m\u001b[38;5;28;01mlambda\u001b[39;00m x: Series(x)\u001b[38;5;241m.\u001b[39mmean(numeric_only\u001b[38;5;241m=\u001b[39mnumeric_only),\n\u001b[0;32m   2381\u001b[0m         numeric_only\u001b[38;5;241m=\u001b[39mnumeric_only,\n\u001b[0;32m   2382\u001b[0m     )\n\u001b[0;32m   2383\u001b[0m     \u001b[38;5;28;01mreturn\u001b[39;00m result\u001b[38;5;241m.\u001b[39m__finalize__(\u001b[38;5;28mself\u001b[39m\u001b[38;5;241m.\u001b[39mobj, method\u001b[38;5;241m=\u001b[39m\u001b[38;5;124m\"\u001b[39m\u001b[38;5;124mgroupby\u001b[39m\u001b[38;5;124m\"\u001b[39m)\n",
      "File \u001b[1;32m~\\anaconda3\\Lib\\site-packages\\pandas\\core\\groupby\\groupby.py:1929\u001b[0m, in \u001b[0;36mGroupBy._cython_agg_general\u001b[1;34m(self, how, alt, numeric_only, min_count, **kwargs)\u001b[0m\n\u001b[0;32m   1926\u001b[0m     result \u001b[38;5;241m=\u001b[39m \u001b[38;5;28mself\u001b[39m\u001b[38;5;241m.\u001b[39m_agg_py_fallback(how, values, ndim\u001b[38;5;241m=\u001b[39mdata\u001b[38;5;241m.\u001b[39mndim, alt\u001b[38;5;241m=\u001b[39malt)\n\u001b[0;32m   1927\u001b[0m     \u001b[38;5;28;01mreturn\u001b[39;00m result\n\u001b[1;32m-> 1929\u001b[0m new_mgr \u001b[38;5;241m=\u001b[39m data\u001b[38;5;241m.\u001b[39mgrouped_reduce(array_func)\n\u001b[0;32m   1930\u001b[0m res \u001b[38;5;241m=\u001b[39m \u001b[38;5;28mself\u001b[39m\u001b[38;5;241m.\u001b[39m_wrap_agged_manager(new_mgr)\n\u001b[0;32m   1931\u001b[0m out \u001b[38;5;241m=\u001b[39m \u001b[38;5;28mself\u001b[39m\u001b[38;5;241m.\u001b[39m_wrap_aggregated_output(res)\n",
      "File \u001b[1;32m~\\anaconda3\\Lib\\site-packages\\pandas\\core\\internals\\managers.py:1428\u001b[0m, in \u001b[0;36mBlockManager.grouped_reduce\u001b[1;34m(self, func)\u001b[0m\n\u001b[0;32m   1424\u001b[0m \u001b[38;5;28;01mif\u001b[39;00m blk\u001b[38;5;241m.\u001b[39mis_object:\n\u001b[0;32m   1425\u001b[0m     \u001b[38;5;66;03m# split on object-dtype blocks bc some columns may raise\u001b[39;00m\n\u001b[0;32m   1426\u001b[0m     \u001b[38;5;66;03m#  while others do not.\u001b[39;00m\n\u001b[0;32m   1427\u001b[0m     \u001b[38;5;28;01mfor\u001b[39;00m sb \u001b[38;5;129;01min\u001b[39;00m blk\u001b[38;5;241m.\u001b[39m_split():\n\u001b[1;32m-> 1428\u001b[0m         applied \u001b[38;5;241m=\u001b[39m sb\u001b[38;5;241m.\u001b[39mapply(func)\n\u001b[0;32m   1429\u001b[0m         result_blocks \u001b[38;5;241m=\u001b[39m extend_blocks(applied, result_blocks)\n\u001b[0;32m   1430\u001b[0m \u001b[38;5;28;01melse\u001b[39;00m:\n",
      "File \u001b[1;32m~\\anaconda3\\Lib\\site-packages\\pandas\\core\\internals\\blocks.py:366\u001b[0m, in \u001b[0;36mBlock.apply\u001b[1;34m(self, func, **kwargs)\u001b[0m\n\u001b[0;32m    360\u001b[0m \u001b[38;5;129m@final\u001b[39m\n\u001b[0;32m    361\u001b[0m \u001b[38;5;28;01mdef\u001b[39;00m \u001b[38;5;21mapply\u001b[39m(\u001b[38;5;28mself\u001b[39m, func, \u001b[38;5;241m*\u001b[39m\u001b[38;5;241m*\u001b[39mkwargs) \u001b[38;5;241m-\u001b[39m\u001b[38;5;241m>\u001b[39m \u001b[38;5;28mlist\u001b[39m[Block]:\n\u001b[0;32m    362\u001b[0m \u001b[38;5;250m    \u001b[39m\u001b[38;5;124;03m\"\"\"\u001b[39;00m\n\u001b[0;32m    363\u001b[0m \u001b[38;5;124;03m    apply the function to my values; return a block if we are not\u001b[39;00m\n\u001b[0;32m    364\u001b[0m \u001b[38;5;124;03m    one\u001b[39;00m\n\u001b[0;32m    365\u001b[0m \u001b[38;5;124;03m    \"\"\"\u001b[39;00m\n\u001b[1;32m--> 366\u001b[0m     result \u001b[38;5;241m=\u001b[39m func(\u001b[38;5;28mself\u001b[39m\u001b[38;5;241m.\u001b[39mvalues, \u001b[38;5;241m*\u001b[39m\u001b[38;5;241m*\u001b[39mkwargs)\n\u001b[0;32m    368\u001b[0m     result \u001b[38;5;241m=\u001b[39m maybe_coerce_values(result)\n\u001b[0;32m    369\u001b[0m     \u001b[38;5;28;01mreturn\u001b[39;00m \u001b[38;5;28mself\u001b[39m\u001b[38;5;241m.\u001b[39m_split_op_result(result)\n",
      "File \u001b[1;32m~\\anaconda3\\Lib\\site-packages\\pandas\\core\\groupby\\groupby.py:1926\u001b[0m, in \u001b[0;36mGroupBy._cython_agg_general.<locals>.array_func\u001b[1;34m(values)\u001b[0m\n\u001b[0;32m   1923\u001b[0m \u001b[38;5;28;01melse\u001b[39;00m:\n\u001b[0;32m   1924\u001b[0m     \u001b[38;5;28;01mreturn\u001b[39;00m result\n\u001b[1;32m-> 1926\u001b[0m result \u001b[38;5;241m=\u001b[39m \u001b[38;5;28mself\u001b[39m\u001b[38;5;241m.\u001b[39m_agg_py_fallback(how, values, ndim\u001b[38;5;241m=\u001b[39mdata\u001b[38;5;241m.\u001b[39mndim, alt\u001b[38;5;241m=\u001b[39malt)\n\u001b[0;32m   1927\u001b[0m \u001b[38;5;28;01mreturn\u001b[39;00m result\n",
      "File \u001b[1;32m~\\anaconda3\\Lib\\site-packages\\pandas\\core\\groupby\\groupby.py:1878\u001b[0m, in \u001b[0;36mGroupBy._agg_py_fallback\u001b[1;34m(self, how, values, ndim, alt)\u001b[0m\n\u001b[0;32m   1876\u001b[0m     msg \u001b[38;5;241m=\u001b[39m \u001b[38;5;124mf\u001b[39m\u001b[38;5;124m\"\u001b[39m\u001b[38;5;124magg function failed [how->\u001b[39m\u001b[38;5;132;01m{\u001b[39;00mhow\u001b[38;5;132;01m}\u001b[39;00m\u001b[38;5;124m,dtype->\u001b[39m\u001b[38;5;132;01m{\u001b[39;00mser\u001b[38;5;241m.\u001b[39mdtype\u001b[38;5;132;01m}\u001b[39;00m\u001b[38;5;124m]\u001b[39m\u001b[38;5;124m\"\u001b[39m\n\u001b[0;32m   1877\u001b[0m     \u001b[38;5;66;03m# preserve the kind of exception that raised\u001b[39;00m\n\u001b[1;32m-> 1878\u001b[0m     \u001b[38;5;28;01mraise\u001b[39;00m \u001b[38;5;28mtype\u001b[39m(err)(msg) \u001b[38;5;28;01mfrom\u001b[39;00m \u001b[38;5;21;01merr\u001b[39;00m\n\u001b[0;32m   1880\u001b[0m \u001b[38;5;28;01mif\u001b[39;00m ser\u001b[38;5;241m.\u001b[39mdtype \u001b[38;5;241m==\u001b[39m \u001b[38;5;28mobject\u001b[39m:\n\u001b[0;32m   1881\u001b[0m     res_values \u001b[38;5;241m=\u001b[39m res_values\u001b[38;5;241m.\u001b[39mastype(\u001b[38;5;28mobject\u001b[39m, copy\u001b[38;5;241m=\u001b[39m\u001b[38;5;28;01mFalse\u001b[39;00m)\n",
      "\u001b[1;31mTypeError\u001b[0m: agg function failed [how->mean,dtype->object]"
     ]
    }
   ],
   "source": [
    "weather_calc.groupby('Evaporation').mean()"
   ]
  },
  {
   "cell_type": "code",
   "execution_count": 28,
   "id": "4e1aef62-cb00-44f9-ace7-963911565daf",
   "metadata": {},
   "outputs": [
    {
     "name": "stdout",
     "output_type": "stream",
     "text": [
      "Evaporation\n",
      "2.2    21\n",
      "2.8    19\n",
      "1.4    15\n",
      "1.8    14\n",
      "2.6    14\n",
      "Name: count, dtype: int64\n"
     ]
    }
   ],
   "source": [
    "# count number of categories\n",
    "# one value came how mny times\n",
    "hii=weather_calc['Evaporation'].value_counts()\n",
    "print(hii.head())"
   ]
  },
  {
   "cell_type": "code",
   "execution_count": 5,
   "id": "ed052c41-ddd3-40f7-ba62-3d4f99e079d9",
   "metadata": {},
   "outputs": [
    {
     "data": {
      "text/plain": [
       "Evaporation\n",
       "0.2    2\n",
       "0.6    5\n",
       "0.8    4\n",
       "1.0    3\n",
       "1.2    8\n",
       "Name: Evaporation, dtype: int64"
      ]
     },
     "execution_count": 5,
     "metadata": {},
     "output_type": "execute_result"
    }
   ],
   "source": [
    "# size includes NaN values but count excludes missing  values \n",
    "# use dropna method in count_values to include or exclude values\n",
    "#  using count method\n",
    "weather_calc.groupby('Evaporation')['Evaporation'].count().head()\n",
    "# count_values is shortcut of count method"
   ]
  },
  {
   "cell_type": "code",
   "execution_count": 13,
   "id": "fdc1d8ab-433f-44f1-a6da-abaa6355a727",
   "metadata": {},
   "outputs": [
    {
     "name": "stdout",
     "output_type": "stream",
     "text": [
      "sort in ascending order\n"
     ]
    },
    {
     "data": {
      "text/html": [
       "<div>\n",
       "<style scoped>\n",
       "    .dataframe tbody tr th:only-of-type {\n",
       "        vertical-align: middle;\n",
       "    }\n",
       "\n",
       "    .dataframe tbody tr th {\n",
       "        vertical-align: top;\n",
       "    }\n",
       "\n",
       "    .dataframe thead th {\n",
       "        text-align: right;\n",
       "    }\n",
       "</style>\n",
       "<table border=\"1\" class=\"dataframe\">\n",
       "  <thead>\n",
       "    <tr style=\"text-align: right;\">\n",
       "      <th></th>\n",
       "      <th>MaxTemp</th>\n",
       "      <th>Rainfall</th>\n",
       "      <th>Evaporation</th>\n",
       "      <th>Sunshine</th>\n",
       "      <th>WindGustDir</th>\n",
       "      <th>WindGustSpeed</th>\n",
       "      <th>WindDir9am</th>\n",
       "      <th>WindDir3pm</th>\n",
       "      <th>WindSpeed9am</th>\n",
       "      <th>WindSpeed3pm</th>\n",
       "      <th>...</th>\n",
       "      <th>Humidity3pm</th>\n",
       "      <th>Pressure9am</th>\n",
       "      <th>Pressure3pm</th>\n",
       "      <th>Cloud9am</th>\n",
       "      <th>Cloud3pm</th>\n",
       "      <th>Temp9am</th>\n",
       "      <th>Temp3pm</th>\n",
       "      <th>RainToday</th>\n",
       "      <th>RISK_MM</th>\n",
       "      <th>RainTomorrow</th>\n",
       "    </tr>\n",
       "    <tr>\n",
       "      <th>MinTemp</th>\n",
       "      <th></th>\n",
       "      <th></th>\n",
       "      <th></th>\n",
       "      <th></th>\n",
       "      <th></th>\n",
       "      <th></th>\n",
       "      <th></th>\n",
       "      <th></th>\n",
       "      <th></th>\n",
       "      <th></th>\n",
       "      <th></th>\n",
       "      <th></th>\n",
       "      <th></th>\n",
       "      <th></th>\n",
       "      <th></th>\n",
       "      <th></th>\n",
       "      <th></th>\n",
       "      <th></th>\n",
       "      <th></th>\n",
       "      <th></th>\n",
       "      <th></th>\n",
       "    </tr>\n",
       "  </thead>\n",
       "  <tbody>\n",
       "    <tr>\n",
       "      <th>10.2</th>\n",
       "      <td>15.0</td>\n",
       "      <td>4.8</td>\n",
       "      <td>0.2</td>\n",
       "      <td>0.5</td>\n",
       "      <td>NW</td>\n",
       "      <td>46.0</td>\n",
       "      <td>NNW</td>\n",
       "      <td>NW</td>\n",
       "      <td>22.0</td>\n",
       "      <td>17</td>\n",
       "      <td>...</td>\n",
       "      <td>65</td>\n",
       "      <td>1022.9</td>\n",
       "      <td>1022.1</td>\n",
       "      <td>7</td>\n",
       "      <td>7</td>\n",
       "      <td>12.9</td>\n",
       "      <td>13.7</td>\n",
       "      <td>Yes</td>\n",
       "      <td>0.2</td>\n",
       "      <td>No</td>\n",
       "    </tr>\n",
       "    <tr>\n",
       "      <th>10.6</th>\n",
       "      <td>15.1</td>\n",
       "      <td>3.8</td>\n",
       "      <td>0.2</td>\n",
       "      <td>2.6</td>\n",
       "      <td>SSE</td>\n",
       "      <td>41.0</td>\n",
       "      <td>SE</td>\n",
       "      <td>SE</td>\n",
       "      <td>9.0</td>\n",
       "      <td>20</td>\n",
       "      <td>...</td>\n",
       "      <td>65</td>\n",
       "      <td>1028.2</td>\n",
       "      <td>1025.7</td>\n",
       "      <td>8</td>\n",
       "      <td>7</td>\n",
       "      <td>11.5</td>\n",
       "      <td>13.3</td>\n",
       "      <td>Yes</td>\n",
       "      <td>0.0</td>\n",
       "      <td>No</td>\n",
       "    </tr>\n",
       "    <tr>\n",
       "      <th>-1.8</th>\n",
       "      <td>11.5</td>\n",
       "      <td>0.0</td>\n",
       "      <td>0.6</td>\n",
       "      <td>4.7</td>\n",
       "      <td>NNW</td>\n",
       "      <td>41.0</td>\n",
       "      <td>NaN</td>\n",
       "      <td>NNW</td>\n",
       "      <td>0.0</td>\n",
       "      <td>24</td>\n",
       "      <td>...</td>\n",
       "      <td>55</td>\n",
       "      <td>1019.7</td>\n",
       "      <td>1013.9</td>\n",
       "      <td>7</td>\n",
       "      <td>3</td>\n",
       "      <td>1.3</td>\n",
       "      <td>11.0</td>\n",
       "      <td>No</td>\n",
       "      <td>0.0</td>\n",
       "      <td>No</td>\n",
       "    </tr>\n",
       "    <tr>\n",
       "      <th>2.7</th>\n",
       "      <td>16.5</td>\n",
       "      <td>0.0</td>\n",
       "      <td>0.6</td>\n",
       "      <td>8.9</td>\n",
       "      <td>NNW</td>\n",
       "      <td>41.0</td>\n",
       "      <td>SW</td>\n",
       "      <td>NNW</td>\n",
       "      <td>7.0</td>\n",
       "      <td>22</td>\n",
       "      <td>...</td>\n",
       "      <td>51</td>\n",
       "      <td>1021.8</td>\n",
       "      <td>1019.0</td>\n",
       "      <td>5</td>\n",
       "      <td>1</td>\n",
       "      <td>6.7</td>\n",
       "      <td>15.9</td>\n",
       "      <td>No</td>\n",
       "      <td>0.0</td>\n",
       "      <td>No</td>\n",
       "    </tr>\n",
       "    <tr>\n",
       "      <th>4.0</th>\n",
       "      <td>15.9</td>\n",
       "      <td>0.0</td>\n",
       "      <td>0.6</td>\n",
       "      <td>2.0</td>\n",
       "      <td>NNW</td>\n",
       "      <td>17.0</td>\n",
       "      <td>SE</td>\n",
       "      <td>SSE</td>\n",
       "      <td>6.0</td>\n",
       "      <td>7</td>\n",
       "      <td>...</td>\n",
       "      <td>63</td>\n",
       "      <td>1022.5</td>\n",
       "      <td>1019.7</td>\n",
       "      <td>8</td>\n",
       "      <td>7</td>\n",
       "      <td>8.4</td>\n",
       "      <td>14.8</td>\n",
       "      <td>No</td>\n",
       "      <td>4.8</td>\n",
       "      <td>Yes</td>\n",
       "    </tr>\n",
       "  </tbody>\n",
       "</table>\n",
       "<p>5 rows × 21 columns</p>\n",
       "</div>"
      ],
      "text/plain": [
       "         MaxTemp  Rainfall  Evaporation  Sunshine WindGustDir  WindGustSpeed  \\\n",
       "MinTemp                                                                        \n",
       " 10.2       15.0       4.8          0.2       0.5          NW           46.0   \n",
       " 10.6       15.1       3.8          0.2       2.6         SSE           41.0   \n",
       "-1.8        11.5       0.0          0.6       4.7         NNW           41.0   \n",
       " 2.7        16.5       0.0          0.6       8.9         NNW           41.0   \n",
       " 4.0        15.9       0.0          0.6       2.0         NNW           17.0   \n",
       "\n",
       "        WindDir9am WindDir3pm  WindSpeed9am  WindSpeed3pm  ...  Humidity3pm  \\\n",
       "MinTemp                                                    ...                \n",
       " 10.2          NNW         NW          22.0            17  ...           65   \n",
       " 10.6           SE         SE           9.0            20  ...           65   \n",
       "-1.8           NaN        NNW           0.0            24  ...           55   \n",
       " 2.7            SW        NNW           7.0            22  ...           51   \n",
       " 4.0            SE        SSE           6.0             7  ...           63   \n",
       "\n",
       "         Pressure9am  Pressure3pm  Cloud9am  Cloud3pm  Temp9am  Temp3pm  \\\n",
       "MinTemp                                                                   \n",
       " 10.2         1022.9       1022.1         7         7     12.9     13.7   \n",
       " 10.6         1028.2       1025.7         8         7     11.5     13.3   \n",
       "-1.8          1019.7       1013.9         7         3      1.3     11.0   \n",
       " 2.7          1021.8       1019.0         5         1      6.7     15.9   \n",
       " 4.0          1022.5       1019.7         8         7      8.4     14.8   \n",
       "\n",
       "         RainToday RISK_MM  RainTomorrow  \n",
       "MinTemp                                   \n",
       " 10.2          Yes     0.2            No  \n",
       " 10.6          Yes     0.0            No  \n",
       "-1.8            No     0.0            No  \n",
       " 2.7            No     0.0            No  \n",
       " 4.0            No     4.8           Yes  \n",
       "\n",
       "[5 rows x 21 columns]"
      ]
     },
     "execution_count": 13,
     "metadata": {},
     "output_type": "execute_result"
    }
   ],
   "source": [
    "# sort dataframe according to one column \n",
    "# here done in ascending order\n",
    "print(\"sort in ascending order\")\n",
    "weather_calc.sort_values(by='Evaporation').head()\n"
   ]
  },
  {
   "cell_type": "code",
   "execution_count": 15,
   "id": "3f81db73-85be-4e8b-aa8d-6fcb68774cc2",
   "metadata": {},
   "outputs": [
    {
     "name": "stdout",
     "output_type": "stream",
     "text": [
      "sort in descending order\n"
     ]
    },
    {
     "data": {
      "text/html": [
       "<div>\n",
       "<style scoped>\n",
       "    .dataframe tbody tr th:only-of-type {\n",
       "        vertical-align: middle;\n",
       "    }\n",
       "\n",
       "    .dataframe tbody tr th {\n",
       "        vertical-align: top;\n",
       "    }\n",
       "\n",
       "    .dataframe thead th {\n",
       "        text-align: right;\n",
       "    }\n",
       "</style>\n",
       "<table border=\"1\" class=\"dataframe\">\n",
       "  <thead>\n",
       "    <tr style=\"text-align: right;\">\n",
       "      <th></th>\n",
       "      <th>MaxTemp</th>\n",
       "      <th>Rainfall</th>\n",
       "      <th>Evaporation</th>\n",
       "      <th>Sunshine</th>\n",
       "      <th>WindGustDir</th>\n",
       "      <th>WindGustSpeed</th>\n",
       "      <th>WindDir9am</th>\n",
       "      <th>WindDir3pm</th>\n",
       "      <th>WindSpeed9am</th>\n",
       "      <th>WindSpeed3pm</th>\n",
       "      <th>...</th>\n",
       "      <th>Humidity3pm</th>\n",
       "      <th>Pressure9am</th>\n",
       "      <th>Pressure3pm</th>\n",
       "      <th>Cloud9am</th>\n",
       "      <th>Cloud3pm</th>\n",
       "      <th>Temp9am</th>\n",
       "      <th>Temp3pm</th>\n",
       "      <th>RainToday</th>\n",
       "      <th>RISK_MM</th>\n",
       "      <th>RainTomorrow</th>\n",
       "    </tr>\n",
       "    <tr>\n",
       "      <th>MinTemp</th>\n",
       "      <th></th>\n",
       "      <th></th>\n",
       "      <th></th>\n",
       "      <th></th>\n",
       "      <th></th>\n",
       "      <th></th>\n",
       "      <th></th>\n",
       "      <th></th>\n",
       "      <th></th>\n",
       "      <th></th>\n",
       "      <th></th>\n",
       "      <th></th>\n",
       "      <th></th>\n",
       "      <th></th>\n",
       "      <th></th>\n",
       "      <th></th>\n",
       "      <th></th>\n",
       "      <th></th>\n",
       "      <th></th>\n",
       "      <th></th>\n",
       "      <th></th>\n",
       "    </tr>\n",
       "  </thead>\n",
       "  <tbody>\n",
       "    <tr>\n",
       "      <th>20.9</th>\n",
       "      <td>35.7</td>\n",
       "      <td>0.0</td>\n",
       "      <td>13.8</td>\n",
       "      <td>6.9</td>\n",
       "      <td>SW</td>\n",
       "      <td>50.0</td>\n",
       "      <td>E</td>\n",
       "      <td>WNW</td>\n",
       "      <td>4.0</td>\n",
       "      <td>17</td>\n",
       "      <td>...</td>\n",
       "      <td>28</td>\n",
       "      <td>1007.6</td>\n",
       "      <td>1003.0</td>\n",
       "      <td>7</td>\n",
       "      <td>2</td>\n",
       "      <td>23.6</td>\n",
       "      <td>34.0</td>\n",
       "      <td>No</td>\n",
       "      <td>2.0</td>\n",
       "      <td>Yes</td>\n",
       "    </tr>\n",
       "    <tr>\n",
       "      <th>15.9</th>\n",
       "      <td>23.4</td>\n",
       "      <td>0.0</td>\n",
       "      <td>12.6</td>\n",
       "      <td>2.2</td>\n",
       "      <td>ESE</td>\n",
       "      <td>50.0</td>\n",
       "      <td>ESE</td>\n",
       "      <td>ESE</td>\n",
       "      <td>20.0</td>\n",
       "      <td>24</td>\n",
       "      <td>...</td>\n",
       "      <td>55</td>\n",
       "      <td>1016.8</td>\n",
       "      <td>1016.3</td>\n",
       "      <td>8</td>\n",
       "      <td>7</td>\n",
       "      <td>19.2</td>\n",
       "      <td>22.3</td>\n",
       "      <td>No</td>\n",
       "      <td>0.0</td>\n",
       "      <td>No</td>\n",
       "    </tr>\n",
       "    <tr>\n",
       "      <th>16.0</th>\n",
       "      <td>22.8</td>\n",
       "      <td>0.0</td>\n",
       "      <td>12.4</td>\n",
       "      <td>6.0</td>\n",
       "      <td>E</td>\n",
       "      <td>50.0</td>\n",
       "      <td>E</td>\n",
       "      <td>ENE</td>\n",
       "      <td>13.0</td>\n",
       "      <td>19</td>\n",
       "      <td>...</td>\n",
       "      <td>57</td>\n",
       "      <td>1012.3</td>\n",
       "      <td>1012.3</td>\n",
       "      <td>8</td>\n",
       "      <td>6</td>\n",
       "      <td>17.0</td>\n",
       "      <td>21.6</td>\n",
       "      <td>No</td>\n",
       "      <td>0.0</td>\n",
       "      <td>No</td>\n",
       "    </tr>\n",
       "    <tr>\n",
       "      <th>7.1</th>\n",
       "      <td>28.4</td>\n",
       "      <td>0.0</td>\n",
       "      <td>11.6</td>\n",
       "      <td>12.7</td>\n",
       "      <td>N</td>\n",
       "      <td>48.0</td>\n",
       "      <td>NNW</td>\n",
       "      <td>NNW</td>\n",
       "      <td>2.0</td>\n",
       "      <td>19</td>\n",
       "      <td>...</td>\n",
       "      <td>22</td>\n",
       "      <td>1020.0</td>\n",
       "      <td>1016.9</td>\n",
       "      <td>0</td>\n",
       "      <td>1</td>\n",
       "      <td>17.2</td>\n",
       "      <td>28.2</td>\n",
       "      <td>No</td>\n",
       "      <td>0.0</td>\n",
       "      <td>No</td>\n",
       "    </tr>\n",
       "    <tr>\n",
       "      <th>13.8</th>\n",
       "      <td>33.5</td>\n",
       "      <td>0.0</td>\n",
       "      <td>11.4</td>\n",
       "      <td>13.6</td>\n",
       "      <td>NE</td>\n",
       "      <td>31.0</td>\n",
       "      <td>SSE</td>\n",
       "      <td>NE</td>\n",
       "      <td>7.0</td>\n",
       "      <td>9</td>\n",
       "      <td>...</td>\n",
       "      <td>20</td>\n",
       "      <td>1019.2</td>\n",
       "      <td>1015.6</td>\n",
       "      <td>0</td>\n",
       "      <td>1</td>\n",
       "      <td>21.9</td>\n",
       "      <td>32.2</td>\n",
       "      <td>No</td>\n",
       "      <td>0.0</td>\n",
       "      <td>No</td>\n",
       "    </tr>\n",
       "  </tbody>\n",
       "</table>\n",
       "<p>5 rows × 21 columns</p>\n",
       "</div>"
      ],
      "text/plain": [
       "         MaxTemp  Rainfall  Evaporation  Sunshine WindGustDir  WindGustSpeed  \\\n",
       "MinTemp                                                                        \n",
       "20.9        35.7       0.0         13.8       6.9          SW           50.0   \n",
       "15.9        23.4       0.0         12.6       2.2         ESE           50.0   \n",
       "16.0        22.8       0.0         12.4       6.0           E           50.0   \n",
       "7.1         28.4       0.0         11.6      12.7           N           48.0   \n",
       "13.8        33.5       0.0         11.4      13.6          NE           31.0   \n",
       "\n",
       "        WindDir9am WindDir3pm  WindSpeed9am  WindSpeed3pm  ...  Humidity3pm  \\\n",
       "MinTemp                                                    ...                \n",
       "20.9             E        WNW           4.0            17  ...           28   \n",
       "15.9           ESE        ESE          20.0            24  ...           55   \n",
       "16.0             E        ENE          13.0            19  ...           57   \n",
       "7.1            NNW        NNW           2.0            19  ...           22   \n",
       "13.8           SSE         NE           7.0             9  ...           20   \n",
       "\n",
       "         Pressure9am  Pressure3pm  Cloud9am  Cloud3pm  Temp9am  Temp3pm  \\\n",
       "MinTemp                                                                   \n",
       "20.9          1007.6       1003.0         7         2     23.6     34.0   \n",
       "15.9          1016.8       1016.3         8         7     19.2     22.3   \n",
       "16.0          1012.3       1012.3         8         6     17.0     21.6   \n",
       "7.1           1020.0       1016.9         0         1     17.2     28.2   \n",
       "13.8          1019.2       1015.6         0         1     21.9     32.2   \n",
       "\n",
       "         RainToday RISK_MM  RainTomorrow  \n",
       "MinTemp                                   \n",
       "20.9            No     2.0           Yes  \n",
       "15.9            No     0.0            No  \n",
       "16.0            No     0.0            No  \n",
       "7.1             No     0.0            No  \n",
       "13.8            No     0.0            No  \n",
       "\n",
       "[5 rows x 21 columns]"
      ]
     },
     "execution_count": 15,
     "metadata": {},
     "output_type": "execute_result"
    }
   ],
   "source": [
    "print(\"sort in descending order\")\n",
    "weather_calc.sort_values(by='Evaporation',ascending=False).head()"
   ]
  },
  {
   "cell_type": "code",
   "execution_count": 27,
   "id": "9b310ef5-b375-4fcb-8fdb-2578ca5f179d",
   "metadata": {},
   "outputs": [
    {
     "data": {
      "text/html": [
       "<div>\n",
       "<style scoped>\n",
       "    .dataframe tbody tr th:only-of-type {\n",
       "        vertical-align: middle;\n",
       "    }\n",
       "\n",
       "    .dataframe tbody tr th {\n",
       "        vertical-align: top;\n",
       "    }\n",
       "\n",
       "    .dataframe thead th {\n",
       "        text-align: right;\n",
       "    }\n",
       "</style>\n",
       "<table border=\"1\" class=\"dataframe\">\n",
       "  <thead>\n",
       "    <tr style=\"text-align: right;\">\n",
       "      <th></th>\n",
       "      <th>MaxTemp</th>\n",
       "      <th>Rainfall</th>\n",
       "      <th>Evaporation</th>\n",
       "      <th>Sunshine</th>\n",
       "      <th>WindGustDir</th>\n",
       "      <th>WindGustSpeed</th>\n",
       "      <th>WindDir9am</th>\n",
       "      <th>WindDir3pm</th>\n",
       "      <th>WindSpeed9am</th>\n",
       "      <th>WindSpeed3pm</th>\n",
       "      <th>...</th>\n",
       "      <th>Humidity3pm</th>\n",
       "      <th>Pressure9am</th>\n",
       "      <th>Pressure3pm</th>\n",
       "      <th>Cloud9am</th>\n",
       "      <th>Cloud3pm</th>\n",
       "      <th>Temp9am</th>\n",
       "      <th>Temp3pm</th>\n",
       "      <th>RainToday</th>\n",
       "      <th>RISK_MM</th>\n",
       "      <th>RainTomorrow</th>\n",
       "    </tr>\n",
       "    <tr>\n",
       "      <th>MinTemp</th>\n",
       "      <th></th>\n",
       "      <th></th>\n",
       "      <th></th>\n",
       "      <th></th>\n",
       "      <th></th>\n",
       "      <th></th>\n",
       "      <th></th>\n",
       "      <th></th>\n",
       "      <th></th>\n",
       "      <th></th>\n",
       "      <th></th>\n",
       "      <th></th>\n",
       "      <th></th>\n",
       "      <th></th>\n",
       "      <th></th>\n",
       "      <th></th>\n",
       "      <th></th>\n",
       "      <th></th>\n",
       "      <th></th>\n",
       "      <th></th>\n",
       "      <th></th>\n",
       "    </tr>\n",
       "  </thead>\n",
       "  <tbody>\n",
       "  </tbody>\n",
       "</table>\n",
       "<p>0 rows × 21 columns</p>\n",
       "</div>"
      ],
      "text/plain": [
       "Empty DataFrame\n",
       "Columns: [MaxTemp, Rainfall, Evaporation, Sunshine, WindGustDir, WindGustSpeed, WindDir9am, WindDir3pm, WindSpeed9am, WindSpeed3pm, Humidity9am, Humidity3pm, Pressure9am, Pressure3pm, Cloud9am, Cloud3pm, Temp9am, Temp3pm, RainToday, RISK_MM, RainTomorrow]\n",
       "Index: []\n",
       "\n",
       "[0 rows x 21 columns]"
      ]
     },
     "execution_count": 27,
     "metadata": {},
     "output_type": "execute_result"
    }
   ],
   "source": [
    "# Long to wide table format\n",
    "# filter data\n",
    "eva=weather_calc[weather_calc['Evaporation']=='Evaporation']\n",
    "eva_s=eva.sort_index().groupby(['Sunshine']).head()\n",
    "eva_s"
   ]
  },
  {
   "cell_type": "code",
   "execution_count": 33,
   "id": "0fb2c963-acba-456c-aa3b-e55b786f8355",
   "metadata": {},
   "outputs": [
    {
     "ename": "ValueError",
     "evalue": "Index contains duplicate entries, cannot reshape",
     "output_type": "error",
     "traceback": [
      "\u001b[1;31m---------------------------------------------------------------------------\u001b[0m",
      "\u001b[1;31mValueError\u001b[0m                                Traceback (most recent call last)",
      "Cell \u001b[1;32mIn[33], line 2\u001b[0m\n\u001b[0;32m      1\u001b[0m \u001b[38;5;66;03m#Wide to long format\u001b[39;00m\n\u001b[1;32m----> 2\u001b[0m pii\u001b[38;5;241m=\u001b[39mweather_calc\u001b[38;5;241m.\u001b[39mpivot(columns\u001b[38;5;241m=\u001b[39m\u001b[38;5;124m'\u001b[39m\u001b[38;5;124mEvaporation\u001b[39m\u001b[38;5;124m'\u001b[39m,values\u001b[38;5;241m=\u001b[39m\u001b[38;5;124m\"\u001b[39m\u001b[38;5;124mSunshine\u001b[39m\u001b[38;5;124m\"\u001b[39m)\u001b[38;5;241m.\u001b[39mreset_index()\n\u001b[0;32m      3\u001b[0m pii\u001b[38;5;241m.\u001b[39mhead()\n",
      "File \u001b[1;32m~\\anaconda3\\Lib\\site-packages\\pandas\\core\\frame.py:9025\u001b[0m, in \u001b[0;36mDataFrame.pivot\u001b[1;34m(self, columns, index, values)\u001b[0m\n\u001b[0;32m   9018\u001b[0m \u001b[38;5;129m@Substitution\u001b[39m(\u001b[38;5;124m\"\u001b[39m\u001b[38;5;124m\"\u001b[39m)\n\u001b[0;32m   9019\u001b[0m \u001b[38;5;129m@Appender\u001b[39m(_shared_docs[\u001b[38;5;124m\"\u001b[39m\u001b[38;5;124mpivot\u001b[39m\u001b[38;5;124m\"\u001b[39m])\n\u001b[0;32m   9020\u001b[0m \u001b[38;5;28;01mdef\u001b[39;00m \u001b[38;5;21mpivot\u001b[39m(\n\u001b[0;32m   9021\u001b[0m     \u001b[38;5;28mself\u001b[39m, \u001b[38;5;241m*\u001b[39m, columns, index\u001b[38;5;241m=\u001b[39mlib\u001b[38;5;241m.\u001b[39mno_default, values\u001b[38;5;241m=\u001b[39mlib\u001b[38;5;241m.\u001b[39mno_default\n\u001b[0;32m   9022\u001b[0m ) \u001b[38;5;241m-\u001b[39m\u001b[38;5;241m>\u001b[39m DataFrame:\n\u001b[0;32m   9023\u001b[0m     \u001b[38;5;28;01mfrom\u001b[39;00m \u001b[38;5;21;01mpandas\u001b[39;00m\u001b[38;5;21;01m.\u001b[39;00m\u001b[38;5;21;01mcore\u001b[39;00m\u001b[38;5;21;01m.\u001b[39;00m\u001b[38;5;21;01mreshape\u001b[39;00m\u001b[38;5;21;01m.\u001b[39;00m\u001b[38;5;21;01mpivot\u001b[39;00m \u001b[38;5;28;01mimport\u001b[39;00m pivot\n\u001b[1;32m-> 9025\u001b[0m     \u001b[38;5;28;01mreturn\u001b[39;00m pivot(\u001b[38;5;28mself\u001b[39m, index\u001b[38;5;241m=\u001b[39mindex, columns\u001b[38;5;241m=\u001b[39mcolumns, values\u001b[38;5;241m=\u001b[39mvalues)\n",
      "File \u001b[1;32m~\\anaconda3\\Lib\\site-packages\\pandas\\core\\reshape\\pivot.py:553\u001b[0m, in \u001b[0;36mpivot\u001b[1;34m(data, columns, index, values)\u001b[0m\n\u001b[0;32m    549\u001b[0m         indexed \u001b[38;5;241m=\u001b[39m data\u001b[38;5;241m.\u001b[39m_constructor_sliced(data[values]\u001b[38;5;241m.\u001b[39m_values, index\u001b[38;5;241m=\u001b[39mmultiindex)\n\u001b[0;32m    550\u001b[0m \u001b[38;5;66;03m# error: Argument 1 to \"unstack\" of \"DataFrame\" has incompatible type \"Union\u001b[39;00m\n\u001b[0;32m    551\u001b[0m \u001b[38;5;66;03m# [List[Any], ExtensionArray, ndarray[Any, Any], Index, Series]\"; expected\u001b[39;00m\n\u001b[0;32m    552\u001b[0m \u001b[38;5;66;03m# \"Hashable\"\u001b[39;00m\n\u001b[1;32m--> 553\u001b[0m result \u001b[38;5;241m=\u001b[39m indexed\u001b[38;5;241m.\u001b[39munstack(columns_listlike)  \u001b[38;5;66;03m# type: ignore[arg-type]\u001b[39;00m\n\u001b[0;32m    554\u001b[0m result\u001b[38;5;241m.\u001b[39mindex\u001b[38;5;241m.\u001b[39mnames \u001b[38;5;241m=\u001b[39m [\n\u001b[0;32m    555\u001b[0m     name \u001b[38;5;28;01mif\u001b[39;00m name \u001b[38;5;129;01mis\u001b[39;00m \u001b[38;5;129;01mnot\u001b[39;00m lib\u001b[38;5;241m.\u001b[39mno_default \u001b[38;5;28;01melse\u001b[39;00m \u001b[38;5;28;01mNone\u001b[39;00m \u001b[38;5;28;01mfor\u001b[39;00m name \u001b[38;5;129;01min\u001b[39;00m result\u001b[38;5;241m.\u001b[39mindex\u001b[38;5;241m.\u001b[39mnames\n\u001b[0;32m    556\u001b[0m ]\n\u001b[0;32m    558\u001b[0m \u001b[38;5;28;01mreturn\u001b[39;00m result\n",
      "File \u001b[1;32m~\\anaconda3\\Lib\\site-packages\\pandas\\core\\series.py:4459\u001b[0m, in \u001b[0;36mSeries.unstack\u001b[1;34m(self, level, fill_value, sort)\u001b[0m\n\u001b[0;32m   4414\u001b[0m \u001b[38;5;250m\u001b[39m\u001b[38;5;124;03m\"\"\"\u001b[39;00m\n\u001b[0;32m   4415\u001b[0m \u001b[38;5;124;03mUnstack, also known as pivot, Series with MultiIndex to produce DataFrame.\u001b[39;00m\n\u001b[0;32m   4416\u001b[0m \n\u001b[1;32m   (...)\u001b[0m\n\u001b[0;32m   4455\u001b[0m \u001b[38;5;124;03mb    2    4\u001b[39;00m\n\u001b[0;32m   4456\u001b[0m \u001b[38;5;124;03m\"\"\"\u001b[39;00m\n\u001b[0;32m   4457\u001b[0m \u001b[38;5;28;01mfrom\u001b[39;00m \u001b[38;5;21;01mpandas\u001b[39;00m\u001b[38;5;21;01m.\u001b[39;00m\u001b[38;5;21;01mcore\u001b[39;00m\u001b[38;5;21;01m.\u001b[39;00m\u001b[38;5;21;01mreshape\u001b[39;00m\u001b[38;5;21;01m.\u001b[39;00m\u001b[38;5;21;01mreshape\u001b[39;00m \u001b[38;5;28;01mimport\u001b[39;00m unstack\n\u001b[1;32m-> 4459\u001b[0m \u001b[38;5;28;01mreturn\u001b[39;00m unstack(\u001b[38;5;28mself\u001b[39m, level, fill_value, sort)\n",
      "File \u001b[1;32m~\\anaconda3\\Lib\\site-packages\\pandas\\core\\reshape\\reshape.py:517\u001b[0m, in \u001b[0;36munstack\u001b[1;34m(obj, level, fill_value, sort)\u001b[0m\n\u001b[0;32m    515\u001b[0m \u001b[38;5;28;01mif\u001b[39;00m is_1d_only_ea_dtype(obj\u001b[38;5;241m.\u001b[39mdtype):\n\u001b[0;32m    516\u001b[0m     \u001b[38;5;28;01mreturn\u001b[39;00m _unstack_extension_series(obj, level, fill_value, sort\u001b[38;5;241m=\u001b[39msort)\n\u001b[1;32m--> 517\u001b[0m unstacker \u001b[38;5;241m=\u001b[39m _Unstacker(\n\u001b[0;32m    518\u001b[0m     obj\u001b[38;5;241m.\u001b[39mindex, level\u001b[38;5;241m=\u001b[39mlevel, constructor\u001b[38;5;241m=\u001b[39mobj\u001b[38;5;241m.\u001b[39m_constructor_expanddim, sort\u001b[38;5;241m=\u001b[39msort\n\u001b[0;32m    519\u001b[0m )\n\u001b[0;32m    520\u001b[0m \u001b[38;5;28;01mreturn\u001b[39;00m unstacker\u001b[38;5;241m.\u001b[39mget_result(\n\u001b[0;32m    521\u001b[0m     obj\u001b[38;5;241m.\u001b[39m_values, value_columns\u001b[38;5;241m=\u001b[39m\u001b[38;5;28;01mNone\u001b[39;00m, fill_value\u001b[38;5;241m=\u001b[39mfill_value\n\u001b[0;32m    522\u001b[0m )\n",
      "File \u001b[1;32m~\\anaconda3\\Lib\\site-packages\\pandas\\core\\reshape\\reshape.py:154\u001b[0m, in \u001b[0;36m_Unstacker.__init__\u001b[1;34m(self, index, level, constructor, sort)\u001b[0m\n\u001b[0;32m    146\u001b[0m \u001b[38;5;28;01mif\u001b[39;00m num_cells \u001b[38;5;241m>\u001b[39m np\u001b[38;5;241m.\u001b[39miinfo(np\u001b[38;5;241m.\u001b[39mint32)\u001b[38;5;241m.\u001b[39mmax:\n\u001b[0;32m    147\u001b[0m     warnings\u001b[38;5;241m.\u001b[39mwarn(\n\u001b[0;32m    148\u001b[0m         \u001b[38;5;124mf\u001b[39m\u001b[38;5;124m\"\u001b[39m\u001b[38;5;124mThe following operation may generate \u001b[39m\u001b[38;5;132;01m{\u001b[39;00mnum_cells\u001b[38;5;132;01m}\u001b[39;00m\u001b[38;5;124m cells \u001b[39m\u001b[38;5;124m\"\u001b[39m\n\u001b[0;32m    149\u001b[0m         \u001b[38;5;124mf\u001b[39m\u001b[38;5;124m\"\u001b[39m\u001b[38;5;124min the resulting pandas object.\u001b[39m\u001b[38;5;124m\"\u001b[39m,\n\u001b[0;32m    150\u001b[0m         PerformanceWarning,\n\u001b[0;32m    151\u001b[0m         stacklevel\u001b[38;5;241m=\u001b[39mfind_stack_level(),\n\u001b[0;32m    152\u001b[0m     )\n\u001b[1;32m--> 154\u001b[0m \u001b[38;5;28mself\u001b[39m\u001b[38;5;241m.\u001b[39m_make_selectors()\n",
      "File \u001b[1;32m~\\anaconda3\\Lib\\site-packages\\pandas\\core\\reshape\\reshape.py:210\u001b[0m, in \u001b[0;36m_Unstacker._make_selectors\u001b[1;34m(self)\u001b[0m\n\u001b[0;32m    207\u001b[0m mask\u001b[38;5;241m.\u001b[39mput(selector, \u001b[38;5;28;01mTrue\u001b[39;00m)\n\u001b[0;32m    209\u001b[0m \u001b[38;5;28;01mif\u001b[39;00m mask\u001b[38;5;241m.\u001b[39msum() \u001b[38;5;241m<\u001b[39m \u001b[38;5;28mlen\u001b[39m(\u001b[38;5;28mself\u001b[39m\u001b[38;5;241m.\u001b[39mindex):\n\u001b[1;32m--> 210\u001b[0m     \u001b[38;5;28;01mraise\u001b[39;00m \u001b[38;5;167;01mValueError\u001b[39;00m(\u001b[38;5;124m\"\u001b[39m\u001b[38;5;124mIndex contains duplicate entries, cannot reshape\u001b[39m\u001b[38;5;124m\"\u001b[39m)\n\u001b[0;32m    212\u001b[0m \u001b[38;5;28mself\u001b[39m\u001b[38;5;241m.\u001b[39mgroup_index \u001b[38;5;241m=\u001b[39m comp_index\n\u001b[0;32m    213\u001b[0m \u001b[38;5;28mself\u001b[39m\u001b[38;5;241m.\u001b[39mmask \u001b[38;5;241m=\u001b[39m mask\n",
      "\u001b[1;31mValueError\u001b[0m: Index contains duplicate entries, cannot reshape"
     ]
    }
   ],
   "source": [
    "#Wide to long format\n",
    "pii=weather_calc.pivot(columns='Evaporation',values=\"Sunshine\").reset_index()\n",
    "pii.head()"
   ]
  },
  {
   "cell_type": "code",
   "execution_count": null,
   "id": "f64a7808-4716-45f4-afdc-dc4737765382",
   "metadata": {},
   "outputs": [],
   "source": [
    "# concatenate object\n",
    "weather_calc=pd.concat"
   ]
  },
  {
   "cell_type": "code",
   "execution_count": null,
   "id": "bdb34119-e716-44af-84fc-2a0085e1aef5",
   "metadata": {},
   "outputs": [],
   "source": []
  },
  {
   "cell_type": "code",
   "execution_count": null,
   "id": "80a02b75-c193-4f94-bcff-1853dbb854d4",
   "metadata": {},
   "outputs": [],
   "source": []
  },
  {
   "cell_type": "code",
   "execution_count": 1,
   "id": "b1ec865d-dd74-49ce-bbe2-2e6a2fcda433",
   "metadata": {},
   "outputs": [],
   "source": [
    "# getting another csv file \n",
    "import pandas as pd\n",
    "# csv file of data of 1000 people\n",
    "people_data=pd.read_csv(\"people-1000.csv\")\n",
    "# csv file of data of 1000 organizations\n",
    "org_data=pd.read_csv(\"organizations-1000.csv\")"
   ]
  },
  {
   "cell_type": "markdown",
   "id": "17216064-ff3b-44dd-b2be-812387a566ab",
   "metadata": {},
   "source": [
    "### Concatenate two tables"
   ]
  },
  {
   "cell_type": "code",
   "execution_count": 3,
   "id": "cf645563-3fdf-459c-801d-b90b231b3661",
   "metadata": {},
   "outputs": [
    {
     "data": {
      "text/html": [
       "<div>\n",
       "<style scoped>\n",
       "    .dataframe tbody tr th:only-of-type {\n",
       "        vertical-align: middle;\n",
       "    }\n",
       "\n",
       "    .dataframe tbody tr th {\n",
       "        vertical-align: top;\n",
       "    }\n",
       "\n",
       "    .dataframe thead th {\n",
       "        text-align: right;\n",
       "    }\n",
       "</style>\n",
       "<table border=\"1\" class=\"dataframe\">\n",
       "  <thead>\n",
       "    <tr style=\"text-align: right;\">\n",
       "      <th></th>\n",
       "      <th>Index</th>\n",
       "      <th>User Id</th>\n",
       "      <th>First Name</th>\n",
       "      <th>Last Name</th>\n",
       "      <th>Sex</th>\n",
       "      <th>Email</th>\n",
       "      <th>Phone</th>\n",
       "      <th>Date of birth</th>\n",
       "      <th>Job Title</th>\n",
       "      <th>Organization Id</th>\n",
       "      <th>Name</th>\n",
       "      <th>Website</th>\n",
       "      <th>Country</th>\n",
       "      <th>Description</th>\n",
       "      <th>Founded</th>\n",
       "      <th>Industry</th>\n",
       "      <th>Number of employees</th>\n",
       "    </tr>\n",
       "  </thead>\n",
       "  <tbody>\n",
       "    <tr>\n",
       "      <th>0</th>\n",
       "      <td>1</td>\n",
       "      <td>8717bbf45cCDbEe</td>\n",
       "      <td>Shelia</td>\n",
       "      <td>Mahoney</td>\n",
       "      <td>Male</td>\n",
       "      <td>pwarner@example.org</td>\n",
       "      <td>857.139.8239</td>\n",
       "      <td>2014-01-27</td>\n",
       "      <td>Probation officer</td>\n",
       "      <td>NaN</td>\n",
       "      <td>NaN</td>\n",
       "      <td>NaN</td>\n",
       "      <td>NaN</td>\n",
       "      <td>NaN</td>\n",
       "      <td>NaN</td>\n",
       "      <td>NaN</td>\n",
       "      <td>NaN</td>\n",
       "    </tr>\n",
       "    <tr>\n",
       "      <th>1</th>\n",
       "      <td>2</td>\n",
       "      <td>3d5AD30A4cD38ed</td>\n",
       "      <td>Jo</td>\n",
       "      <td>Rivers</td>\n",
       "      <td>Female</td>\n",
       "      <td>fergusonkatherine@example.net</td>\n",
       "      <td>+1-950-759-8687</td>\n",
       "      <td>1931-07-26</td>\n",
       "      <td>Dancer</td>\n",
       "      <td>NaN</td>\n",
       "      <td>NaN</td>\n",
       "      <td>NaN</td>\n",
       "      <td>NaN</td>\n",
       "      <td>NaN</td>\n",
       "      <td>NaN</td>\n",
       "      <td>NaN</td>\n",
       "      <td>NaN</td>\n",
       "    </tr>\n",
       "    <tr>\n",
       "      <th>2</th>\n",
       "      <td>3</td>\n",
       "      <td>810Ce0F276Badec</td>\n",
       "      <td>Sheryl</td>\n",
       "      <td>Lowery</td>\n",
       "      <td>Female</td>\n",
       "      <td>fhoward@example.org</td>\n",
       "      <td>(599)782-0605</td>\n",
       "      <td>2013-11-25</td>\n",
       "      <td>Copy</td>\n",
       "      <td>NaN</td>\n",
       "      <td>NaN</td>\n",
       "      <td>NaN</td>\n",
       "      <td>NaN</td>\n",
       "      <td>NaN</td>\n",
       "      <td>NaN</td>\n",
       "      <td>NaN</td>\n",
       "      <td>NaN</td>\n",
       "    </tr>\n",
       "    <tr>\n",
       "      <th>3</th>\n",
       "      <td>4</td>\n",
       "      <td>BF2a889C00f0cE1</td>\n",
       "      <td>Whitney</td>\n",
       "      <td>Hooper</td>\n",
       "      <td>Male</td>\n",
       "      <td>zjohnston@example.com</td>\n",
       "      <td>+1-939-130-6258</td>\n",
       "      <td>2012-11-17</td>\n",
       "      <td>Counselling psychologist</td>\n",
       "      <td>NaN</td>\n",
       "      <td>NaN</td>\n",
       "      <td>NaN</td>\n",
       "      <td>NaN</td>\n",
       "      <td>NaN</td>\n",
       "      <td>NaN</td>\n",
       "      <td>NaN</td>\n",
       "      <td>NaN</td>\n",
       "    </tr>\n",
       "    <tr>\n",
       "      <th>4</th>\n",
       "      <td>5</td>\n",
       "      <td>9afFEafAe1CBBB9</td>\n",
       "      <td>Lindsey</td>\n",
       "      <td>Rice</td>\n",
       "      <td>Female</td>\n",
       "      <td>elin@example.net</td>\n",
       "      <td>(390)417-1635x3010</td>\n",
       "      <td>1923-04-15</td>\n",
       "      <td>Biomedical engineer</td>\n",
       "      <td>NaN</td>\n",
       "      <td>NaN</td>\n",
       "      <td>NaN</td>\n",
       "      <td>NaN</td>\n",
       "      <td>NaN</td>\n",
       "      <td>NaN</td>\n",
       "      <td>NaN</td>\n",
       "      <td>NaN</td>\n",
       "    </tr>\n",
       "  </tbody>\n",
       "</table>\n",
       "</div>"
      ],
      "text/plain": [
       "   Index          User Id First Name Last Name     Sex  \\\n",
       "0      1  8717bbf45cCDbEe     Shelia   Mahoney    Male   \n",
       "1      2  3d5AD30A4cD38ed         Jo    Rivers  Female   \n",
       "2      3  810Ce0F276Badec     Sheryl    Lowery  Female   \n",
       "3      4  BF2a889C00f0cE1    Whitney    Hooper    Male   \n",
       "4      5  9afFEafAe1CBBB9    Lindsey      Rice  Female   \n",
       "\n",
       "                           Email               Phone Date of birth  \\\n",
       "0            pwarner@example.org        857.139.8239    2014-01-27   \n",
       "1  fergusonkatherine@example.net     +1-950-759-8687    1931-07-26   \n",
       "2            fhoward@example.org       (599)782-0605    2013-11-25   \n",
       "3          zjohnston@example.com     +1-939-130-6258    2012-11-17   \n",
       "4               elin@example.net  (390)417-1635x3010    1923-04-15   \n",
       "\n",
       "                  Job Title Organization Id Name Website Country Description  \\\n",
       "0         Probation officer             NaN  NaN     NaN     NaN         NaN   \n",
       "1                    Dancer             NaN  NaN     NaN     NaN         NaN   \n",
       "2                      Copy             NaN  NaN     NaN     NaN         NaN   \n",
       "3  Counselling psychologist             NaN  NaN     NaN     NaN         NaN   \n",
       "4       Biomedical engineer             NaN  NaN     NaN     NaN         NaN   \n",
       "\n",
       "   Founded Industry  Number of employees  \n",
       "0      NaN      NaN                  NaN  \n",
       "1      NaN      NaN                  NaN  \n",
       "2      NaN      NaN                  NaN  \n",
       "3      NaN      NaN                  NaN  \n",
       "4      NaN      NaN                  NaN  "
      ]
     },
     "execution_count": 3,
     "metadata": {},
     "output_type": "execute_result"
    }
   ],
   "source": [
    "# axis =0 - row\n",
    "# axis 1 - column\n",
    "my_table=pd.concat([people_data,org_data],axis=0)\n",
    "my_table.head()\n",
    "# along row side \n",
    "# combines row of input tables"
   ]
  },
  {
   "cell_type": "code",
   "execution_count": 11,
   "id": "acf90b0f-ddfe-4514-9536-83573cdd3432",
   "metadata": {},
   "outputs": [
    {
     "data": {
      "text/html": [
       "<div>\n",
       "<style scoped>\n",
       "    .dataframe tbody tr th:only-of-type {\n",
       "        vertical-align: middle;\n",
       "    }\n",
       "\n",
       "    .dataframe tbody tr th {\n",
       "        vertical-align: top;\n",
       "    }\n",
       "\n",
       "    .dataframe thead th {\n",
       "        text-align: right;\n",
       "    }\n",
       "</style>\n",
       "<table border=\"1\" class=\"dataframe\">\n",
       "  <thead>\n",
       "    <tr style=\"text-align: right;\">\n",
       "      <th></th>\n",
       "      <th>Index</th>\n",
       "      <th>User Id</th>\n",
       "      <th>First Name</th>\n",
       "      <th>Last Name</th>\n",
       "      <th>Sex</th>\n",
       "      <th>Email</th>\n",
       "      <th>Phone</th>\n",
       "      <th>Date of birth</th>\n",
       "      <th>Job Title</th>\n",
       "      <th>Index</th>\n",
       "      <th>Organization Id</th>\n",
       "      <th>Name</th>\n",
       "      <th>Website</th>\n",
       "      <th>Country</th>\n",
       "      <th>Description</th>\n",
       "      <th>Founded</th>\n",
       "      <th>Industry</th>\n",
       "      <th>Number of employees</th>\n",
       "    </tr>\n",
       "  </thead>\n",
       "  <tbody>\n",
       "    <tr>\n",
       "      <th>0</th>\n",
       "      <td>1</td>\n",
       "      <td>8717bbf45cCDbEe</td>\n",
       "      <td>Shelia</td>\n",
       "      <td>Mahoney</td>\n",
       "      <td>Male</td>\n",
       "      <td>pwarner@example.org</td>\n",
       "      <td>857.139.8239</td>\n",
       "      <td>2014-01-27</td>\n",
       "      <td>Probation officer</td>\n",
       "      <td>1</td>\n",
       "      <td>E84A904909dF528</td>\n",
       "      <td>Liu-Hoover</td>\n",
       "      <td>http://www.day-hartman.org/</td>\n",
       "      <td>Western Sahara</td>\n",
       "      <td>Ergonomic zero administration knowledge user</td>\n",
       "      <td>1980</td>\n",
       "      <td>Online Publishing</td>\n",
       "      <td>6852</td>\n",
       "    </tr>\n",
       "    <tr>\n",
       "      <th>1</th>\n",
       "      <td>2</td>\n",
       "      <td>3d5AD30A4cD38ed</td>\n",
       "      <td>Jo</td>\n",
       "      <td>Rivers</td>\n",
       "      <td>Female</td>\n",
       "      <td>fergusonkatherine@example.net</td>\n",
       "      <td>+1-950-759-8687</td>\n",
       "      <td>1931-07-26</td>\n",
       "      <td>Dancer</td>\n",
       "      <td>2</td>\n",
       "      <td>AAC4f9aBF86EAeF</td>\n",
       "      <td>Orr-Armstrong</td>\n",
       "      <td>https://www.chapman.net/</td>\n",
       "      <td>Algeria</td>\n",
       "      <td>Ergonomic radical budgetary management</td>\n",
       "      <td>1970</td>\n",
       "      <td>Import / Export</td>\n",
       "      <td>7994</td>\n",
       "    </tr>\n",
       "    <tr>\n",
       "      <th>2</th>\n",
       "      <td>3</td>\n",
       "      <td>810Ce0F276Badec</td>\n",
       "      <td>Sheryl</td>\n",
       "      <td>Lowery</td>\n",
       "      <td>Female</td>\n",
       "      <td>fhoward@example.org</td>\n",
       "      <td>(599)782-0605</td>\n",
       "      <td>2013-11-25</td>\n",
       "      <td>Copy</td>\n",
       "      <td>3</td>\n",
       "      <td>ad2eb3C8C24DB87</td>\n",
       "      <td>Gill-Lamb</td>\n",
       "      <td>http://lin.com/</td>\n",
       "      <td>Cote d'Ivoire</td>\n",
       "      <td>Programmable intermediate conglomeration</td>\n",
       "      <td>2005</td>\n",
       "      <td>Apparel / Fashion</td>\n",
       "      <td>5105</td>\n",
       "    </tr>\n",
       "    <tr>\n",
       "      <th>3</th>\n",
       "      <td>4</td>\n",
       "      <td>BF2a889C00f0cE1</td>\n",
       "      <td>Whitney</td>\n",
       "      <td>Hooper</td>\n",
       "      <td>Male</td>\n",
       "      <td>zjohnston@example.com</td>\n",
       "      <td>+1-939-130-6258</td>\n",
       "      <td>2012-11-17</td>\n",
       "      <td>Counselling psychologist</td>\n",
       "      <td>4</td>\n",
       "      <td>D76BB12E5eE165B</td>\n",
       "      <td>Bauer-Weiss</td>\n",
       "      <td>https://gillespie-stout.com/</td>\n",
       "      <td>United States of America</td>\n",
       "      <td>Synergistic maximized definition</td>\n",
       "      <td>2015</td>\n",
       "      <td>Dairy</td>\n",
       "      <td>9069</td>\n",
       "    </tr>\n",
       "    <tr>\n",
       "      <th>4</th>\n",
       "      <td>5</td>\n",
       "      <td>9afFEafAe1CBBB9</td>\n",
       "      <td>Lindsey</td>\n",
       "      <td>Rice</td>\n",
       "      <td>Female</td>\n",
       "      <td>elin@example.net</td>\n",
       "      <td>(390)417-1635x3010</td>\n",
       "      <td>1923-04-15</td>\n",
       "      <td>Biomedical engineer</td>\n",
       "      <td>5</td>\n",
       "      <td>2F31EddF2Db9aAE</td>\n",
       "      <td>Love-Palmer</td>\n",
       "      <td>https://kramer.com/</td>\n",
       "      <td>Denmark</td>\n",
       "      <td>Optimized optimizing moderator</td>\n",
       "      <td>2010</td>\n",
       "      <td>Management Consulting</td>\n",
       "      <td>6991</td>\n",
       "    </tr>\n",
       "  </tbody>\n",
       "</table>\n",
       "</div>"
      ],
      "text/plain": [
       "   Index          User Id First Name Last Name     Sex  \\\n",
       "0      1  8717bbf45cCDbEe     Shelia   Mahoney    Male   \n",
       "1      2  3d5AD30A4cD38ed         Jo    Rivers  Female   \n",
       "2      3  810Ce0F276Badec     Sheryl    Lowery  Female   \n",
       "3      4  BF2a889C00f0cE1    Whitney    Hooper    Male   \n",
       "4      5  9afFEafAe1CBBB9    Lindsey      Rice  Female   \n",
       "\n",
       "                           Email               Phone Date of birth  \\\n",
       "0            pwarner@example.org        857.139.8239    2014-01-27   \n",
       "1  fergusonkatherine@example.net     +1-950-759-8687    1931-07-26   \n",
       "2            fhoward@example.org       (599)782-0605    2013-11-25   \n",
       "3          zjohnston@example.com     +1-939-130-6258    2012-11-17   \n",
       "4               elin@example.net  (390)417-1635x3010    1923-04-15   \n",
       "\n",
       "                  Job Title  Index  Organization Id           Name  \\\n",
       "0         Probation officer      1  E84A904909dF528     Liu-Hoover   \n",
       "1                    Dancer      2  AAC4f9aBF86EAeF  Orr-Armstrong   \n",
       "2                      Copy      3  ad2eb3C8C24DB87      Gill-Lamb   \n",
       "3  Counselling psychologist      4  D76BB12E5eE165B    Bauer-Weiss   \n",
       "4       Biomedical engineer      5  2F31EddF2Db9aAE    Love-Palmer   \n",
       "\n",
       "                        Website                   Country  \\\n",
       "0   http://www.day-hartman.org/            Western Sahara   \n",
       "1      https://www.chapman.net/                   Algeria   \n",
       "2               http://lin.com/             Cote d'Ivoire   \n",
       "3  https://gillespie-stout.com/  United States of America   \n",
       "4           https://kramer.com/                   Denmark   \n",
       "\n",
       "                                    Description  Founded  \\\n",
       "0  Ergonomic zero administration knowledge user     1980   \n",
       "1        Ergonomic radical budgetary management     1970   \n",
       "2      Programmable intermediate conglomeration     2005   \n",
       "3              Synergistic maximized definition     2015   \n",
       "4                Optimized optimizing moderator     2010   \n",
       "\n",
       "                Industry  Number of employees  \n",
       "0      Online Publishing                 6852  \n",
       "1        Import / Export                 7994  \n",
       "2      Apparel / Fashion                 5105  \n",
       "3                  Dairy                 9069  \n",
       "4  Management Consulting                 6991  "
      ]
     },
     "execution_count": 11,
     "metadata": {},
     "output_type": "execute_result"
    }
   ],
   "source": [
    "# along column side \n",
    "data=pd.concat([people_data,org_data],axis=1)\n",
    "data.head()\n",
    "# cobine column of input tables"
   ]
  },
  {
   "cell_type": "code",
   "execution_count": 13,
   "id": "64f896c1-b3b9-4c6a-a08a-ab3201d6424e",
   "metadata": {},
   "outputs": [
    {
     "name": "stdout",
     "output_type": "stream",
     "text": [
      "shape of original people table:  (1000, 9)\n",
      "shape of orginal organization table:   (1000, 9)\n",
      "shape of concatenated along row:  (2000, 17)\n",
      "shape of concatenated along column:   (1000, 18)\n"
     ]
    }
   ],
   "source": [
    "# shape of original and concatened tables\n",
    "print(\"shape of original people table: \",people_data.shape)\n",
    "print(\"shape of orginal organization table:  \",org_data.shape)\n",
    "print(\"shape of concatenated along row: \",my_table.shape)\n",
    "print(\"shape of concatenated along column:  \",data.shape)\n",
    "# when concate. along column: (1000,9+9)\n",
    "# when conct along row: (1000+1000,9+9-1)"
   ]
  },
  {
   "cell_type": "code",
   "execution_count": 5,
   "id": "fa7ea0db-e0e8-41be-8855-eb70d541ce88",
   "metadata": {},
   "outputs": [
    {
     "name": "stdout",
     "output_type": "stream",
     "text": [
      "     Index User Id First Name Last Name  Sex Email Phone Date of birth  \\\n",
      "211    212     NaN        NaN       NaN  NaN   NaN   NaN           NaN   \n",
      "520    521     NaN        NaN       NaN  NaN   NaN   NaN           NaN   \n",
      "944    945     NaN        NaN       NaN  NaN   NaN   NaN           NaN   \n",
      "\n",
      "    Job Title  Organization Id             Name  \\\n",
      "211       NaN  Df6AF24EE566F49  Olson-Mcconnell   \n",
      "520       NaN  0a55B0f24D3Eeb1     Weeks-Joseph   \n",
      "944       NaN  Ab2c152D2c10fA1    Montoya Group   \n",
      "\n",
      "                                Website         Country  \\\n",
      "211  http://www.christensen-norton.com/   Faroe Islands   \n",
      "520             http://www.hartman.org/  United Kingdom   \n",
      "944           http://www.henderson.net/      Micronesia   \n",
      "\n",
      "                               Description  Founded           Industry  \\\n",
      "211  Customer-focused local info-mediaries   1970.0  Medical Equipment   \n",
      "520            Persevering hybrid paradigm   1970.0    Mining / Metals   \n",
      "944   Progressive dedicated knowledge user   1970.0  Medical Equipment   \n",
      "\n",
      "     Number of employees  \n",
      "211               9170.0  \n",
      "520               4528.0  \n",
      "944               6865.0  \n"
     ]
    }
   ],
   "source": [
    "# sorting values\n",
    "print(my_table.sort_values('Founded').head(3))"
   ]
  },
  {
   "cell_type": "code",
   "execution_count": 33,
   "id": "be7d3efb-8268-408f-9fee-1f80e55e174b",
   "metadata": {},
   "outputs": [
    {
     "name": "stdout",
     "output_type": "stream",
     "text": [
      "name of cities that are unique\n",
      "['Western Sahara' 'Algeria' \"Cote d'Ivoire\" 'United States of America'\n",
      " 'Denmark' 'Norfolk Island' 'Uzbekistan' 'Israel' 'Syrian Arab Republic'\n",
      " 'Angola' 'Iran' 'Afghanistan' 'Bulgaria' 'French Southern Territories'\n",
      " 'Timor-Leste' 'Serbia' 'Hungary' 'Canada' 'Yemen' 'Jamaica'\n",
      " 'Marshall Islands' 'Greenland' 'Iraq' 'Bhutan' 'Thailand' 'Guadeloupe'\n",
      " 'Maldives' 'Seychelles' 'Myanmar'\n",
      " 'Antarctica (the territory South of 60 deg S)' 'Liechtenstein'\n",
      " 'Falkland Islands (Malvinas)' 'Jersey' 'Palestinian Territory' 'Botswana'\n",
      " 'Christmas Island' 'Chad' 'Puerto Rico' 'Suriname' 'Sri Lanka'\n",
      " 'Heard Island and McDonald Islands' 'Vietnam' 'Namibia'\n",
      " 'Dominican Republic' 'Chile' 'Nigeria'\n",
      " 'South Georgia and the South Sandwich Islands' 'Cyprus' 'Bahrain'\n",
      " 'Indonesia' 'South Africa' 'Egypt' 'Brazil' 'Norway' 'Grenada' 'Bahamas'\n",
      " 'Morocco' 'Samoa' 'Czech Republic' 'Peru' 'Lesotho' 'Qatar' 'Lithuania'\n",
      " 'Central African Republic' 'American Samoa'\n",
      " 'Holy See (Vatican City State)' 'Turkmenistan' 'Mozambique' 'Lebanon'\n",
      " 'Antigua and Barbuda' 'Tonga' 'Guam' 'Guyana'\n",
      " \"Lao People's Democratic Republic\" 'Eritrea' 'Cocos (Keeling) Islands'\n",
      " 'Burundi' 'Venezuela' 'Nepal' 'Brunei Darussalam' 'Micronesia' 'Comoros'\n",
      " 'Tunisia' 'Belarus' 'Senegal' 'France' 'Philippines' 'Djibouti'\n",
      " 'Singapore' 'British Indian Ocean Territory (Chagos Archipelago)' 'Oman'\n",
      " 'Solomon Islands' 'Malaysia' 'Korea' 'El Salvador' 'Saudi Arabia'\n",
      " 'Rwanda' 'Ecuador' 'New Zealand' 'Tanzania' 'Portugal' 'India'\n",
      " 'United Kingdom' 'Georgia' 'Vanuatu' 'Congo' 'Azerbaijan' 'Somalia'\n",
      " 'Tuvalu' 'Svalbard & Jan Mayen Islands' 'Sudan' 'Nauru'\n",
      " 'French Polynesia' 'Costa Rica' 'Kazakhstan' 'Taiwan' 'Haiti'\n",
      " 'Switzerland' 'Moldova' 'French Guiana' 'Gambia' 'Zimbabwe' 'Benin'\n",
      " 'Croatia' 'Nicaragua' 'Cambodia' 'Swaziland' 'Pakistan' 'Ethiopia'\n",
      " 'Colombia' 'Tajikistan' 'Libyan Arab Jamahiriya' 'Austria'\n",
      " 'United Arab Emirates' 'Argentina' 'Guatemala' 'Uganda' 'Cayman Islands'\n",
      " 'Faroe Islands' 'Ukraine' 'Netherlands Antilles' 'Kyrgyz Republic'\n",
      " 'Uruguay' 'Germany' 'United States Minor Outlying Islands' 'Aruba'\n",
      " 'Saint Martin' 'China' 'Saint Pierre and Miquelon'\n",
      " 'Saint Vincent and the Grenadines' 'United States Virgin Islands'\n",
      " 'Turks and Caicos Islands' 'Kenya' 'Mauritius' 'Mexico'\n",
      " 'Russian Federation' 'Malawi' 'Barbados' 'Guinea-Bissau' 'Cook Islands'\n",
      " 'Slovenia' 'Niger' 'Saint Helena' 'Cape Verde' 'Niue' 'Italy'\n",
      " 'Pitcairn Islands' 'Papua New Guinea' 'Guernsey' 'Cameroon' 'Gabon'\n",
      " 'Greece' 'Australia' 'Finland' 'Gibraltar' 'Jordan' 'Andorra'\n",
      " 'Sao Tome and Principe' 'Spain' 'Anguilla' 'Estonia' 'Palau'\n",
      " 'Wallis and Futuna' 'Mayotte' 'Ghana' 'Honduras' 'Macedonia' 'Monaco'\n",
      " 'Togo' 'Sierra Leone' 'Kiribati' 'Zambia' 'Mauritania' 'Romania' 'Macao'\n",
      " 'Montserrat' 'Isle of Man' 'Liberia' 'Martinique' 'Bangladesh'\n",
      " 'Luxembourg' 'Netherlands' 'Bouvet Island (Bouvetoya)' 'Belgium'\n",
      " 'Saint Barthelemy' 'Sweden' 'Trinidad and Tobago'\n",
      " 'Northern Mariana Islands' 'Cuba' 'Mali' 'British Virgin Islands'\n",
      " 'Latvia' 'Hong Kong' 'Albania' 'Saint Lucia' 'Bolivia' 'Poland'\n",
      " 'Montenegro' 'San Marino' 'Tokelau' 'Japan' 'Madagascar' 'Turkey' 'Malta'\n",
      " 'New Caledonia' 'Saint Kitts and Nevis' 'Burkina Faso' 'Fiji' 'Iceland'\n",
      " 'Mongolia' 'Reunion' 'Dominica' 'Ireland' 'Slovakia (Slovak Republic)'\n",
      " 'Guinea' 'Panama' 'Belize' 'Armenia']\n",
      "\n",
      "\n",
      "\n",
      "getting tha shape of above array:   (238,)\n"
     ]
    }
   ],
   "source": [
    "# getting unique values\n",
    "print(\"name of cities that are unique\")\n",
    "print(data.Country.unique())\n",
    "print(\"\\n\\n\")\n",
    "print(\"getting tha shape of above array:  \",data.Country.unique().shape)"
   ]
  },
  {
   "cell_type": "code",
   "execution_count": 37,
   "id": "cb02003e-704b-44ed-9f5f-f1d0a0730af4",
   "metadata": {},
   "outputs": [
    {
     "name": "stdout",
     "output_type": "stream",
     "text": [
      "   Index          User Id First Name Last Name     Sex  \\\n",
      "0      1  8717bbf45cCDbEe     Shelia   Mahoney    Male   \n",
      "1      2  3d5AD30A4cD38ed         Jo    Rivers  Female   \n",
      "2      3  810Ce0F276Badec     Sheryl    Lowery  Female   \n",
      "3      4  BF2a889C00f0cE1    Whitney    Hooper    Male   \n",
      "4      5  9afFEafAe1CBBB9    Lindsey      Rice  Female   \n",
      "\n",
      "                           Email               Phone Date of birth  \\\n",
      "0            pwarner@example.org        857.139.8239    2014-01-27   \n",
      "1  fergusonkatherine@example.net     +1-950-759-8687    1931-07-26   \n",
      "2            fhoward@example.org       (599)782-0605    2013-11-25   \n",
      "3          zjohnston@example.com     +1-939-130-6258    2012-11-17   \n",
      "4               elin@example.net  (390)417-1635x3010    1923-04-15   \n",
      "\n",
      "                  Job Title  \n",
      "0         Probation officer  \n",
      "1                    Dancer  \n",
      "2                      Copy  \n",
      "3  Counselling psychologist  \n",
      "4       Biomedical engineer  \n"
     ]
    }
   ],
   "source": [
    "print(people_data.head())"
   ]
  },
  {
   "cell_type": "code",
   "execution_count": 39,
   "id": "895ac8f8-fc87-4415-a788-7f9730c92870",
   "metadata": {},
   "outputs": [
    {
     "name": "stdout",
     "output_type": "stream",
     "text": [
      "0        shelia\n",
      "1            jo\n",
      "2        sheryl\n",
      "3       whitney\n",
      "4       lindsey\n",
      "         ...   \n",
      "995        kurt\n",
      "996       donna\n",
      "997       cathy\n",
      "998    jermaine\n",
      "999         lee\n",
      "Name: First Name, Length: 1000, dtype: object\n"
     ]
    }
   ],
   "source": [
    "# lower the string\n",
    "print(people_data['First Name'].str.lower())"
   ]
  },
  {
   "cell_type": "code",
   "execution_count": 43,
   "id": "c84b6814-9ffb-4d57-94cf-abf855470973",
   "metadata": {},
   "outputs": [
    {
     "name": "stdout",
     "output_type": "stream",
     "text": [
      "0        SHELIA\n",
      "1            JO\n",
      "2        SHERYL\n",
      "3       WHITNEY\n",
      "4       LINDSEY\n",
      "         ...   \n",
      "995        KURT\n",
      "996       DONNA\n",
      "997       CATHY\n",
      "998    JERMAINE\n",
      "999         LEE\n",
      "Name: First Name, Length: 1000, dtype: object\n"
     ]
    }
   ],
   "source": [
    "# upper the string\n",
    "print(people_data['First Name'].str.upper())"
   ]
  },
  {
   "cell_type": "code",
   "execution_count": 35,
   "id": "3ac44b9c-647c-46c1-be3b-759b625297f8",
   "metadata": {},
   "outputs": [
    {
     "data": {
      "text/html": [
       "<div>\n",
       "<style scoped>\n",
       "    .dataframe tbody tr th:only-of-type {\n",
       "        vertical-align: middle;\n",
       "    }\n",
       "\n",
       "    .dataframe tbody tr th {\n",
       "        vertical-align: top;\n",
       "    }\n",
       "\n",
       "    .dataframe thead th {\n",
       "        text-align: right;\n",
       "    }\n",
       "</style>\n",
       "<table border=\"1\" class=\"dataframe\">\n",
       "  <thead>\n",
       "    <tr style=\"text-align: right;\">\n",
       "      <th></th>\n",
       "      <th>Index</th>\n",
       "      <th>User Id</th>\n",
       "      <th>First Name</th>\n",
       "      <th>Last Name</th>\n",
       "      <th>Sex</th>\n",
       "      <th>Email</th>\n",
       "      <th>Phone</th>\n",
       "      <th>Date of birth</th>\n",
       "      <th>Job Title</th>\n",
       "      <th>Name</th>\n",
       "    </tr>\n",
       "  </thead>\n",
       "  <tbody>\n",
       "    <tr>\n",
       "      <th>0</th>\n",
       "      <td>1</td>\n",
       "      <td>8717bbf45cCDbEe</td>\n",
       "      <td>Shelia</td>\n",
       "      <td>Mahoney</td>\n",
       "      <td>Male</td>\n",
       "      <td>pwarner@example.org</td>\n",
       "      <td>857.139.8239</td>\n",
       "      <td>2014-01-27</td>\n",
       "      <td>Probation officer</td>\n",
       "      <td>Shelia Mahoney</td>\n",
       "    </tr>\n",
       "    <tr>\n",
       "      <th>1</th>\n",
       "      <td>2</td>\n",
       "      <td>3d5AD30A4cD38ed</td>\n",
       "      <td>Jo</td>\n",
       "      <td>Rivers</td>\n",
       "      <td>Female</td>\n",
       "      <td>fergusonkatherine@example.net</td>\n",
       "      <td>+1-950-759-8687</td>\n",
       "      <td>1931-07-26</td>\n",
       "      <td>Dancer</td>\n",
       "      <td>Jo Rivers</td>\n",
       "    </tr>\n",
       "  </tbody>\n",
       "</table>\n",
       "</div>"
      ],
      "text/plain": [
       "   Index          User Id First Name Last Name     Sex  \\\n",
       "0      1  8717bbf45cCDbEe     Shelia   Mahoney    Male   \n",
       "1      2  3d5AD30A4cD38ed         Jo    Rivers  Female   \n",
       "\n",
       "                           Email            Phone Date of birth  \\\n",
       "0            pwarner@example.org     857.139.8239    2014-01-27   \n",
       "1  fergusonkatherine@example.net  +1-950-759-8687    1931-07-26   \n",
       "\n",
       "           Job Title            Name  \n",
       "0  Probation officer  Shelia Mahoney  \n",
       "1             Dancer       Jo Rivers  "
      ]
     },
     "execution_count": 35,
     "metadata": {},
     "output_type": "execute_result"
    }
   ],
   "source": [
    "# concatenating  two column of same table\n",
    "people_data['Name']=people_data['First Name']+\" \" + people_data['Last Name']\n",
    "people_data.head(2)"
   ]
  },
  {
   "cell_type": "code",
   "execution_count": 63,
   "id": "815271e6-ec47-4d72-b0be-06c8b91cf0b8",
   "metadata": {},
   "outputs": [
    {
     "data": {
      "text/plain": [
       "0       [Shelia Mahoney]\n",
       "1            [Jo Rivers]\n",
       "2        [Sheryl Lowery]\n",
       "3       [Whitney Hooper]\n",
       "4         [Lindsey Rice]\n",
       "             ...        \n",
       "995        [Kurt Bryant]\n",
       "996        [Donna Barry]\n",
       "997     [Cathy Mckinney]\n",
       "998    [Jermaine Phelps]\n",
       "999           [Lee Tran]\n",
       "Name: Name, Length: 1000, dtype: object"
      ]
     },
     "execution_count": 63,
     "metadata": {},
     "output_type": "execute_result"
    }
   ],
   "source": [
    "people_data['Name'].str.split(\",\")"
   ]
  },
  {
   "cell_type": "code",
   "execution_count": 73,
   "id": "f6fa0389-f8a3-4d67-bdbc-e0eaf4b80744",
   "metadata": {},
   "outputs": [
    {
     "name": "stdout",
     "output_type": "stream",
     "text": [
      "0       Shelia Mahoney\n",
      "1            Jo Rivers\n",
      "2        Sheryl Lowery\n",
      "3       Whitney Hooper\n",
      "4         Lindsey Rice\n",
      "            ...       \n",
      "995        Kurt Bryant\n",
      "996        Donna Barry\n",
      "997     Cathy Mckinney\n",
      "998    Jermaine Phelps\n",
      "999           Lee Tran\n",
      "Name: Name, Length: 1000, dtype: object\n"
     ]
    }
   ],
   "source": [
    "# get first name from string \n",
    "print(people_data['Name'].str.split(',').str.get(0))"
   ]
  },
  {
   "cell_type": "code",
   "execution_count": 75,
   "id": "63f76550-cd1c-4ca5-8b91-b3931ead74fa",
   "metadata": {},
   "outputs": [
    {
     "data": {
      "text/plain": [
       "0      False\n",
       "1      False\n",
       "2      False\n",
       "3      False\n",
       "4      False\n",
       "       ...  \n",
       "995    False\n",
       "996    False\n",
       "997    False\n",
       "998    False\n",
       "999     True\n",
       "Name: Name, Length: 1000, dtype: bool"
      ]
     },
     "execution_count": 75,
     "metadata": {},
     "output_type": "execute_result"
    }
   ],
   "source": [
    "# contain particular string , gives boolean value \n",
    "# in each row whether row contains string or not\n",
    "people_data['Name'].str.contains(\"Lee\")"
   ]
  },
  {
   "cell_type": "code",
   "execution_count": 13,
   "id": "d6dd199d-c3ea-4e82-b63b-54fd76210c10",
   "metadata": {},
   "outputs": [
    {
     "data": {
      "text/plain": [
       "0    6\n",
       "1    2\n",
       "2    6\n",
       "3    7\n",
       "4    7\n",
       "Name: First Name, dtype: int64"
      ]
     },
     "execution_count": 13,
     "metadata": {},
     "output_type": "execute_result"
    }
   ],
   "source": [
    "# getting length of string \n",
    "people_data['First Name'].str.len().head()"
   ]
  },
  {
   "cell_type": "code",
   "execution_count": 15,
   "id": "400d5d55-94c7-4bb0-aad0-1e6d746e61b8",
   "metadata": {},
   "outputs": [
    {
     "data": {
      "text/plain": [
       "148"
      ]
     },
     "execution_count": 15,
     "metadata": {},
     "output_type": "execute_result"
    }
   ],
   "source": [
    "# getting the index label where string length is max \n",
    "people_data['First Name'].str.len().idxmax()"
   ]
  },
  {
   "cell_type": "code",
   "execution_count": 39,
   "id": "4791a78d-f3e9-4097-ae0f-230ca1f8ff77",
   "metadata": {},
   "outputs": [
    {
     "data": {
      "text/plain": [
       "'Christopher'"
      ]
     },
     "execution_count": 39,
     "metadata": {},
     "output_type": "execute_result"
    }
   ],
   "source": [
    "# getting name of the string with largest lentgh\n",
    "people_data.loc[people_data['First Name'].str.len().idxmax(),'First Name']"
   ]
  },
  {
   "cell_type": "code",
   "execution_count": 29,
   "id": "6db7d714-3b47-424d-a8b3-bce853a33baf",
   "metadata": {},
   "outputs": [
    {
     "data": {
      "text/plain": [
       "0        Shelia\n",
       "1            Jo\n",
       "2        Sheryl\n",
       "3       Whitney\n",
       "4       Lindsey\n",
       "         ...   \n",
       "995        Kurt\n",
       "996       Donna\n",
       "997       Cathy\n",
       "998    Jermaine\n",
       "999         Lee\n",
       "Name: First Name, Length: 1000, dtype: object"
      ]
     },
     "execution_count": 29,
     "metadata": {},
     "output_type": "execute_result"
    }
   ],
   "source": [
    "people_data['First Name']"
   ]
  },
  {
   "cell_type": "code",
   "execution_count": 37,
   "id": "f2a8582c-0d99-4ed1-b097-3b5a35d6c0d1",
   "metadata": {},
   "outputs": [
    {
     "data": {
      "text/plain": [
       "'Priscilla Valenzuela'"
      ]
     },
     "execution_count": 37,
     "metadata": {},
     "output_type": "execute_result"
    }
   ],
   "source": [
    "people_data.loc[people_data['Name'].str.len().idxmax(),'Name']"
   ]
  },
  {
   "cell_type": "markdown",
   "id": "4e0cf5c8-3fe8-45d4-8bf2-56a9aadb764e",
   "metadata": {},
   "source": [
    "#### Filter the data "
   ]
  },
  {
   "cell_type": "code",
   "execution_count": 50,
   "id": "cad83dbb-bf00-40ca-8880-9bc9b02c97c3",
   "metadata": {},
   "outputs": [
    {
     "data": {
      "text/html": [
       "<div>\n",
       "<style scoped>\n",
       "    .dataframe tbody tr th:only-of-type {\n",
       "        vertical-align: middle;\n",
       "    }\n",
       "\n",
       "    .dataframe tbody tr th {\n",
       "        vertical-align: top;\n",
       "    }\n",
       "\n",
       "    .dataframe thead th {\n",
       "        text-align: right;\n",
       "    }\n",
       "</style>\n",
       "<table border=\"1\" class=\"dataframe\">\n",
       "  <thead>\n",
       "    <tr style=\"text-align: right;\">\n",
       "      <th></th>\n",
       "      <th>Index</th>\n",
       "      <th>Organization Id</th>\n",
       "      <th>Name</th>\n",
       "      <th>Website</th>\n",
       "      <th>Country</th>\n",
       "      <th>Description</th>\n",
       "      <th>Founded</th>\n",
       "      <th>Industry</th>\n",
       "      <th>Number of employees</th>\n",
       "    </tr>\n",
       "  </thead>\n",
       "  <tbody>\n",
       "    <tr>\n",
       "      <th>2</th>\n",
       "      <td>3</td>\n",
       "      <td>ad2eb3C8C24DB87</td>\n",
       "      <td>Gill-Lamb</td>\n",
       "      <td>http://lin.com/</td>\n",
       "      <td>Cote d'Ivoire</td>\n",
       "      <td>Programmable intermediate conglomeration</td>\n",
       "      <td>2005</td>\n",
       "      <td>Apparel / Fashion</td>\n",
       "      <td>5105</td>\n",
       "    </tr>\n",
       "    <tr>\n",
       "      <th>3</th>\n",
       "      <td>4</td>\n",
       "      <td>D76BB12E5eE165B</td>\n",
       "      <td>Bauer-Weiss</td>\n",
       "      <td>https://gillespie-stout.com/</td>\n",
       "      <td>United States of America</td>\n",
       "      <td>Synergistic maximized definition</td>\n",
       "      <td>2015</td>\n",
       "      <td>Dairy</td>\n",
       "      <td>9069</td>\n",
       "    </tr>\n",
       "    <tr>\n",
       "      <th>4</th>\n",
       "      <td>5</td>\n",
       "      <td>2F31EddF2Db9aAE</td>\n",
       "      <td>Love-Palmer</td>\n",
       "      <td>https://kramer.com/</td>\n",
       "      <td>Denmark</td>\n",
       "      <td>Optimized optimizing moderator</td>\n",
       "      <td>2010</td>\n",
       "      <td>Management Consulting</td>\n",
       "      <td>6991</td>\n",
       "    </tr>\n",
       "    <tr>\n",
       "      <th>5</th>\n",
       "      <td>6</td>\n",
       "      <td>6774DC1dB00BD11</td>\n",
       "      <td>Farmer, Edwards and Andrade</td>\n",
       "      <td>http://wolfe-boyd.com/</td>\n",
       "      <td>Norfolk Island</td>\n",
       "      <td>Virtual leadingedge benchmark</td>\n",
       "      <td>2003</td>\n",
       "      <td>Mental Health Care</td>\n",
       "      <td>3503</td>\n",
       "    </tr>\n",
       "    <tr>\n",
       "      <th>6</th>\n",
       "      <td>7</td>\n",
       "      <td>116B5cD4eE1fAAc</td>\n",
       "      <td>Bass, Hester and Mcclain</td>\n",
       "      <td>https://meza-smith.com/</td>\n",
       "      <td>Uzbekistan</td>\n",
       "      <td>Multi-tiered system-worthy hub</td>\n",
       "      <td>1994</td>\n",
       "      <td>Computer Hardware</td>\n",
       "      <td>2762</td>\n",
       "    </tr>\n",
       "    <tr>\n",
       "      <th>...</th>\n",
       "      <td>...</td>\n",
       "      <td>...</td>\n",
       "      <td>...</td>\n",
       "      <td>...</td>\n",
       "      <td>...</td>\n",
       "      <td>...</td>\n",
       "      <td>...</td>\n",
       "      <td>...</td>\n",
       "      <td>...</td>\n",
       "    </tr>\n",
       "    <tr>\n",
       "      <th>992</th>\n",
       "      <td>993</td>\n",
       "      <td>35762be17cA3D47</td>\n",
       "      <td>Howe and Sons</td>\n",
       "      <td>https://www.nunez.com/</td>\n",
       "      <td>Cocos (Keeling) Islands</td>\n",
       "      <td>Future-proofed didactic middleware</td>\n",
       "      <td>2007</td>\n",
       "      <td>Logistics / Procurement</td>\n",
       "      <td>1424</td>\n",
       "    </tr>\n",
       "    <tr>\n",
       "      <th>995</th>\n",
       "      <td>996</td>\n",
       "      <td>e5CEc38aa9A580b</td>\n",
       "      <td>Bullock Group</td>\n",
       "      <td>https://medina-bernard.com/</td>\n",
       "      <td>Turkmenistan</td>\n",
       "      <td>Public-key scalable conglomeration</td>\n",
       "      <td>1998</td>\n",
       "      <td>Wine / Spirits</td>\n",
       "      <td>6547</td>\n",
       "    </tr>\n",
       "    <tr>\n",
       "      <th>996</th>\n",
       "      <td>997</td>\n",
       "      <td>cEF9B4675E4bBd0</td>\n",
       "      <td>Mason Inc</td>\n",
       "      <td>https://franco-walls.com/</td>\n",
       "      <td>United States of America</td>\n",
       "      <td>Distributed exuding initiative</td>\n",
       "      <td>2015</td>\n",
       "      <td>Law Enforcement</td>\n",
       "      <td>9723</td>\n",
       "    </tr>\n",
       "    <tr>\n",
       "      <th>998</th>\n",
       "      <td>999</td>\n",
       "      <td>de5Fc71DE825bFc</td>\n",
       "      <td>Olson-Solomon</td>\n",
       "      <td>https://koch.com/</td>\n",
       "      <td>Cocos (Keeling) Islands</td>\n",
       "      <td>Virtual responsive moderator</td>\n",
       "      <td>2013</td>\n",
       "      <td>Investment Banking / Venture</td>\n",
       "      <td>3825</td>\n",
       "    </tr>\n",
       "    <tr>\n",
       "      <th>999</th>\n",
       "      <td>1000</td>\n",
       "      <td>3ddb89ecD83B533</td>\n",
       "      <td>Maddox, Owen and Shepherd</td>\n",
       "      <td>https://www.hamilton.com/</td>\n",
       "      <td>Guinea</td>\n",
       "      <td>Reactive bottom-line pricing structure</td>\n",
       "      <td>2019</td>\n",
       "      <td>Animation</td>\n",
       "      <td>4467</td>\n",
       "    </tr>\n",
       "  </tbody>\n",
       "</table>\n",
       "<p>608 rows × 9 columns</p>\n",
       "</div>"
      ],
      "text/plain": [
       "     Index  Organization Id                         Name  \\\n",
       "2        3  ad2eb3C8C24DB87                    Gill-Lamb   \n",
       "3        4  D76BB12E5eE165B                  Bauer-Weiss   \n",
       "4        5  2F31EddF2Db9aAE                  Love-Palmer   \n",
       "5        6  6774DC1dB00BD11  Farmer, Edwards and Andrade   \n",
       "6        7  116B5cD4eE1fAAc     Bass, Hester and Mcclain   \n",
       "..     ...              ...                          ...   \n",
       "992    993  35762be17cA3D47                Howe and Sons   \n",
       "995    996  e5CEc38aa9A580b                Bullock Group   \n",
       "996    997  cEF9B4675E4bBd0                    Mason Inc   \n",
       "998    999  de5Fc71DE825bFc                Olson-Solomon   \n",
       "999   1000  3ddb89ecD83B533    Maddox, Owen and Shepherd   \n",
       "\n",
       "                          Website                   Country  \\\n",
       "2                 http://lin.com/             Cote d'Ivoire   \n",
       "3    https://gillespie-stout.com/  United States of America   \n",
       "4             https://kramer.com/                   Denmark   \n",
       "5          http://wolfe-boyd.com/            Norfolk Island   \n",
       "6         https://meza-smith.com/                Uzbekistan   \n",
       "..                            ...                       ...   \n",
       "992        https://www.nunez.com/   Cocos (Keeling) Islands   \n",
       "995   https://medina-bernard.com/              Turkmenistan   \n",
       "996     https://franco-walls.com/  United States of America   \n",
       "998             https://koch.com/   Cocos (Keeling) Islands   \n",
       "999     https://www.hamilton.com/                    Guinea   \n",
       "\n",
       "                                  Description  Founded  \\\n",
       "2    Programmable intermediate conglomeration     2005   \n",
       "3            Synergistic maximized definition     2015   \n",
       "4              Optimized optimizing moderator     2010   \n",
       "5               Virtual leadingedge benchmark     2003   \n",
       "6              Multi-tiered system-worthy hub     1994   \n",
       "..                                        ...      ...   \n",
       "992        Future-proofed didactic middleware     2007   \n",
       "995        Public-key scalable conglomeration     1998   \n",
       "996            Distributed exuding initiative     2015   \n",
       "998              Virtual responsive moderator     2013   \n",
       "999    Reactive bottom-line pricing structure     2019   \n",
       "\n",
       "                         Industry  Number of employees  \n",
       "2               Apparel / Fashion                 5105  \n",
       "3                           Dairy                 9069  \n",
       "4           Management Consulting                 6991  \n",
       "5              Mental Health Care                 3503  \n",
       "6               Computer Hardware                 2762  \n",
       "..                            ...                  ...  \n",
       "992       Logistics / Procurement                 1424  \n",
       "995                Wine / Spirits                 6547  \n",
       "996               Law Enforcement                 9723  \n",
       "998  Investment Banking / Venture                 3825  \n",
       "999                     Animation                 4467  \n",
       "\n",
       "[608 rows x 9 columns]"
      ]
     },
     "execution_count": 50,
     "metadata": {},
     "output_type": "execute_result"
    }
   ],
   "source": [
    "# using boolean indexing \n",
    "org_data[org_data['Founded']>1990]"
   ]
  },
  {
   "cell_type": "code",
   "execution_count": 56,
   "id": "cfa95503-7512-4bef-ac8c-fb2ba80715ec",
   "metadata": {},
   "outputs": [
    {
     "data": {
      "text/plain": [
       "0    False\n",
       "1    False\n",
       "2    False\n",
       "3    False\n",
       "4    False\n",
       "5    False\n",
       "6    False\n",
       "7    False\n",
       "8    False\n",
       "9    False\n",
       "Name: Country, dtype: bool"
      ]
     },
     "execution_count": 56,
     "metadata": {},
     "output_type": "execute_result"
    }
   ],
   "source": [
    "# boolean value, return true only when condition satisfied\n",
    "is_coco=org_data['Country']=='Coco'\n",
    "is_coco.head(10)"
   ]
  },
  {
   "cell_type": "code",
   "execution_count": 58,
   "id": "f00ad831-9de8-4f35-a034-3f32ea7a1554",
   "metadata": {},
   "outputs": [
    {
     "data": {
      "text/plain": [
       "0    False\n",
       "1    False\n",
       "2     True\n",
       "3     True\n",
       "4     True\n",
       "5     True\n",
       "6    False\n",
       "7    False\n",
       "8    False\n",
       "9    False\n",
       "Name: Founded, dtype: bool"
      ]
     },
     "execution_count": 58,
     "metadata": {},
     "output_type": "execute_result"
    }
   ],
   "source": [
    "is_coco=org_data['Founded']>2000\n",
    "is_coco.head(10)"
   ]
  },
  {
   "cell_type": "code",
   "execution_count": 62,
   "id": "fdbe388e-e4d2-461e-a500-f363da2e70eb",
   "metadata": {},
   "outputs": [
    {
     "data": {
      "text/html": [
       "<div>\n",
       "<style scoped>\n",
       "    .dataframe tbody tr th:only-of-type {\n",
       "        vertical-align: middle;\n",
       "    }\n",
       "\n",
       "    .dataframe tbody tr th {\n",
       "        vertical-align: top;\n",
       "    }\n",
       "\n",
       "    .dataframe thead th {\n",
       "        text-align: right;\n",
       "    }\n",
       "</style>\n",
       "<table border=\"1\" class=\"dataframe\">\n",
       "  <thead>\n",
       "    <tr style=\"text-align: right;\">\n",
       "      <th></th>\n",
       "      <th>Index</th>\n",
       "      <th>Organization Id</th>\n",
       "      <th>Name</th>\n",
       "      <th>Website</th>\n",
       "      <th>Country</th>\n",
       "      <th>Description</th>\n",
       "      <th>Founded</th>\n",
       "      <th>Industry</th>\n",
       "      <th>Number of employees</th>\n",
       "    </tr>\n",
       "  </thead>\n",
       "  <tbody>\n",
       "    <tr>\n",
       "      <th>2</th>\n",
       "      <td>3</td>\n",
       "      <td>ad2eb3C8C24DB87</td>\n",
       "      <td>Gill-Lamb</td>\n",
       "      <td>http://lin.com/</td>\n",
       "      <td>Cote d'Ivoire</td>\n",
       "      <td>Programmable intermediate conglomeration</td>\n",
       "      <td>2005</td>\n",
       "      <td>Apparel / Fashion</td>\n",
       "      <td>5105</td>\n",
       "    </tr>\n",
       "    <tr>\n",
       "      <th>3</th>\n",
       "      <td>4</td>\n",
       "      <td>D76BB12E5eE165B</td>\n",
       "      <td>Bauer-Weiss</td>\n",
       "      <td>https://gillespie-stout.com/</td>\n",
       "      <td>United States of America</td>\n",
       "      <td>Synergistic maximized definition</td>\n",
       "      <td>2015</td>\n",
       "      <td>Dairy</td>\n",
       "      <td>9069</td>\n",
       "    </tr>\n",
       "    <tr>\n",
       "      <th>4</th>\n",
       "      <td>5</td>\n",
       "      <td>2F31EddF2Db9aAE</td>\n",
       "      <td>Love-Palmer</td>\n",
       "      <td>https://kramer.com/</td>\n",
       "      <td>Denmark</td>\n",
       "      <td>Optimized optimizing moderator</td>\n",
       "      <td>2010</td>\n",
       "      <td>Management Consulting</td>\n",
       "      <td>6991</td>\n",
       "    </tr>\n",
       "    <tr>\n",
       "      <th>5</th>\n",
       "      <td>6</td>\n",
       "      <td>6774DC1dB00BD11</td>\n",
       "      <td>Farmer, Edwards and Andrade</td>\n",
       "      <td>http://wolfe-boyd.com/</td>\n",
       "      <td>Norfolk Island</td>\n",
       "      <td>Virtual leadingedge benchmark</td>\n",
       "      <td>2003</td>\n",
       "      <td>Mental Health Care</td>\n",
       "      <td>3503</td>\n",
       "    </tr>\n",
       "    <tr>\n",
       "      <th>10</th>\n",
       "      <td>11</td>\n",
       "      <td>C494aBe0CDB9c70</td>\n",
       "      <td>Gonzales Inc</td>\n",
       "      <td>http://lara.org/</td>\n",
       "      <td>Angola</td>\n",
       "      <td>Enterprise-wide attitude-oriented conglomeration</td>\n",
       "      <td>2019</td>\n",
       "      <td>Capital Markets / Hedge Fund / Private Equity</td>\n",
       "      <td>2252</td>\n",
       "    </tr>\n",
       "    <tr>\n",
       "      <th>11</th>\n",
       "      <td>12</td>\n",
       "      <td>9FBF69aa2D9AAF1</td>\n",
       "      <td>Ballard, Goodman and Boone</td>\n",
       "      <td>http://berger-chen.info/</td>\n",
       "      <td>Iran</td>\n",
       "      <td>Multi-layered zero administration ability</td>\n",
       "      <td>2019</td>\n",
       "      <td>Logistics / Procurement</td>\n",
       "      <td>6165</td>\n",
       "    </tr>\n",
       "  </tbody>\n",
       "</table>\n",
       "</div>"
      ],
      "text/plain": [
       "    Index  Organization Id                         Name  \\\n",
       "2       3  ad2eb3C8C24DB87                    Gill-Lamb   \n",
       "3       4  D76BB12E5eE165B                  Bauer-Weiss   \n",
       "4       5  2F31EddF2Db9aAE                  Love-Palmer   \n",
       "5       6  6774DC1dB00BD11  Farmer, Edwards and Andrade   \n",
       "10     11  C494aBe0CDB9c70                 Gonzales Inc   \n",
       "11     12  9FBF69aa2D9AAF1   Ballard, Goodman and Boone   \n",
       "\n",
       "                         Website                   Country  \\\n",
       "2                http://lin.com/             Cote d'Ivoire   \n",
       "3   https://gillespie-stout.com/  United States of America   \n",
       "4            https://kramer.com/                   Denmark   \n",
       "5         http://wolfe-boyd.com/            Norfolk Island   \n",
       "10              http://lara.org/                    Angola   \n",
       "11      http://berger-chen.info/                      Iran   \n",
       "\n",
       "                                         Description  Founded  \\\n",
       "2           Programmable intermediate conglomeration     2005   \n",
       "3                   Synergistic maximized definition     2015   \n",
       "4                     Optimized optimizing moderator     2010   \n",
       "5                      Virtual leadingedge benchmark     2003   \n",
       "10  Enterprise-wide attitude-oriented conglomeration     2019   \n",
       "11         Multi-layered zero administration ability     2019   \n",
       "\n",
       "                                         Industry  Number of employees  \n",
       "2                               Apparel / Fashion                 5105  \n",
       "3                                           Dairy                 9069  \n",
       "4                           Management Consulting                 6991  \n",
       "5                              Mental Health Care                 3503  \n",
       "10  Capital Markets / Hedge Fund / Private Equity                 2252  \n",
       "11                        Logistics / Procurement                 6165  "
      ]
     },
     "execution_count": 62,
     "metadata": {},
     "output_type": "execute_result"
    }
   ],
   "source": [
    "# whole dataframe where country >2000\n",
    "org_data[is_coco].head(6)"
   ]
  },
  {
   "cell_type": "code",
   "execution_count": 80,
   "id": "69bd68f5-6f2b-473e-b624-206915716a8a",
   "metadata": {},
   "outputs": [
    {
     "data": {
      "text/html": [
       "<div>\n",
       "<style scoped>\n",
       "    .dataframe tbody tr th:only-of-type {\n",
       "        vertical-align: middle;\n",
       "    }\n",
       "\n",
       "    .dataframe tbody tr th {\n",
       "        vertical-align: top;\n",
       "    }\n",
       "\n",
       "    .dataframe thead th {\n",
       "        text-align: right;\n",
       "    }\n",
       "</style>\n",
       "<table border=\"1\" class=\"dataframe\">\n",
       "  <thead>\n",
       "    <tr style=\"text-align: right;\">\n",
       "      <th></th>\n",
       "      <th>Index</th>\n",
       "      <th>Organization Id</th>\n",
       "      <th>Name</th>\n",
       "      <th>Website</th>\n",
       "      <th>Country</th>\n",
       "      <th>Description</th>\n",
       "      <th>Founded</th>\n",
       "      <th>Industry</th>\n",
       "      <th>Number of employees</th>\n",
       "    </tr>\n",
       "  </thead>\n",
       "  <tbody>\n",
       "    <tr>\n",
       "      <th>3</th>\n",
       "      <td>4</td>\n",
       "      <td>D76BB12E5eE165B</td>\n",
       "      <td>Bauer-Weiss</td>\n",
       "      <td>https://gillespie-stout.com/</td>\n",
       "      <td>United States of America</td>\n",
       "      <td>Synergistic maximized definition</td>\n",
       "      <td>2015</td>\n",
       "      <td>Dairy</td>\n",
       "      <td>9069</td>\n",
       "    </tr>\n",
       "    <tr>\n",
       "      <th>10</th>\n",
       "      <td>11</td>\n",
       "      <td>C494aBe0CDB9c70</td>\n",
       "      <td>Gonzales Inc</td>\n",
       "      <td>http://lara.org/</td>\n",
       "      <td>Angola</td>\n",
       "      <td>Enterprise-wide attitude-oriented conglomeration</td>\n",
       "      <td>2019</td>\n",
       "      <td>Capital Markets / Hedge Fund / Private Equity</td>\n",
       "      <td>2252</td>\n",
       "    </tr>\n",
       "    <tr>\n",
       "      <th>11</th>\n",
       "      <td>12</td>\n",
       "      <td>9FBF69aa2D9AAF1</td>\n",
       "      <td>Ballard, Goodman and Boone</td>\n",
       "      <td>http://berger-chen.info/</td>\n",
       "      <td>Iran</td>\n",
       "      <td>Multi-layered zero administration ability</td>\n",
       "      <td>2019</td>\n",
       "      <td>Logistics / Procurement</td>\n",
       "      <td>6165</td>\n",
       "    </tr>\n",
       "    <tr>\n",
       "      <th>13</th>\n",
       "      <td>14</td>\n",
       "      <td>e5CA6529DCD4030</td>\n",
       "      <td>Mcpherson-Blanchard</td>\n",
       "      <td>http://www.ward.com/</td>\n",
       "      <td>Bulgaria</td>\n",
       "      <td>Integrated didactic product</td>\n",
       "      <td>1972</td>\n",
       "      <td>Law Enforcement</td>\n",
       "      <td>9890</td>\n",
       "    </tr>\n",
       "    <tr>\n",
       "      <th>15</th>\n",
       "      <td>16</td>\n",
       "      <td>CDa7Ec784D5A8Bd</td>\n",
       "      <td>Meza, Ramirez and Braun</td>\n",
       "      <td>https://hardy.biz/</td>\n",
       "      <td>Timor-Leste</td>\n",
       "      <td>Customer-focused multi-tasking ability</td>\n",
       "      <td>2012</td>\n",
       "      <td>Public Relations / PR</td>\n",
       "      <td>5205</td>\n",
       "    </tr>\n",
       "    <tr>\n",
       "      <th>...</th>\n",
       "      <td>...</td>\n",
       "      <td>...</td>\n",
       "      <td>...</td>\n",
       "      <td>...</td>\n",
       "      <td>...</td>\n",
       "      <td>...</td>\n",
       "      <td>...</td>\n",
       "      <td>...</td>\n",
       "      <td>...</td>\n",
       "    </tr>\n",
       "    <tr>\n",
       "      <th>990</th>\n",
       "      <td>991</td>\n",
       "      <td>bFCb5cE5b9cEEFE</td>\n",
       "      <td>Nixon LLC</td>\n",
       "      <td>http://www.andersen-yu.com/</td>\n",
       "      <td>Tanzania</td>\n",
       "      <td>Reactive local ability</td>\n",
       "      <td>2019</td>\n",
       "      <td>Writing / Editing</td>\n",
       "      <td>7940</td>\n",
       "    </tr>\n",
       "    <tr>\n",
       "      <th>991</th>\n",
       "      <td>992</td>\n",
       "      <td>958CAbB9B17124D</td>\n",
       "      <td>Vega, Miller and Calderon</td>\n",
       "      <td>http://www.joseph-contreras.com/</td>\n",
       "      <td>Cambodia</td>\n",
       "      <td>Sharable asymmetric monitoring</td>\n",
       "      <td>2012</td>\n",
       "      <td>Professional Training</td>\n",
       "      <td>8250</td>\n",
       "    </tr>\n",
       "    <tr>\n",
       "      <th>996</th>\n",
       "      <td>997</td>\n",
       "      <td>cEF9B4675E4bBd0</td>\n",
       "      <td>Mason Inc</td>\n",
       "      <td>https://franco-walls.com/</td>\n",
       "      <td>United States of America</td>\n",
       "      <td>Distributed exuding initiative</td>\n",
       "      <td>2015</td>\n",
       "      <td>Law Enforcement</td>\n",
       "      <td>9723</td>\n",
       "    </tr>\n",
       "    <tr>\n",
       "      <th>998</th>\n",
       "      <td>999</td>\n",
       "      <td>de5Fc71DE825bFc</td>\n",
       "      <td>Olson-Solomon</td>\n",
       "      <td>https://koch.com/</td>\n",
       "      <td>Cocos (Keeling) Islands</td>\n",
       "      <td>Virtual responsive moderator</td>\n",
       "      <td>2013</td>\n",
       "      <td>Investment Banking / Venture</td>\n",
       "      <td>3825</td>\n",
       "    </tr>\n",
       "    <tr>\n",
       "      <th>999</th>\n",
       "      <td>1000</td>\n",
       "      <td>3ddb89ecD83B533</td>\n",
       "      <td>Maddox, Owen and Shepherd</td>\n",
       "      <td>https://www.hamilton.com/</td>\n",
       "      <td>Guinea</td>\n",
       "      <td>Reactive bottom-line pricing structure</td>\n",
       "      <td>2019</td>\n",
       "      <td>Animation</td>\n",
       "      <td>4467</td>\n",
       "    </tr>\n",
       "  </tbody>\n",
       "</table>\n",
       "<p>287 rows × 9 columns</p>\n",
       "</div>"
      ],
      "text/plain": [
       "     Index  Organization Id                        Name  \\\n",
       "3        4  D76BB12E5eE165B                 Bauer-Weiss   \n",
       "10      11  C494aBe0CDB9c70                Gonzales Inc   \n",
       "11      12  9FBF69aa2D9AAF1  Ballard, Goodman and Boone   \n",
       "13      14  e5CA6529DCD4030         Mcpherson-Blanchard   \n",
       "15      16  CDa7Ec784D5A8Bd     Meza, Ramirez and Braun   \n",
       "..     ...              ...                         ...   \n",
       "990    991  bFCb5cE5b9cEEFE                   Nixon LLC   \n",
       "991    992  958CAbB9B17124D   Vega, Miller and Calderon   \n",
       "996    997  cEF9B4675E4bBd0                   Mason Inc   \n",
       "998    999  de5Fc71DE825bFc               Olson-Solomon   \n",
       "999   1000  3ddb89ecD83B533   Maddox, Owen and Shepherd   \n",
       "\n",
       "                              Website                   Country  \\\n",
       "3        https://gillespie-stout.com/  United States of America   \n",
       "10                   http://lara.org/                    Angola   \n",
       "11           http://berger-chen.info/                      Iran   \n",
       "13               http://www.ward.com/                  Bulgaria   \n",
       "15                 https://hardy.biz/               Timor-Leste   \n",
       "..                                ...                       ...   \n",
       "990       http://www.andersen-yu.com/                  Tanzania   \n",
       "991  http://www.joseph-contreras.com/                  Cambodia   \n",
       "996         https://franco-walls.com/  United States of America   \n",
       "998                 https://koch.com/   Cocos (Keeling) Islands   \n",
       "999         https://www.hamilton.com/                    Guinea   \n",
       "\n",
       "                                          Description  Founded  \\\n",
       "3                    Synergistic maximized definition     2015   \n",
       "10   Enterprise-wide attitude-oriented conglomeration     2019   \n",
       "11          Multi-layered zero administration ability     2019   \n",
       "13                        Integrated didactic product     1972   \n",
       "15             Customer-focused multi-tasking ability     2012   \n",
       "..                                                ...      ...   \n",
       "990                            Reactive local ability     2019   \n",
       "991                    Sharable asymmetric monitoring     2012   \n",
       "996                    Distributed exuding initiative     2015   \n",
       "998                      Virtual responsive moderator     2013   \n",
       "999            Reactive bottom-line pricing structure     2019   \n",
       "\n",
       "                                          Industry  Number of employees  \n",
       "3                                            Dairy                 9069  \n",
       "10   Capital Markets / Hedge Fund / Private Equity                 2252  \n",
       "11                         Logistics / Procurement                 6165  \n",
       "13                                 Law Enforcement                 9890  \n",
       "15                           Public Relations / PR                 5205  \n",
       "..                                             ...                  ...  \n",
       "990                              Writing / Editing                 7940  \n",
       "991                          Professional Training                 8250  \n",
       "996                                Law Enforcement                 9723  \n",
       "998                   Investment Banking / Venture                 3825  \n",
       "999                                      Animation                 4467  \n",
       "\n",
       "[287 rows x 9 columns]"
      ]
     },
     "execution_count": 80,
     "metadata": {},
     "output_type": "execute_result"
    }
   ],
   "source": [
    "# using multiple condition and or\n",
    "org_data[(org_data['Founded']>2010) | (org_data['Number of employees']>9000)]\n"
   ]
  },
  {
   "cell_type": "code",
   "execution_count": 82,
   "id": "3bec67b1-7f82-4ddf-9a10-29fd51186a60",
   "metadata": {},
   "outputs": [
    {
     "data": {
      "text/plain": [
       "Country\n",
       "Afghanistan          3\n",
       "Albania              2\n",
       "Algeria              6\n",
       "American Samoa       8\n",
       "Andorra              5\n",
       "                    ..\n",
       "Wallis and Futuna    4\n",
       "Western Sahara       8\n",
       "Yemen                8\n",
       "Zambia               3\n",
       "Zimbabwe             6\n",
       "Length: 238, dtype: int64"
      ]
     },
     "execution_count": 82,
     "metadata": {},
     "output_type": "execute_result"
    }
   ],
   "source": [
    "# group by , group by particilar column\n",
    "org_data.groupby('Country').size()"
   ]
  },
  {
   "cell_type": "code",
   "execution_count": 84,
   "id": "445d20af-bad7-47b9-b5a1-685c6e56cf46",
   "metadata": {},
   "outputs": [
    {
     "data": {
      "text/plain": [
       "<pandas.core.groupby.generic.DataFrameGroupBy object at 0x000002A40ABCBA10>"
      ]
     },
     "execution_count": 84,
     "metadata": {},
     "output_type": "execute_result"
    }
   ],
   "source": [
    "org_data.groupby('Country')"
   ]
  },
  {
   "cell_type": "code",
   "execution_count": 86,
   "id": "c6d917e2-7230-4aca-b555-fb14ec54e220",
   "metadata": {},
   "outputs": [
    {
     "data": {
      "text/html": [
       "<div>\n",
       "<style scoped>\n",
       "    .dataframe tbody tr th:only-of-type {\n",
       "        vertical-align: middle;\n",
       "    }\n",
       "\n",
       "    .dataframe tbody tr th {\n",
       "        vertical-align: top;\n",
       "    }\n",
       "\n",
       "    .dataframe thead th {\n",
       "        text-align: right;\n",
       "    }\n",
       "</style>\n",
       "<table border=\"1\" class=\"dataframe\">\n",
       "  <thead>\n",
       "    <tr style=\"text-align: right;\">\n",
       "      <th></th>\n",
       "      <th>Index</th>\n",
       "      <th>Organization Id</th>\n",
       "      <th>Name</th>\n",
       "      <th>Website</th>\n",
       "      <th>Description</th>\n",
       "      <th>Founded</th>\n",
       "      <th>Industry</th>\n",
       "      <th>Number of employees</th>\n",
       "    </tr>\n",
       "    <tr>\n",
       "      <th>Country</th>\n",
       "      <th></th>\n",
       "      <th></th>\n",
       "      <th></th>\n",
       "      <th></th>\n",
       "      <th></th>\n",
       "      <th></th>\n",
       "      <th></th>\n",
       "      <th></th>\n",
       "    </tr>\n",
       "  </thead>\n",
       "  <tbody>\n",
       "    <tr>\n",
       "      <th>Afghanistan</th>\n",
       "      <td>3</td>\n",
       "      <td>3</td>\n",
       "      <td>3</td>\n",
       "      <td>3</td>\n",
       "      <td>3</td>\n",
       "      <td>3</td>\n",
       "      <td>3</td>\n",
       "      <td>3</td>\n",
       "    </tr>\n",
       "    <tr>\n",
       "      <th>Albania</th>\n",
       "      <td>2</td>\n",
       "      <td>2</td>\n",
       "      <td>2</td>\n",
       "      <td>2</td>\n",
       "      <td>2</td>\n",
       "      <td>2</td>\n",
       "      <td>2</td>\n",
       "      <td>2</td>\n",
       "    </tr>\n",
       "    <tr>\n",
       "      <th>Algeria</th>\n",
       "      <td>6</td>\n",
       "      <td>6</td>\n",
       "      <td>6</td>\n",
       "      <td>6</td>\n",
       "      <td>6</td>\n",
       "      <td>6</td>\n",
       "      <td>6</td>\n",
       "      <td>6</td>\n",
       "    </tr>\n",
       "    <tr>\n",
       "      <th>American Samoa</th>\n",
       "      <td>8</td>\n",
       "      <td>8</td>\n",
       "      <td>8</td>\n",
       "      <td>8</td>\n",
       "      <td>8</td>\n",
       "      <td>8</td>\n",
       "      <td>8</td>\n",
       "      <td>8</td>\n",
       "    </tr>\n",
       "    <tr>\n",
       "      <th>Andorra</th>\n",
       "      <td>5</td>\n",
       "      <td>5</td>\n",
       "      <td>5</td>\n",
       "      <td>5</td>\n",
       "      <td>5</td>\n",
       "      <td>5</td>\n",
       "      <td>5</td>\n",
       "      <td>5</td>\n",
       "    </tr>\n",
       "    <tr>\n",
       "      <th>...</th>\n",
       "      <td>...</td>\n",
       "      <td>...</td>\n",
       "      <td>...</td>\n",
       "      <td>...</td>\n",
       "      <td>...</td>\n",
       "      <td>...</td>\n",
       "      <td>...</td>\n",
       "      <td>...</td>\n",
       "    </tr>\n",
       "    <tr>\n",
       "      <th>Wallis and Futuna</th>\n",
       "      <td>4</td>\n",
       "      <td>4</td>\n",
       "      <td>4</td>\n",
       "      <td>4</td>\n",
       "      <td>4</td>\n",
       "      <td>4</td>\n",
       "      <td>4</td>\n",
       "      <td>4</td>\n",
       "    </tr>\n",
       "    <tr>\n",
       "      <th>Western Sahara</th>\n",
       "      <td>8</td>\n",
       "      <td>8</td>\n",
       "      <td>8</td>\n",
       "      <td>8</td>\n",
       "      <td>8</td>\n",
       "      <td>8</td>\n",
       "      <td>8</td>\n",
       "      <td>8</td>\n",
       "    </tr>\n",
       "    <tr>\n",
       "      <th>Yemen</th>\n",
       "      <td>8</td>\n",
       "      <td>8</td>\n",
       "      <td>8</td>\n",
       "      <td>8</td>\n",
       "      <td>8</td>\n",
       "      <td>8</td>\n",
       "      <td>8</td>\n",
       "      <td>8</td>\n",
       "    </tr>\n",
       "    <tr>\n",
       "      <th>Zambia</th>\n",
       "      <td>3</td>\n",
       "      <td>3</td>\n",
       "      <td>3</td>\n",
       "      <td>3</td>\n",
       "      <td>3</td>\n",
       "      <td>3</td>\n",
       "      <td>3</td>\n",
       "      <td>3</td>\n",
       "    </tr>\n",
       "    <tr>\n",
       "      <th>Zimbabwe</th>\n",
       "      <td>6</td>\n",
       "      <td>6</td>\n",
       "      <td>6</td>\n",
       "      <td>6</td>\n",
       "      <td>6</td>\n",
       "      <td>6</td>\n",
       "      <td>6</td>\n",
       "      <td>6</td>\n",
       "    </tr>\n",
       "  </tbody>\n",
       "</table>\n",
       "<p>238 rows × 8 columns</p>\n",
       "</div>"
      ],
      "text/plain": [
       "                   Index  Organization Id  Name  Website  Description  \\\n",
       "Country                                                                 \n",
       "Afghanistan            3                3     3        3            3   \n",
       "Albania                2                2     2        2            2   \n",
       "Algeria                6                6     6        6            6   \n",
       "American Samoa         8                8     8        8            8   \n",
       "Andorra                5                5     5        5            5   \n",
       "...                  ...              ...   ...      ...          ...   \n",
       "Wallis and Futuna      4                4     4        4            4   \n",
       "Western Sahara         8                8     8        8            8   \n",
       "Yemen                  8                8     8        8            8   \n",
       "Zambia                 3                3     3        3            3   \n",
       "Zimbabwe               6                6     6        6            6   \n",
       "\n",
       "                   Founded  Industry  Number of employees  \n",
       "Country                                                    \n",
       "Afghanistan              3         3                    3  \n",
       "Albania                  2         2                    2  \n",
       "Algeria                  6         6                    6  \n",
       "American Samoa           8         8                    8  \n",
       "Andorra                  5         5                    5  \n",
       "...                    ...       ...                  ...  \n",
       "Wallis and Futuna        4         4                    4  \n",
       "Western Sahara           8         8                    8  \n",
       "Yemen                    8         8                    8  \n",
       "Zambia                   3         3                    3  \n",
       "Zimbabwe                 6         6                    6  \n",
       "\n",
       "[238 rows x 8 columns]"
      ]
     },
     "execution_count": 86,
     "metadata": {},
     "output_type": "execute_result"
    }
   ],
   "source": [
    "org_data.groupby('Country').count()\n",
    "# size give data only at once \n",
    "# count is applied on each column and give data for each column"
   ]
  },
  {
   "cell_type": "markdown",
   "id": "c089cf36-a235-461f-a9c8-48e7b4fc3023",
   "metadata": {},
   "source": [
    "# using count method at individual column\n",
    "org_data.groupby('Country')['Name'].size()"
   ]
  },
  {
   "cell_type": "markdown",
   "id": "2d485066-3520-4d33-a12a-ba697d97a498",
   "metadata": {},
   "source": [
    "### Join in pandas"
   ]
  },
  {
   "cell_type": "code",
   "execution_count": null,
   "id": "8d085b37-c1b8-41cd-82b8-e9d12f2f6a17",
   "metadata": {},
   "outputs": [],
   "source": []
  },
  {
   "cell_type": "markdown",
   "id": "c41e489a-b3b8-4868-9f5f-a28074dae43d",
   "metadata": {},
   "source": [
    "### Union in pandas"
   ]
  },
  {
   "cell_type": "code",
   "execution_count": 100,
   "id": "a43cdd25-001f-43d0-96b8-bd8ef4e95c1e",
   "metadata": {},
   "outputs": [
    {
     "data": {
      "text/html": [
       "<div>\n",
       "<style scoped>\n",
       "    .dataframe tbody tr th:only-of-type {\n",
       "        vertical-align: middle;\n",
       "    }\n",
       "\n",
       "    .dataframe tbody tr th {\n",
       "        vertical-align: top;\n",
       "    }\n",
       "\n",
       "    .dataframe thead th {\n",
       "        text-align: right;\n",
       "    }\n",
       "</style>\n",
       "<table border=\"1\" class=\"dataframe\">\n",
       "  <thead>\n",
       "    <tr style=\"text-align: right;\">\n",
       "      <th></th>\n",
       "      <th>Name</th>\n",
       "      <th>Stream</th>\n",
       "      <th>Age</th>\n",
       "    </tr>\n",
       "  </thead>\n",
       "  <tbody>\n",
       "    <tr>\n",
       "      <th>0</th>\n",
       "      <td>Parisha</td>\n",
       "      <td>CSE</td>\n",
       "      <td>18.0</td>\n",
       "    </tr>\n",
       "    <tr>\n",
       "      <th>1</th>\n",
       "      <td>Diya</td>\n",
       "      <td>ME</td>\n",
       "      <td>13.0</td>\n",
       "    </tr>\n",
       "    <tr>\n",
       "      <th>2</th>\n",
       "      <td>Manya</td>\n",
       "      <td>EE</td>\n",
       "      <td>16.0</td>\n",
       "    </tr>\n",
       "    <tr>\n",
       "      <th>3</th>\n",
       "      <td>Shubh</td>\n",
       "      <td>CSE</td>\n",
       "      <td>19.0</td>\n",
       "    </tr>\n",
       "    <tr>\n",
       "      <th>4</th>\n",
       "      <td>Gourav</td>\n",
       "      <td>EBME</td>\n",
       "      <td>12.0</td>\n",
       "    </tr>\n",
       "    <tr>\n",
       "      <th>0</th>\n",
       "      <td>Kush</td>\n",
       "      <td>ft</td>\n",
       "      <td>NaN</td>\n",
       "    </tr>\n",
       "    <tr>\n",
       "      <th>1</th>\n",
       "      <td>Pankaj</td>\n",
       "      <td>er</td>\n",
       "      <td>NaN</td>\n",
       "    </tr>\n",
       "    <tr>\n",
       "      <th>2</th>\n",
       "      <td>Arushi</td>\n",
       "      <td>ME</td>\n",
       "      <td>NaN</td>\n",
       "    </tr>\n",
       "    <tr>\n",
       "      <th>3</th>\n",
       "      <td>Sam</td>\n",
       "      <td>BE</td>\n",
       "      <td>NaN</td>\n",
       "    </tr>\n",
       "    <tr>\n",
       "      <th>4</th>\n",
       "      <td>Rohit</td>\n",
       "      <td>TE</td>\n",
       "      <td>NaN</td>\n",
       "    </tr>\n",
       "  </tbody>\n",
       "</table>\n",
       "</div>"
      ],
      "text/plain": [
       "      Name Stream   Age\n",
       "0  Parisha    CSE  18.0\n",
       "1     Diya     ME  13.0\n",
       "2    Manya     EE  16.0\n",
       "3    Shubh    CSE  19.0\n",
       "4   Gourav   EBME  12.0\n",
       "0     Kush     ft   NaN\n",
       "1   Pankaj     er   NaN\n",
       "2   Arushi     ME   NaN\n",
       "3      Sam     BE   NaN\n",
       "4    Rohit     TE   NaN"
      ]
     },
     "execution_count": 100,
     "metadata": {},
     "output_type": "execute_result"
    }
   ],
   "source": [
    "import pandas as pd\n",
    "df1=pd.DataFrame(\n",
    "  { 'Name':['Parisha','Diya','Manya','Shubh','Gourav'],\n",
    "   'Stream':['CSE','ME','EE','CSE','EBME'],\n",
    "    'Age':[18,13,16,19,12]})\n",
    "df2=pd.DataFrame({\n",
    "    'Name':['Kush','Pankaj','Arushi','Sam','Rohit'],\n",
    "    'Stream':['ft','er','ME','BE','TE']\n",
    "  })\n",
    "# Concatenate\n",
    "pd.concat([df1,df2])\n"
   ]
  },
  {
   "cell_type": "code",
   "execution_count": 102,
   "id": "5393fdea-3c01-458b-832f-e39be41c824f",
   "metadata": {},
   "outputs": [
    {
     "data": {
      "text/html": [
       "<div>\n",
       "<style scoped>\n",
       "    .dataframe tbody tr th:only-of-type {\n",
       "        vertical-align: middle;\n",
       "    }\n",
       "\n",
       "    .dataframe tbody tr th {\n",
       "        vertical-align: top;\n",
       "    }\n",
       "\n",
       "    .dataframe thead th {\n",
       "        text-align: right;\n",
       "    }\n",
       "</style>\n",
       "<table border=\"1\" class=\"dataframe\">\n",
       "  <thead>\n",
       "    <tr style=\"text-align: right;\">\n",
       "      <th></th>\n",
       "      <th>Name</th>\n",
       "      <th>Stream</th>\n",
       "      <th>Age</th>\n",
       "    </tr>\n",
       "  </thead>\n",
       "  <tbody>\n",
       "    <tr>\n",
       "      <th>0</th>\n",
       "      <td>Parisha</td>\n",
       "      <td>CSE</td>\n",
       "      <td>18.0</td>\n",
       "    </tr>\n",
       "    <tr>\n",
       "      <th>1</th>\n",
       "      <td>Diya</td>\n",
       "      <td>ME</td>\n",
       "      <td>13.0</td>\n",
       "    </tr>\n",
       "    <tr>\n",
       "      <th>2</th>\n",
       "      <td>Manya</td>\n",
       "      <td>EE</td>\n",
       "      <td>16.0</td>\n",
       "    </tr>\n",
       "    <tr>\n",
       "      <th>3</th>\n",
       "      <td>Shubh</td>\n",
       "      <td>CSE</td>\n",
       "      <td>19.0</td>\n",
       "    </tr>\n",
       "    <tr>\n",
       "      <th>4</th>\n",
       "      <td>Gourav</td>\n",
       "      <td>EBME</td>\n",
       "      <td>12.0</td>\n",
       "    </tr>\n",
       "    <tr>\n",
       "      <th>0</th>\n",
       "      <td>Kush</td>\n",
       "      <td>ft</td>\n",
       "      <td>NaN</td>\n",
       "    </tr>\n",
       "    <tr>\n",
       "      <th>1</th>\n",
       "      <td>Pankaj</td>\n",
       "      <td>er</td>\n",
       "      <td>NaN</td>\n",
       "    </tr>\n",
       "    <tr>\n",
       "      <th>2</th>\n",
       "      <td>Arushi</td>\n",
       "      <td>ME</td>\n",
       "      <td>NaN</td>\n",
       "    </tr>\n",
       "    <tr>\n",
       "      <th>3</th>\n",
       "      <td>Sam</td>\n",
       "      <td>BE</td>\n",
       "      <td>NaN</td>\n",
       "    </tr>\n",
       "    <tr>\n",
       "      <th>4</th>\n",
       "      <td>Rohit</td>\n",
       "      <td>TE</td>\n",
       "      <td>NaN</td>\n",
       "    </tr>\n",
       "  </tbody>\n",
       "</table>\n",
       "</div>"
      ],
      "text/plain": [
       "      Name Stream   Age\n",
       "0  Parisha    CSE  18.0\n",
       "1     Diya     ME  13.0\n",
       "2    Manya     EE  16.0\n",
       "3    Shubh    CSE  19.0\n",
       "4   Gourav   EBME  12.0\n",
       "0     Kush     ft   NaN\n",
       "1   Pankaj     er   NaN\n",
       "2   Arushi     ME   NaN\n",
       "3      Sam     BE   NaN\n",
       "4    Rohit     TE   NaN"
      ]
     },
     "execution_count": 102,
     "metadata": {},
     "output_type": "execute_result"
    }
   ],
   "source": [
    "# drop the duplicates\n",
    "pd.concat([df1,df2]).drop_duplicates()"
   ]
  },
  {
   "cell_type": "markdown",
   "id": "2acc2a49-d4ad-4d32-b08c-1fdeed146cf1",
   "metadata": {},
   "source": [
    "### Limit "
   ]
  },
  {
   "cell_type": "code",
   "execution_count": 106,
   "id": "3a0854a1-eb3b-4bcf-a9d0-4f9efa55ef64",
   "metadata": {},
   "outputs": [
    {
     "ename": "NameError",
     "evalue": "name 'dws' is not defined",
     "output_type": "error",
     "traceback": [
      "\u001b[1;31m---------------------------------------------------------------------------\u001b[0m",
      "\u001b[1;31mNameError\u001b[0m                                 Traceback (most recent call last)",
      "Cell \u001b[1;32mIn[106], line 1\u001b[0m\n\u001b[1;32m----> 1\u001b[0m dws\n",
      "\u001b[1;31mNameError\u001b[0m: name 'dws' is not defined"
     ]
    }
   ],
   "source": []
  },
  {
   "cell_type": "markdown",
   "id": "9664c0ea-b575-4868-820e-8dffea248e28",
   "metadata": {},
   "source": [
    "### Object creation"
   ]
  },
  {
   "cell_type": "code",
   "execution_count": 109,
   "id": "cfc8bf5d-49e3-4843-beb5-547d577f74ed",
   "metadata": {},
   "outputs": [
    {
     "name": "stdout",
     "output_type": "stream",
     "text": [
      "0    1.0\n",
      "1    7.0\n",
      "2    4.0\n",
      "3    2.0\n",
      "4    NaN\n",
      "5    8.0\n",
      "dtype: float64\n"
     ]
    }
   ],
   "source": [
    "import pandas as pd\n",
    "import numpy as np\n",
    "s=pd.Series([1,7,4,2,np.nan,8])\n",
    "print(s)"
   ]
  },
  {
   "cell_type": "code",
   "execution_count": 111,
   "id": "277a37df-6649-4d01-a9f7-98e6c9e3953c",
   "metadata": {},
   "outputs": [
    {
     "data": {
      "text/plain": [
       "DatetimeIndex(['2013-01-01', '2013-01-02', '2013-01-03', '2013-01-04',\n",
       "               '2013-01-05', '2013-01-06'],\n",
       "              dtype='datetime64[ns]', freq='D')"
      ]
     },
     "execution_count": 111,
     "metadata": {},
     "output_type": "execute_result"
    }
   ],
   "source": [
    "# array of dates, datetime index and np array\n",
    "# 20130101- 2013-01-01 day will increase \n",
    "dates=pd.date_range(\"20130101\",periods=6)\n",
    "dates"
   ]
  },
  {
   "cell_type": "code",
   "execution_count": 11,
   "id": "fcfb4de1-90db-40cd-bff8-93635feb1a5c",
   "metadata": {},
   "outputs": [
    {
     "name": "stdout",
     "output_type": "stream",
     "text": [
      "the dataframe is :\n"
     ]
    },
    {
     "data": {
      "text/html": [
       "<div>\n",
       "<style scoped>\n",
       "    .dataframe tbody tr th:only-of-type {\n",
       "        vertical-align: middle;\n",
       "    }\n",
       "\n",
       "    .dataframe tbody tr th {\n",
       "        vertical-align: top;\n",
       "    }\n",
       "\n",
       "    .dataframe thead th {\n",
       "        text-align: right;\n",
       "    }\n",
       "</style>\n",
       "<table border=\"1\" class=\"dataframe\">\n",
       "  <thead>\n",
       "    <tr style=\"text-align: right;\">\n",
       "      <th></th>\n",
       "      <th>A</th>\n",
       "      <th>B</th>\n",
       "      <th>C</th>\n",
       "      <th>D</th>\n",
       "      <th>E</th>\n",
       "      <th>F</th>\n",
       "    </tr>\n",
       "  </thead>\n",
       "  <tbody>\n",
       "    <tr>\n",
       "      <th>0</th>\n",
       "      <td>1.0</td>\n",
       "      <td>2030-05-02</td>\n",
       "      <td>1.0</td>\n",
       "      <td>3</td>\n",
       "      <td>test</td>\n",
       "      <td>foo</td>\n",
       "    </tr>\n",
       "    <tr>\n",
       "      <th>1</th>\n",
       "      <td>1.0</td>\n",
       "      <td>2030-05-02</td>\n",
       "      <td>1.0</td>\n",
       "      <td>3</td>\n",
       "      <td>train</td>\n",
       "      <td>foo</td>\n",
       "    </tr>\n",
       "    <tr>\n",
       "      <th>2</th>\n",
       "      <td>1.0</td>\n",
       "      <td>2030-05-02</td>\n",
       "      <td>1.0</td>\n",
       "      <td>3</td>\n",
       "      <td>test</td>\n",
       "      <td>foo</td>\n",
       "    </tr>\n",
       "    <tr>\n",
       "      <th>3</th>\n",
       "      <td>1.0</td>\n",
       "      <td>2030-05-02</td>\n",
       "      <td>1.0</td>\n",
       "      <td>3</td>\n",
       "      <td>train</td>\n",
       "      <td>foo</td>\n",
       "    </tr>\n",
       "  </tbody>\n",
       "</table>\n",
       "</div>"
      ],
      "text/plain": [
       "     A          B    C  D      E    F\n",
       "0  1.0 2030-05-02  1.0  3   test  foo\n",
       "1  1.0 2030-05-02  1.0  3  train  foo\n",
       "2  1.0 2030-05-02  1.0  3   test  foo\n",
       "3  1.0 2030-05-02  1.0  3  train  foo"
      ]
     },
     "execution_count": 11,
     "metadata": {},
     "output_type": "execute_result"
    }
   ],
   "source": [
    "# dataframe through dictionary\n",
    "import pandas as pd \n",
    "import numpy as np\n",
    "# timestamp doesn't increment value of date \n",
    "df2=pd.DataFrame(\n",
    "    { 'A':1.0,\n",
    "     'B':pd.Timestamp('20300502'),\n",
    "     'C':pd.Series(1,index=list(range(4)),dtype='float32'),\n",
    "     'D':np.array([3]*4,dtype='int32'),\n",
    "     'E':pd.Categorical(['test','train','test','train']),\n",
    "     'F':'foo'   \n",
    "    }\n",
    ")\n",
    "print(\"the dataframe is :\")\n",
    "df2"
   ]
  },
  {
   "cell_type": "code",
   "execution_count": 13,
   "id": "5eeef76a-fe69-4426-9c15-d19848d9d874",
   "metadata": {},
   "outputs": [
    {
     "name": "stdout",
     "output_type": "stream",
     "text": [
      "the dtype of dataframe is :\n"
     ]
    },
    {
     "data": {
      "text/plain": [
       "A          float64\n",
       "B    datetime64[s]\n",
       "C          float32\n",
       "D            int32\n",
       "E         category\n",
       "F           object\n",
       "dtype: object"
      ]
     },
     "execution_count": 13,
     "metadata": {},
     "output_type": "execute_result"
    }
   ],
   "source": [
    "# dtype for df2 is different of every column \n",
    "print(\"the dtype of dataframe is :\")\n",
    "df2.dtypes"
   ]
  },
  {
   "cell_type": "code",
   "execution_count": 17,
   "id": "92dcde10-1c26-4947-b967-64bfa5e00358",
   "metadata": {},
   "outputs": [
    {
     "data": {
      "text/html": [
       "<div>\n",
       "<style scoped>\n",
       "    .dataframe tbody tr th:only-of-type {\n",
       "        vertical-align: middle;\n",
       "    }\n",
       "\n",
       "    .dataframe tbody tr th {\n",
       "        vertical-align: top;\n",
       "    }\n",
       "\n",
       "    .dataframe thead th {\n",
       "        text-align: right;\n",
       "    }\n",
       "</style>\n",
       "<table border=\"1\" class=\"dataframe\">\n",
       "  <thead>\n",
       "    <tr style=\"text-align: right;\">\n",
       "      <th></th>\n",
       "      <th>A</th>\n",
       "      <th>B</th>\n",
       "      <th>C</th>\n",
       "      <th>D</th>\n",
       "      <th>E</th>\n",
       "      <th>F</th>\n",
       "    </tr>\n",
       "  </thead>\n",
       "  <tbody>\n",
       "    <tr>\n",
       "      <th>0</th>\n",
       "      <td>1.0</td>\n",
       "      <td>2030-05-02</td>\n",
       "      <td>1.0</td>\n",
       "      <td>3</td>\n",
       "      <td>test</td>\n",
       "      <td>foo</td>\n",
       "    </tr>\n",
       "    <tr>\n",
       "      <th>1</th>\n",
       "      <td>1.0</td>\n",
       "      <td>2030-05-02</td>\n",
       "      <td>1.0</td>\n",
       "      <td>3</td>\n",
       "      <td>train</td>\n",
       "      <td>foo</td>\n",
       "    </tr>\n",
       "  </tbody>\n",
       "</table>\n",
       "</div>"
      ],
      "text/plain": [
       "     A          B    C  D      E    F\n",
       "0  1.0 2030-05-02  1.0  3   test  foo\n",
       "1  1.0 2030-05-02  1.0  3  train  foo"
      ]
     },
     "execution_count": 17,
     "metadata": {},
     "output_type": "execute_result"
    }
   ],
   "source": [
    "# view data \n",
    "df2.head(2)"
   ]
  },
  {
   "cell_type": "code",
   "execution_count": 19,
   "id": "a4207ea2-d0b2-4772-a96f-fd5e27e1e27a",
   "metadata": {},
   "outputs": [
    {
     "data": {
      "text/html": [
       "<div>\n",
       "<style scoped>\n",
       "    .dataframe tbody tr th:only-of-type {\n",
       "        vertical-align: middle;\n",
       "    }\n",
       "\n",
       "    .dataframe tbody tr th {\n",
       "        vertical-align: top;\n",
       "    }\n",
       "\n",
       "    .dataframe thead th {\n",
       "        text-align: right;\n",
       "    }\n",
       "</style>\n",
       "<table border=\"1\" class=\"dataframe\">\n",
       "  <thead>\n",
       "    <tr style=\"text-align: right;\">\n",
       "      <th></th>\n",
       "      <th>A</th>\n",
       "      <th>B</th>\n",
       "      <th>C</th>\n",
       "      <th>D</th>\n",
       "      <th>E</th>\n",
       "      <th>F</th>\n",
       "    </tr>\n",
       "  </thead>\n",
       "  <tbody>\n",
       "    <tr>\n",
       "      <th>2</th>\n",
       "      <td>1.0</td>\n",
       "      <td>2030-05-02</td>\n",
       "      <td>1.0</td>\n",
       "      <td>3</td>\n",
       "      <td>test</td>\n",
       "      <td>foo</td>\n",
       "    </tr>\n",
       "    <tr>\n",
       "      <th>3</th>\n",
       "      <td>1.0</td>\n",
       "      <td>2030-05-02</td>\n",
       "      <td>1.0</td>\n",
       "      <td>3</td>\n",
       "      <td>train</td>\n",
       "      <td>foo</td>\n",
       "    </tr>\n",
       "  </tbody>\n",
       "</table>\n",
       "</div>"
      ],
      "text/plain": [
       "     A          B    C  D      E    F\n",
       "2  1.0 2030-05-02  1.0  3   test  foo\n",
       "3  1.0 2030-05-02  1.0  3  train  foo"
      ]
     },
     "execution_count": 19,
     "metadata": {},
     "output_type": "execute_result"
    }
   ],
   "source": [
    "# tain of data\n",
    "# getting from last - tail()\n",
    "df2.tail(2)"
   ]
  },
  {
   "cell_type": "code",
   "execution_count": 21,
   "id": "cae81a0b-0688-479c-8c82-9e53ae67c97f",
   "metadata": {},
   "outputs": [
    {
     "data": {
      "text/plain": [
       "Index(['A', 'B', 'C', 'D', 'E', 'F'], dtype='object')"
      ]
     },
     "execution_count": 21,
     "metadata": {},
     "output_type": "execute_result"
    }
   ],
   "source": [
    "# get the index\n",
    "df2.columns"
   ]
  },
  {
   "cell_type": "code",
   "execution_count": 23,
   "id": "b9dd5d5e-5487-4100-acd5-36e8f82e2faf",
   "metadata": {},
   "outputs": [
    {
     "data": {
      "text/plain": [
       "array([[1.0, Timestamp('2030-05-02 00:00:00'), 1.0, 3, 'test', 'foo'],\n",
       "       [1.0, Timestamp('2030-05-02 00:00:00'), 1.0, 3, 'train', 'foo'],\n",
       "       [1.0, Timestamp('2030-05-02 00:00:00'), 1.0, 3, 'test', 'foo'],\n",
       "       [1.0, Timestamp('2030-05-02 00:00:00'), 1.0, 3, 'train', 'foo']],\n",
       "      dtype=object)"
      ]
     },
     "execution_count": 23,
     "metadata": {},
     "output_type": "execute_result"
    }
   ],
   "source": [
    "# change dataframe to numpy\n",
    "df2.to_numpy()"
   ]
  },
  {
   "cell_type": "code",
   "execution_count": 25,
   "id": "9cfe05a4-38ca-41ae-b4e4-76620a3e9a8d",
   "metadata": {},
   "outputs": [
    {
     "data": {
      "text/html": [
       "<div>\n",
       "<style scoped>\n",
       "    .dataframe tbody tr th:only-of-type {\n",
       "        vertical-align: middle;\n",
       "    }\n",
       "\n",
       "    .dataframe tbody tr th {\n",
       "        vertical-align: top;\n",
       "    }\n",
       "\n",
       "    .dataframe thead th {\n",
       "        text-align: right;\n",
       "    }\n",
       "</style>\n",
       "<table border=\"1\" class=\"dataframe\">\n",
       "  <thead>\n",
       "    <tr style=\"text-align: right;\">\n",
       "      <th></th>\n",
       "      <th>A</th>\n",
       "      <th>B</th>\n",
       "      <th>C</th>\n",
       "      <th>D</th>\n",
       "    </tr>\n",
       "  </thead>\n",
       "  <tbody>\n",
       "    <tr>\n",
       "      <th>count</th>\n",
       "      <td>4.0</td>\n",
       "      <td>4</td>\n",
       "      <td>4.0</td>\n",
       "      <td>4.0</td>\n",
       "    </tr>\n",
       "    <tr>\n",
       "      <th>mean</th>\n",
       "      <td>1.0</td>\n",
       "      <td>2030-05-02 00:00:00</td>\n",
       "      <td>1.0</td>\n",
       "      <td>3.0</td>\n",
       "    </tr>\n",
       "    <tr>\n",
       "      <th>min</th>\n",
       "      <td>1.0</td>\n",
       "      <td>2030-05-02 00:00:00</td>\n",
       "      <td>1.0</td>\n",
       "      <td>3.0</td>\n",
       "    </tr>\n",
       "    <tr>\n",
       "      <th>25%</th>\n",
       "      <td>1.0</td>\n",
       "      <td>2030-05-02 00:00:00</td>\n",
       "      <td>1.0</td>\n",
       "      <td>3.0</td>\n",
       "    </tr>\n",
       "    <tr>\n",
       "      <th>50%</th>\n",
       "      <td>1.0</td>\n",
       "      <td>2030-05-02 00:00:00</td>\n",
       "      <td>1.0</td>\n",
       "      <td>3.0</td>\n",
       "    </tr>\n",
       "    <tr>\n",
       "      <th>75%</th>\n",
       "      <td>1.0</td>\n",
       "      <td>2030-05-02 00:00:00</td>\n",
       "      <td>1.0</td>\n",
       "      <td>3.0</td>\n",
       "    </tr>\n",
       "    <tr>\n",
       "      <th>max</th>\n",
       "      <td>1.0</td>\n",
       "      <td>2030-05-02 00:00:00</td>\n",
       "      <td>1.0</td>\n",
       "      <td>3.0</td>\n",
       "    </tr>\n",
       "    <tr>\n",
       "      <th>std</th>\n",
       "      <td>0.0</td>\n",
       "      <td>NaN</td>\n",
       "      <td>0.0</td>\n",
       "      <td>0.0</td>\n",
       "    </tr>\n",
       "  </tbody>\n",
       "</table>\n",
       "</div>"
      ],
      "text/plain": [
       "         A                    B    C    D\n",
       "count  4.0                    4  4.0  4.0\n",
       "mean   1.0  2030-05-02 00:00:00  1.0  3.0\n",
       "min    1.0  2030-05-02 00:00:00  1.0  3.0\n",
       "25%    1.0  2030-05-02 00:00:00  1.0  3.0\n",
       "50%    1.0  2030-05-02 00:00:00  1.0  3.0\n",
       "75%    1.0  2030-05-02 00:00:00  1.0  3.0\n",
       "max    1.0  2030-05-02 00:00:00  1.0  3.0\n",
       "std    0.0                  NaN  0.0  0.0"
      ]
     },
     "execution_count": 25,
     "metadata": {},
     "output_type": "execute_result"
    }
   ],
   "source": [
    "# summary of dataframe\n",
    "df2.describe()"
   ]
  },
  {
   "cell_type": "code",
   "execution_count": 27,
   "id": "2ad7f754-1bef-4e67-be18-10dfcea52940",
   "metadata": {},
   "outputs": [
    {
     "data": {
      "text/html": [
       "<div>\n",
       "<style scoped>\n",
       "    .dataframe tbody tr th:only-of-type {\n",
       "        vertical-align: middle;\n",
       "    }\n",
       "\n",
       "    .dataframe tbody tr th {\n",
       "        vertical-align: top;\n",
       "    }\n",
       "\n",
       "    .dataframe thead th {\n",
       "        text-align: right;\n",
       "    }\n",
       "</style>\n",
       "<table border=\"1\" class=\"dataframe\">\n",
       "  <thead>\n",
       "    <tr style=\"text-align: right;\">\n",
       "      <th></th>\n",
       "      <th>0</th>\n",
       "      <th>1</th>\n",
       "      <th>2</th>\n",
       "      <th>3</th>\n",
       "    </tr>\n",
       "  </thead>\n",
       "  <tbody>\n",
       "    <tr>\n",
       "      <th>A</th>\n",
       "      <td>1.0</td>\n",
       "      <td>1.0</td>\n",
       "      <td>1.0</td>\n",
       "      <td>1.0</td>\n",
       "    </tr>\n",
       "    <tr>\n",
       "      <th>B</th>\n",
       "      <td>2030-05-02 00:00:00</td>\n",
       "      <td>2030-05-02 00:00:00</td>\n",
       "      <td>2030-05-02 00:00:00</td>\n",
       "      <td>2030-05-02 00:00:00</td>\n",
       "    </tr>\n",
       "    <tr>\n",
       "      <th>C</th>\n",
       "      <td>1.0</td>\n",
       "      <td>1.0</td>\n",
       "      <td>1.0</td>\n",
       "      <td>1.0</td>\n",
       "    </tr>\n",
       "    <tr>\n",
       "      <th>D</th>\n",
       "      <td>3</td>\n",
       "      <td>3</td>\n",
       "      <td>3</td>\n",
       "      <td>3</td>\n",
       "    </tr>\n",
       "    <tr>\n",
       "      <th>E</th>\n",
       "      <td>test</td>\n",
       "      <td>train</td>\n",
       "      <td>test</td>\n",
       "      <td>train</td>\n",
       "    </tr>\n",
       "    <tr>\n",
       "      <th>F</th>\n",
       "      <td>foo</td>\n",
       "      <td>foo</td>\n",
       "      <td>foo</td>\n",
       "      <td>foo</td>\n",
       "    </tr>\n",
       "  </tbody>\n",
       "</table>\n",
       "</div>"
      ],
      "text/plain": [
       "                     0                    1                    2  \\\n",
       "A                  1.0                  1.0                  1.0   \n",
       "B  2030-05-02 00:00:00  2030-05-02 00:00:00  2030-05-02 00:00:00   \n",
       "C                  1.0                  1.0                  1.0   \n",
       "D                    3                    3                    3   \n",
       "E                 test                train                 test   \n",
       "F                  foo                  foo                  foo   \n",
       "\n",
       "                     3  \n",
       "A                  1.0  \n",
       "B  2030-05-02 00:00:00  \n",
       "C                  1.0  \n",
       "D                    3  \n",
       "E                train  \n",
       "F                  foo  "
      ]
     },
     "execution_count": 27,
     "metadata": {},
     "output_type": "execute_result"
    }
   ],
   "source": [
    "# transpose the dataframe\n",
    "df2.T"
   ]
  },
  {
   "cell_type": "code",
   "execution_count": 29,
   "id": "d058615c-06e3-47b3-bb7b-79bd991f394b",
   "metadata": {},
   "outputs": [
    {
     "data": {
      "text/html": [
       "<div>\n",
       "<style scoped>\n",
       "    .dataframe tbody tr th:only-of-type {\n",
       "        vertical-align: middle;\n",
       "    }\n",
       "\n",
       "    .dataframe tbody tr th {\n",
       "        vertical-align: top;\n",
       "    }\n",
       "\n",
       "    .dataframe thead th {\n",
       "        text-align: right;\n",
       "    }\n",
       "</style>\n",
       "<table border=\"1\" class=\"dataframe\">\n",
       "  <thead>\n",
       "    <tr style=\"text-align: right;\">\n",
       "      <th></th>\n",
       "      <th>F</th>\n",
       "      <th>E</th>\n",
       "      <th>D</th>\n",
       "      <th>C</th>\n",
       "      <th>B</th>\n",
       "      <th>A</th>\n",
       "    </tr>\n",
       "  </thead>\n",
       "  <tbody>\n",
       "    <tr>\n",
       "      <th>0</th>\n",
       "      <td>foo</td>\n",
       "      <td>test</td>\n",
       "      <td>3</td>\n",
       "      <td>1.0</td>\n",
       "      <td>2030-05-02</td>\n",
       "      <td>1.0</td>\n",
       "    </tr>\n",
       "    <tr>\n",
       "      <th>1</th>\n",
       "      <td>foo</td>\n",
       "      <td>train</td>\n",
       "      <td>3</td>\n",
       "      <td>1.0</td>\n",
       "      <td>2030-05-02</td>\n",
       "      <td>1.0</td>\n",
       "    </tr>\n",
       "    <tr>\n",
       "      <th>2</th>\n",
       "      <td>foo</td>\n",
       "      <td>test</td>\n",
       "      <td>3</td>\n",
       "      <td>1.0</td>\n",
       "      <td>2030-05-02</td>\n",
       "      <td>1.0</td>\n",
       "    </tr>\n",
       "    <tr>\n",
       "      <th>3</th>\n",
       "      <td>foo</td>\n",
       "      <td>train</td>\n",
       "      <td>3</td>\n",
       "      <td>1.0</td>\n",
       "      <td>2030-05-02</td>\n",
       "      <td>1.0</td>\n",
       "    </tr>\n",
       "  </tbody>\n",
       "</table>\n",
       "</div>"
      ],
      "text/plain": [
       "     F      E  D    C          B    A\n",
       "0  foo   test  3  1.0 2030-05-02  1.0\n",
       "1  foo  train  3  1.0 2030-05-02  1.0\n",
       "2  foo   test  3  1.0 2030-05-02  1.0\n",
       "3  foo  train  3  1.0 2030-05-02  1.0"
      ]
     },
     "execution_count": 29,
     "metadata": {},
     "output_type": "execute_result"
    }
   ],
   "source": [
    "# sort data by axis\n",
    "df2.sort_index(axis=1,ascending=False)"
   ]
  },
  {
   "cell_type": "code",
   "execution_count": 33,
   "id": "b9552a92-00eb-45f9-8a2b-65d3e3321318",
   "metadata": {},
   "outputs": [
    {
     "data": {
      "text/html": [
       "<div>\n",
       "<style scoped>\n",
       "    .dataframe tbody tr th:only-of-type {\n",
       "        vertical-align: middle;\n",
       "    }\n",
       "\n",
       "    .dataframe tbody tr th {\n",
       "        vertical-align: top;\n",
       "    }\n",
       "\n",
       "    .dataframe thead th {\n",
       "        text-align: right;\n",
       "    }\n",
       "</style>\n",
       "<table border=\"1\" class=\"dataframe\">\n",
       "  <thead>\n",
       "    <tr style=\"text-align: right;\">\n",
       "      <th></th>\n",
       "      <th>A</th>\n",
       "      <th>B</th>\n",
       "      <th>C</th>\n",
       "      <th>D</th>\n",
       "      <th>E</th>\n",
       "      <th>F</th>\n",
       "    </tr>\n",
       "  </thead>\n",
       "  <tbody>\n",
       "    <tr>\n",
       "      <th>0</th>\n",
       "      <td>1.0</td>\n",
       "      <td>2030-05-02</td>\n",
       "      <td>1.0</td>\n",
       "      <td>3</td>\n",
       "      <td>test</td>\n",
       "      <td>foo</td>\n",
       "    </tr>\n",
       "    <tr>\n",
       "      <th>1</th>\n",
       "      <td>1.0</td>\n",
       "      <td>2030-05-02</td>\n",
       "      <td>1.0</td>\n",
       "      <td>3</td>\n",
       "      <td>train</td>\n",
       "      <td>foo</td>\n",
       "    </tr>\n",
       "    <tr>\n",
       "      <th>2</th>\n",
       "      <td>1.0</td>\n",
       "      <td>2030-05-02</td>\n",
       "      <td>1.0</td>\n",
       "      <td>3</td>\n",
       "      <td>test</td>\n",
       "      <td>foo</td>\n",
       "    </tr>\n",
       "    <tr>\n",
       "      <th>3</th>\n",
       "      <td>1.0</td>\n",
       "      <td>2030-05-02</td>\n",
       "      <td>1.0</td>\n",
       "      <td>3</td>\n",
       "      <td>train</td>\n",
       "      <td>foo</td>\n",
       "    </tr>\n",
       "  </tbody>\n",
       "</table>\n",
       "</div>"
      ],
      "text/plain": [
       "     A          B    C  D      E    F\n",
       "0  1.0 2030-05-02  1.0  3   test  foo\n",
       "1  1.0 2030-05-02  1.0  3  train  foo\n",
       "2  1.0 2030-05-02  1.0  3   test  foo\n",
       "3  1.0 2030-05-02  1.0  3  train  foo"
      ]
     },
     "execution_count": 33,
     "metadata": {},
     "output_type": "execute_result"
    }
   ],
   "source": [
    "df2.sort_values(by='B',ascending=False)"
   ]
  },
  {
   "cell_type": "code",
   "execution_count": 35,
   "id": "b5f38998-ee9d-4a29-85cf-4d5c26cc70fc",
   "metadata": {},
   "outputs": [
    {
     "data": {
      "text/html": [
       "<div>\n",
       "<style scoped>\n",
       "    .dataframe tbody tr th:only-of-type {\n",
       "        vertical-align: middle;\n",
       "    }\n",
       "\n",
       "    .dataframe tbody tr th {\n",
       "        vertical-align: top;\n",
       "    }\n",
       "\n",
       "    .dataframe thead th {\n",
       "        text-align: right;\n",
       "    }\n",
       "</style>\n",
       "<table border=\"1\" class=\"dataframe\">\n",
       "  <thead>\n",
       "    <tr style=\"text-align: right;\">\n",
       "      <th></th>\n",
       "      <th>A</th>\n",
       "      <th>B</th>\n",
       "      <th>C</th>\n",
       "      <th>D</th>\n",
       "      <th>E</th>\n",
       "      <th>F</th>\n",
       "    </tr>\n",
       "  </thead>\n",
       "  <tbody>\n",
       "    <tr>\n",
       "      <th>3</th>\n",
       "      <td>1.0</td>\n",
       "      <td>2030-05-02</td>\n",
       "      <td>1.0</td>\n",
       "      <td>3</td>\n",
       "      <td>train</td>\n",
       "      <td>foo</td>\n",
       "    </tr>\n",
       "    <tr>\n",
       "      <th>2</th>\n",
       "      <td>1.0</td>\n",
       "      <td>2030-05-02</td>\n",
       "      <td>1.0</td>\n",
       "      <td>3</td>\n",
       "      <td>test</td>\n",
       "      <td>foo</td>\n",
       "    </tr>\n",
       "    <tr>\n",
       "      <th>1</th>\n",
       "      <td>1.0</td>\n",
       "      <td>2030-05-02</td>\n",
       "      <td>1.0</td>\n",
       "      <td>3</td>\n",
       "      <td>train</td>\n",
       "      <td>foo</td>\n",
       "    </tr>\n",
       "    <tr>\n",
       "      <th>0</th>\n",
       "      <td>1.0</td>\n",
       "      <td>2030-05-02</td>\n",
       "      <td>1.0</td>\n",
       "      <td>3</td>\n",
       "      <td>test</td>\n",
       "      <td>foo</td>\n",
       "    </tr>\n",
       "  </tbody>\n",
       "</table>\n",
       "</div>"
      ],
      "text/plain": [
       "     A          B    C  D      E    F\n",
       "3  1.0 2030-05-02  1.0  3  train  foo\n",
       "2  1.0 2030-05-02  1.0  3   test  foo\n",
       "1  1.0 2030-05-02  1.0  3  train  foo\n",
       "0  1.0 2030-05-02  1.0  3   test  foo"
      ]
     },
     "execution_count": 35,
     "metadata": {},
     "output_type": "execute_result"
    }
   ],
   "source": [
    "df2.sort_index(axis=0,ascending=False)"
   ]
  },
  {
   "cell_type": "code",
   "execution_count": 37,
   "id": "eeaf35f2-c745-4bb2-bf32-a59d503593a5",
   "metadata": {},
   "outputs": [
    {
     "data": {
      "text/plain": [
       "0    1.0\n",
       "1    1.0\n",
       "2    1.0\n",
       "3    1.0\n",
       "Name: A, dtype: float64"
      ]
     },
     "execution_count": 37,
     "metadata": {},
     "output_type": "execute_result"
    }
   ],
   "source": [
    "# selecting values\n",
    "df2['A']"
   ]
  },
  {
   "cell_type": "code",
   "execution_count": 39,
   "id": "6e32a855-4052-421b-8423-20b33e0f3d8c",
   "metadata": {},
   "outputs": [
    {
     "data": {
      "text/html": [
       "<div>\n",
       "<style scoped>\n",
       "    .dataframe tbody tr th:only-of-type {\n",
       "        vertical-align: middle;\n",
       "    }\n",
       "\n",
       "    .dataframe tbody tr th {\n",
       "        vertical-align: top;\n",
       "    }\n",
       "\n",
       "    .dataframe thead th {\n",
       "        text-align: right;\n",
       "    }\n",
       "</style>\n",
       "<table border=\"1\" class=\"dataframe\">\n",
       "  <thead>\n",
       "    <tr style=\"text-align: right;\">\n",
       "      <th></th>\n",
       "      <th>A</th>\n",
       "      <th>B</th>\n",
       "      <th>C</th>\n",
       "      <th>D</th>\n",
       "      <th>E</th>\n",
       "      <th>F</th>\n",
       "    </tr>\n",
       "  </thead>\n",
       "  <tbody>\n",
       "    <tr>\n",
       "      <th>0</th>\n",
       "      <td>1.0</td>\n",
       "      <td>2030-05-02</td>\n",
       "      <td>1.0</td>\n",
       "      <td>3</td>\n",
       "      <td>test</td>\n",
       "      <td>foo</td>\n",
       "    </tr>\n",
       "    <tr>\n",
       "      <th>1</th>\n",
       "      <td>1.0</td>\n",
       "      <td>2030-05-02</td>\n",
       "      <td>1.0</td>\n",
       "      <td>3</td>\n",
       "      <td>train</td>\n",
       "      <td>foo</td>\n",
       "    </tr>\n",
       "  </tbody>\n",
       "</table>\n",
       "</div>"
      ],
      "text/plain": [
       "     A          B    C  D      E    F\n",
       "0  1.0 2030-05-02  1.0  3   test  foo\n",
       "1  1.0 2030-05-02  1.0  3  train  foo"
      ]
     },
     "execution_count": 39,
     "metadata": {},
     "output_type": "execute_result"
    }
   ],
   "source": [
    "# slices the rows\n",
    "df2[0:2]"
   ]
  },
  {
   "cell_type": "code",
   "execution_count": 53,
   "id": "d380920e-09aa-4fd8-bb05-b857a2951519",
   "metadata": {},
   "outputs": [
    {
     "data": {
      "text/plain": [
       "0    1.0\n",
       "1    1.0\n",
       "2    1.0\n",
       "3    1.0\n",
       "Name: A, dtype: float64"
      ]
     },
     "execution_count": 53,
     "metadata": {},
     "output_type": "execute_result"
    }
   ],
   "source": [
    "# selection by label\n",
    "# loc- selection by label\n",
    "# iloc- selection by position - indexing \n",
    "df2.loc[:,'A']\n"
   ]
  },
  {
   "cell_type": "code",
   "execution_count": 59,
   "id": "c23f50a2-f007-46e2-9edd-716d1d3d1211",
   "metadata": {},
   "outputs": [
    {
     "data": {
      "text/plain": [
       "A                    1.0\n",
       "B    2030-05-02 00:00:00\n",
       "Name: 2, dtype: object"
      ]
     },
     "execution_count": 59,
     "metadata": {},
     "output_type": "execute_result"
    }
   ],
   "source": [
    "# slicing using both endpoints\n",
    "df2.loc[2,['A','B']]"
   ]
  },
  {
   "cell_type": "code",
   "execution_count": 63,
   "id": "23a27f17-d433-49fe-a5be-c31b3b11bbaa",
   "metadata": {},
   "outputs": [
    {
     "data": {
      "text/html": [
       "<div>\n",
       "<style scoped>\n",
       "    .dataframe tbody tr th:only-of-type {\n",
       "        vertical-align: middle;\n",
       "    }\n",
       "\n",
       "    .dataframe tbody tr th {\n",
       "        vertical-align: top;\n",
       "    }\n",
       "\n",
       "    .dataframe thead th {\n",
       "        text-align: right;\n",
       "    }\n",
       "</style>\n",
       "<table border=\"1\" class=\"dataframe\">\n",
       "  <thead>\n",
       "    <tr style=\"text-align: right;\">\n",
       "      <th></th>\n",
       "      <th>A</th>\n",
       "      <th>B</th>\n",
       "      <th>C</th>\n",
       "    </tr>\n",
       "  </thead>\n",
       "  <tbody>\n",
       "    <tr>\n",
       "      <th>0</th>\n",
       "      <td>1.0</td>\n",
       "      <td>2030-05-02</td>\n",
       "      <td>1.0</td>\n",
       "    </tr>\n",
       "    <tr>\n",
       "      <th>1</th>\n",
       "      <td>1.0</td>\n",
       "      <td>2030-05-02</td>\n",
       "      <td>1.0</td>\n",
       "    </tr>\n",
       "    <tr>\n",
       "      <th>2</th>\n",
       "      <td>1.0</td>\n",
       "      <td>2030-05-02</td>\n",
       "      <td>1.0</td>\n",
       "    </tr>\n",
       "    <tr>\n",
       "      <th>3</th>\n",
       "      <td>1.0</td>\n",
       "      <td>2030-05-02</td>\n",
       "      <td>1.0</td>\n",
       "    </tr>\n",
       "  </tbody>\n",
       "</table>\n",
       "</div>"
      ],
      "text/plain": [
       "     A          B    C\n",
       "0  1.0 2030-05-02  1.0\n",
       "1  1.0 2030-05-02  1.0\n",
       "2  1.0 2030-05-02  1.0\n",
       "3  1.0 2030-05-02  1.0"
      ]
     },
     "execution_count": 63,
     "metadata": {},
     "output_type": "execute_result"
    }
   ],
   "source": [
    "# loc[row,column]\n",
    "df2.loc[:,['A','B','C']]"
   ]
  },
  {
   "cell_type": "code",
   "execution_count": 65,
   "id": "10277ffe-d918-4045-9305-0afd546656e1",
   "metadata": {},
   "outputs": [
    {
     "data": {
      "text/plain": [
       "1    1.0\n",
       "2    1.0\n",
       "3    1.0\n",
       "Name: A, dtype: float64"
      ]
     },
     "execution_count": 65,
     "metadata": {},
     "output_type": "execute_result"
    }
   ],
   "source": [
    "df2.loc[1:3,'A']"
   ]
  },
  {
   "cell_type": "code",
   "execution_count": 67,
   "id": "372b93f0-90a2-4186-a0c7-647ffc783d2b",
   "metadata": {},
   "outputs": [
    {
     "data": {
      "text/plain": [
       "A                    1.0\n",
       "B    2030-05-02 00:00:00\n",
       "C                    1.0\n",
       "D                      3\n",
       "E                  train\n",
       "F                    foo\n",
       "Name: 3, dtype: object"
      ]
     },
     "execution_count": 67,
     "metadata": {},
     "output_type": "execute_result"
    }
   ],
   "source": [
    "# selection by position \n",
    "# 3rd row of all column\n",
    "df2.iloc[3]"
   ]
  },
  {
   "cell_type": "code",
   "execution_count": 69,
   "id": "8b153626-219a-4d02-ad01-f813a2c92f89",
   "metadata": {},
   "outputs": [
    {
     "data": {
      "text/plain": [
       "3"
      ]
     },
     "execution_count": 69,
     "metadata": {},
     "output_type": "execute_result"
    }
   ],
   "source": [
    "# 3rd row, 3rd column\n",
    "df2.iloc[3,3]"
   ]
  },
  {
   "cell_type": "code",
   "execution_count": 71,
   "id": "74dd9346-e604-46d0-b7fa-01418932c47b",
   "metadata": {},
   "outputs": [
    {
     "data": {
      "text/html": [
       "<div>\n",
       "<style scoped>\n",
       "    .dataframe tbody tr th:only-of-type {\n",
       "        vertical-align: middle;\n",
       "    }\n",
       "\n",
       "    .dataframe tbody tr th {\n",
       "        vertical-align: top;\n",
       "    }\n",
       "\n",
       "    .dataframe thead th {\n",
       "        text-align: right;\n",
       "    }\n",
       "</style>\n",
       "<table border=\"1\" class=\"dataframe\">\n",
       "  <thead>\n",
       "    <tr style=\"text-align: right;\">\n",
       "      <th></th>\n",
       "      <th>C</th>\n",
       "      <th>D</th>\n",
       "    </tr>\n",
       "  </thead>\n",
       "  <tbody>\n",
       "    <tr>\n",
       "      <th>1</th>\n",
       "      <td>1.0</td>\n",
       "      <td>3</td>\n",
       "    </tr>\n",
       "    <tr>\n",
       "      <th>2</th>\n",
       "      <td>1.0</td>\n",
       "      <td>3</td>\n",
       "    </tr>\n",
       "  </tbody>\n",
       "</table>\n",
       "</div>"
      ],
      "text/plain": [
       "     C  D\n",
       "1  1.0  3\n",
       "2  1.0  3"
      ]
     },
     "execution_count": 71,
     "metadata": {},
     "output_type": "execute_result"
    }
   ],
   "source": [
    "# row-1,2  ,  column 2,3 \n",
    "df2.iloc[[1,2],[2,3]]"
   ]
  },
  {
   "cell_type": "code",
   "execution_count": 75,
   "id": "51b32686-3719-4a00-bb17-a2aab095468a",
   "metadata": {},
   "outputs": [
    {
     "data": {
      "text/plain": [
       "Timestamp('2030-05-02 00:00:00')"
      ]
     },
     "execution_count": 75,
     "metadata": {},
     "output_type": "execute_result"
    }
   ],
   "source": [
    "# iat method\n",
    "df2.iat[1,1]"
   ]
  },
  {
   "cell_type": "code",
   "execution_count": 77,
   "id": "9dd1455a-3158-4235-958c-3c4d4b982ec5",
   "metadata": {},
   "outputs": [
    {
     "data": {
      "text/html": [
       "<div>\n",
       "<style scoped>\n",
       "    .dataframe tbody tr th:only-of-type {\n",
       "        vertical-align: middle;\n",
       "    }\n",
       "\n",
       "    .dataframe tbody tr th {\n",
       "        vertical-align: top;\n",
       "    }\n",
       "\n",
       "    .dataframe thead th {\n",
       "        text-align: right;\n",
       "    }\n",
       "</style>\n",
       "<table border=\"1\" class=\"dataframe\">\n",
       "  <thead>\n",
       "    <tr style=\"text-align: right;\">\n",
       "      <th></th>\n",
       "      <th>A</th>\n",
       "      <th>B</th>\n",
       "      <th>C</th>\n",
       "      <th>D</th>\n",
       "      <th>E</th>\n",
       "      <th>F</th>\n",
       "    </tr>\n",
       "  </thead>\n",
       "  <tbody>\n",
       "    <tr>\n",
       "      <th>0</th>\n",
       "      <td>1.0</td>\n",
       "      <td>2030-05-02</td>\n",
       "      <td>1.0</td>\n",
       "      <td>3</td>\n",
       "      <td>test</td>\n",
       "      <td>foo</td>\n",
       "    </tr>\n",
       "    <tr>\n",
       "      <th>1</th>\n",
       "      <td>1.0</td>\n",
       "      <td>2030-05-02</td>\n",
       "      <td>1.0</td>\n",
       "      <td>3</td>\n",
       "      <td>train</td>\n",
       "      <td>foo</td>\n",
       "    </tr>\n",
       "    <tr>\n",
       "      <th>2</th>\n",
       "      <td>1.0</td>\n",
       "      <td>2030-05-02</td>\n",
       "      <td>1.0</td>\n",
       "      <td>3</td>\n",
       "      <td>test</td>\n",
       "      <td>foo</td>\n",
       "    </tr>\n",
       "    <tr>\n",
       "      <th>3</th>\n",
       "      <td>1.0</td>\n",
       "      <td>2030-05-02</td>\n",
       "      <td>1.0</td>\n",
       "      <td>3</td>\n",
       "      <td>train</td>\n",
       "      <td>foo</td>\n",
       "    </tr>\n",
       "  </tbody>\n",
       "</table>\n",
       "</div>"
      ],
      "text/plain": [
       "     A          B    C  D      E    F\n",
       "0  1.0 2030-05-02  1.0  3   test  foo\n",
       "1  1.0 2030-05-02  1.0  3  train  foo\n",
       "2  1.0 2030-05-02  1.0  3   test  foo\n",
       "3  1.0 2030-05-02  1.0  3  train  foo"
      ]
     },
     "execution_count": 77,
     "metadata": {},
     "output_type": "execute_result"
    }
   ],
   "source": [
    "# boolean indexing \n",
    "df2[df2['A']>0]"
   ]
  },
  {
   "cell_type": "code",
   "execution_count": 91,
   "id": "f2f1f4d3-d8b0-41a3-9e51-62639d71a895",
   "metadata": {},
   "outputs": [
    {
     "data": {
      "text/html": [
       "<div>\n",
       "<style scoped>\n",
       "    .dataframe tbody tr th:only-of-type {\n",
       "        vertical-align: middle;\n",
       "    }\n",
       "\n",
       "    .dataframe tbody tr th {\n",
       "        vertical-align: top;\n",
       "    }\n",
       "\n",
       "    .dataframe thead th {\n",
       "        text-align: right;\n",
       "    }\n",
       "</style>\n",
       "<table border=\"1\" class=\"dataframe\">\n",
       "  <thead>\n",
       "    <tr style=\"text-align: right;\">\n",
       "      <th></th>\n",
       "      <th>A</th>\n",
       "      <th>B</th>\n",
       "      <th>C</th>\n",
       "      <th>D</th>\n",
       "      <th>E</th>\n",
       "      <th>F</th>\n",
       "      <th>G</th>\n",
       "    </tr>\n",
       "  </thead>\n",
       "  <tbody>\n",
       "    <tr>\n",
       "      <th>0</th>\n",
       "      <td>1.0</td>\n",
       "      <td>2030-05-02</td>\n",
       "      <td>1.0</td>\n",
       "      <td>3</td>\n",
       "      <td>test</td>\n",
       "      <td>foo</td>\n",
       "      <td>One</td>\n",
       "    </tr>\n",
       "    <tr>\n",
       "      <th>1</th>\n",
       "      <td>1.0</td>\n",
       "      <td>2030-05-02</td>\n",
       "      <td>1.0</td>\n",
       "      <td>3</td>\n",
       "      <td>train</td>\n",
       "      <td>foo</td>\n",
       "      <td>two</td>\n",
       "    </tr>\n",
       "    <tr>\n",
       "      <th>2</th>\n",
       "      <td>1.0</td>\n",
       "      <td>2030-05-02</td>\n",
       "      <td>1.0</td>\n",
       "      <td>3</td>\n",
       "      <td>test</td>\n",
       "      <td>foo</td>\n",
       "      <td>three</td>\n",
       "    </tr>\n",
       "    <tr>\n",
       "      <th>3</th>\n",
       "      <td>1.0</td>\n",
       "      <td>2030-05-02</td>\n",
       "      <td>1.0</td>\n",
       "      <td>3</td>\n",
       "      <td>train</td>\n",
       "      <td>foo</td>\n",
       "      <td>four</td>\n",
       "    </tr>\n",
       "  </tbody>\n",
       "</table>\n",
       "</div>"
      ],
      "text/plain": [
       "     A          B    C  D      E    F      G\n",
       "0  1.0 2030-05-02  1.0  3   test  foo    One\n",
       "1  1.0 2030-05-02  1.0  3  train  foo    two\n",
       "2  1.0 2030-05-02  1.0  3   test  foo  three\n",
       "3  1.0 2030-05-02  1.0  3  train  foo   four"
      ]
     },
     "execution_count": 91,
     "metadata": {},
     "output_type": "execute_result"
    }
   ],
   "source": [
    "# copy method\n",
    "# creating a new column using copy method for existing dataframe \n",
    "df3=df2.copy()\n",
    "df3['G']=['One','two','three','four']\n",
    "df3\n",
    "# index of new column must match index of existing dataframe \n",
    "# i.e if previous dataframe has 5 items in columns then \n",
    "# new column must have 5 items "
   ]
  },
  {
   "cell_type": "code",
   "execution_count": 95,
   "id": "21fd213e-30c0-4061-a615-77b2c75b7e91",
   "metadata": {},
   "outputs": [
    {
     "data": {
      "text/html": [
       "<div>\n",
       "<style scoped>\n",
       "    .dataframe tbody tr th:only-of-type {\n",
       "        vertical-align: middle;\n",
       "    }\n",
       "\n",
       "    .dataframe tbody tr th {\n",
       "        vertical-align: top;\n",
       "    }\n",
       "\n",
       "    .dataframe thead th {\n",
       "        text-align: right;\n",
       "    }\n",
       "</style>\n",
       "<table border=\"1\" class=\"dataframe\">\n",
       "  <thead>\n",
       "    <tr style=\"text-align: right;\">\n",
       "      <th></th>\n",
       "      <th>A</th>\n",
       "      <th>B</th>\n",
       "      <th>C</th>\n",
       "      <th>D</th>\n",
       "      <th>E</th>\n",
       "      <th>F</th>\n",
       "      <th>G</th>\n",
       "    </tr>\n",
       "  </thead>\n",
       "  <tbody>\n",
       "  </tbody>\n",
       "</table>\n",
       "</div>"
      ],
      "text/plain": [
       "Empty DataFrame\n",
       "Columns: [A, B, C, D, E, F, G]\n",
       "Index: []"
      ]
     },
     "execution_count": 95,
     "metadata": {},
     "output_type": "execute_result"
    }
   ],
   "source": [
    "# isin method()\n",
    "df3[df3['E'].isin(['two'])]"
   ]
  },
  {
   "cell_type": "code",
   "execution_count": 99,
   "id": "a46f3e68-e74e-48b3-bfa9-ac4253f83aeb",
   "metadata": {},
   "outputs": [
    {
     "data": {
      "text/plain": [
       "2013-01-02    1\n",
       "2013-01-03    4\n",
       "2013-01-04    6\n",
       "2013-01-05    3\n",
       "2013-01-06    2\n",
       "2013-01-07    7\n",
       "Freq: D, dtype: int64"
      ]
     },
     "execution_count": 99,
     "metadata": {},
     "output_type": "execute_result"
    }
   ],
   "source": [
    "# setting method \n",
    "s1=pd.Series([1,4,6,3,2,7],index=pd.date_range('20130102',periods=6))\n",
    "s1"
   ]
  },
  {
   "cell_type": "code",
   "execution_count": 105,
   "id": "1cb7e91c-460e-42e6-b23e-21148abb8f63",
   "metadata": {},
   "outputs": [
    {
     "data": {
      "text/html": [
       "<div>\n",
       "<style scoped>\n",
       "    .dataframe tbody tr th:only-of-type {\n",
       "        vertical-align: middle;\n",
       "    }\n",
       "\n",
       "    .dataframe tbody tr th {\n",
       "        vertical-align: top;\n",
       "    }\n",
       "\n",
       "    .dataframe thead th {\n",
       "        text-align: right;\n",
       "    }\n",
       "</style>\n",
       "<table border=\"1\" class=\"dataframe\">\n",
       "  <thead>\n",
       "    <tr style=\"text-align: right;\">\n",
       "      <th></th>\n",
       "      <th>A</th>\n",
       "      <th>B</th>\n",
       "      <th>C</th>\n",
       "      <th>D</th>\n",
       "      <th>E</th>\n",
       "      <th>F</th>\n",
       "    </tr>\n",
       "  </thead>\n",
       "  <tbody>\n",
       "    <tr>\n",
       "      <th>0</th>\n",
       "      <td>1.0</td>\n",
       "      <td>2030-05-02</td>\n",
       "      <td>1.0</td>\n",
       "      <td>3</td>\n",
       "      <td>test</td>\n",
       "      <td>foo</td>\n",
       "    </tr>\n",
       "    <tr>\n",
       "      <th>1</th>\n",
       "      <td>1.0</td>\n",
       "      <td>2030-05-02</td>\n",
       "      <td>1.0</td>\n",
       "      <td>3</td>\n",
       "      <td>train</td>\n",
       "      <td>foo</td>\n",
       "    </tr>\n",
       "    <tr>\n",
       "      <th>2</th>\n",
       "      <td>1.0</td>\n",
       "      <td>2030-05-02</td>\n",
       "      <td>1.0</td>\n",
       "      <td>3</td>\n",
       "      <td>test</td>\n",
       "      <td>foo</td>\n",
       "    </tr>\n",
       "    <tr>\n",
       "      <th>3</th>\n",
       "      <td>3.0</td>\n",
       "      <td>2030-05-02</td>\n",
       "      <td>1.0</td>\n",
       "      <td>3</td>\n",
       "      <td>train</td>\n",
       "      <td>foo</td>\n",
       "    </tr>\n",
       "  </tbody>\n",
       "</table>\n",
       "</div>"
      ],
      "text/plain": [
       "     A          B    C  D      E    F\n",
       "0  1.0 2030-05-02  1.0  3   test  foo\n",
       "1  1.0 2030-05-02  1.0  3  train  foo\n",
       "2  1.0 2030-05-02  1.0  3   test  foo\n",
       "3  3.0 2030-05-02  1.0  3  train  foo"
      ]
     },
     "execution_count": 105,
     "metadata": {},
     "output_type": "execute_result"
    }
   ],
   "source": [
    "# setting values by label\n",
    "# label- at \n",
    "df2.at[3,'A']=3\n",
    "df2"
   ]
  },
  {
   "cell_type": "code",
   "execution_count": 109,
   "id": "8d3c7405-7044-44bd-ab78-07037dfb526b",
   "metadata": {},
   "outputs": [
    {
     "data": {
      "text/html": [
       "<div>\n",
       "<style scoped>\n",
       "    .dataframe tbody tr th:only-of-type {\n",
       "        vertical-align: middle;\n",
       "    }\n",
       "\n",
       "    .dataframe tbody tr th {\n",
       "        vertical-align: top;\n",
       "    }\n",
       "\n",
       "    .dataframe thead th {\n",
       "        text-align: right;\n",
       "    }\n",
       "</style>\n",
       "<table border=\"1\" class=\"dataframe\">\n",
       "  <thead>\n",
       "    <tr style=\"text-align: right;\">\n",
       "      <th></th>\n",
       "      <th>A</th>\n",
       "      <th>B</th>\n",
       "      <th>C</th>\n",
       "      <th>D</th>\n",
       "      <th>E</th>\n",
       "      <th>F</th>\n",
       "    </tr>\n",
       "  </thead>\n",
       "  <tbody>\n",
       "    <tr>\n",
       "      <th>0</th>\n",
       "      <td>1.0</td>\n",
       "      <td>2030-05-02</td>\n",
       "      <td>1.0</td>\n",
       "      <td>3</td>\n",
       "      <td>test</td>\n",
       "      <td>foo</td>\n",
       "    </tr>\n",
       "    <tr>\n",
       "      <th>1</th>\n",
       "      <td>1.0</td>\n",
       "      <td>2030-05-02</td>\n",
       "      <td>1.0</td>\n",
       "      <td>3</td>\n",
       "      <td>train</td>\n",
       "      <td>foo</td>\n",
       "    </tr>\n",
       "    <tr>\n",
       "      <th>2</th>\n",
       "      <td>1.0</td>\n",
       "      <td>2030-05-02</td>\n",
       "      <td>5.0</td>\n",
       "      <td>3</td>\n",
       "      <td>test</td>\n",
       "      <td>foo</td>\n",
       "    </tr>\n",
       "    <tr>\n",
       "      <th>3</th>\n",
       "      <td>3.0</td>\n",
       "      <td>2030-05-02</td>\n",
       "      <td>1.0</td>\n",
       "      <td>3</td>\n",
       "      <td>train</td>\n",
       "      <td>foo</td>\n",
       "    </tr>\n",
       "  </tbody>\n",
       "</table>\n",
       "</div>"
      ],
      "text/plain": [
       "     A          B    C  D      E    F\n",
       "0  1.0 2030-05-02  1.0  3   test  foo\n",
       "1  1.0 2030-05-02  1.0  3  train  foo\n",
       "2  1.0 2030-05-02  5.0  3   test  foo\n",
       "3  3.0 2030-05-02  1.0  3  train  foo"
      ]
     },
     "execution_count": 109,
     "metadata": {},
     "output_type": "execute_result"
    }
   ],
   "source": [
    "# index- at\n",
    "df2.iat[2,2]=5\n",
    "df2"
   ]
  },
  {
   "cell_type": "code",
   "execution_count": 113,
   "id": "7ed18421-93a3-435e-a347-d63401e5dd80",
   "metadata": {},
   "outputs": [
    {
     "data": {
      "text/html": [
       "<div>\n",
       "<style scoped>\n",
       "    .dataframe tbody tr th:only-of-type {\n",
       "        vertical-align: middle;\n",
       "    }\n",
       "\n",
       "    .dataframe tbody tr th {\n",
       "        vertical-align: top;\n",
       "    }\n",
       "\n",
       "    .dataframe thead th {\n",
       "        text-align: right;\n",
       "    }\n",
       "</style>\n",
       "<table border=\"1\" class=\"dataframe\">\n",
       "  <thead>\n",
       "    <tr style=\"text-align: right;\">\n",
       "      <th></th>\n",
       "      <th>A</th>\n",
       "      <th>B</th>\n",
       "      <th>C</th>\n",
       "      <th>D</th>\n",
       "      <th>E</th>\n",
       "      <th>F</th>\n",
       "      <th>H</th>\n",
       "    </tr>\n",
       "  </thead>\n",
       "  <tbody>\n",
       "    <tr>\n",
       "      <th>0</th>\n",
       "      <td>1.0</td>\n",
       "      <td>2030-05-02</td>\n",
       "      <td>1.0</td>\n",
       "      <td>3</td>\n",
       "      <td>test</td>\n",
       "      <td>foo</td>\n",
       "      <td>5</td>\n",
       "    </tr>\n",
       "    <tr>\n",
       "      <th>1</th>\n",
       "      <td>1.0</td>\n",
       "      <td>2030-05-02</td>\n",
       "      <td>1.0</td>\n",
       "      <td>3</td>\n",
       "      <td>train</td>\n",
       "      <td>foo</td>\n",
       "      <td>5</td>\n",
       "    </tr>\n",
       "    <tr>\n",
       "      <th>2</th>\n",
       "      <td>1.0</td>\n",
       "      <td>2030-05-02</td>\n",
       "      <td>5.0</td>\n",
       "      <td>3</td>\n",
       "      <td>test</td>\n",
       "      <td>foo</td>\n",
       "      <td>5</td>\n",
       "    </tr>\n",
       "    <tr>\n",
       "      <th>3</th>\n",
       "      <td>3.0</td>\n",
       "      <td>2030-05-02</td>\n",
       "      <td>1.0</td>\n",
       "      <td>3</td>\n",
       "      <td>train</td>\n",
       "      <td>foo</td>\n",
       "      <td>5</td>\n",
       "    </tr>\n",
       "  </tbody>\n",
       "</table>\n",
       "</div>"
      ],
      "text/plain": [
       "     A          B    C  D      E    F  H\n",
       "0  1.0 2030-05-02  1.0  3   test  foo  5\n",
       "1  1.0 2030-05-02  1.0  3  train  foo  5\n",
       "2  1.0 2030-05-02  5.0  3   test  foo  5\n",
       "3  3.0 2030-05-02  1.0  3  train  foo  5"
      ]
     },
     "execution_count": 113,
     "metadata": {},
     "output_type": "execute_result"
    }
   ],
   "source": [
    "df2.loc[:,'H']=np.array([5]*len(df2))\n",
    "df2"
   ]
  },
  {
   "cell_type": "code",
   "execution_count": null,
   "id": "e663698e-eb3d-4ec6-8feb-7d17a11efe7a",
   "metadata": {},
   "outputs": [],
   "source": [
    "# Missing data "
   ]
  },
  {
   "cell_type": "code",
   "execution_count": null,
   "id": "97a297a2-3ab4-482b-bb19-eae89414d099",
   "metadata": {},
   "outputs": [],
   "source": []
  },
  {
   "cell_type": "code",
   "execution_count": 117,
   "id": "d31a4866-af74-432f-b30f-8622b9a353f0",
   "metadata": {},
   "outputs": [
    {
     "data": {
      "text/plain": [
       "1.5"
      ]
     },
     "execution_count": 117,
     "metadata": {},
     "output_type": "execute_result"
    }
   ],
   "source": [
    "# operations \n",
    "# Stats\n",
    "df2['A'].mean()"
   ]
  },
  {
   "cell_type": "code",
   "execution_count": 7,
   "id": "04459597-9ade-447b-835d-cf211839efc1",
   "metadata": {},
   "outputs": [
    {
     "data": {
      "text/plain": [
       "0    NaN\n",
       "1    NaN\n",
       "2    1.0\n",
       "3    4.0\n",
       "4    6.0\n",
       "5    NaN\n",
       "dtype: float64"
      ]
     },
     "execution_count": 7,
     "metadata": {},
     "output_type": "execute_result"
    }
   ],
   "source": [
    "import pandas as pd \n",
    "import numpy as np\n",
    "s=pd.Series([1,4,6,np.nan,6,8]).shift(2)\n",
    "s\n",
    "# got extra nan at 1st two indices, shifted downward by 2"
   ]
  },
  {
   "cell_type": "code",
   "execution_count": 19,
   "id": "11d96749-c173-4529-a760-0436b86a2f2e",
   "metadata": {},
   "outputs": [
    {
     "ename": "UFuncTypeError",
     "evalue": "ufunc 'subtract' cannot use operands with types dtype('<M8[s]') and dtype('float64')",
     "output_type": "error",
     "traceback": [
      "\u001b[1;31m---------------------------------------------------------------------------\u001b[0m",
      "\u001b[1;31mUFuncTypeError\u001b[0m                            Traceback (most recent call last)",
      "Cell \u001b[1;32mIn[19], line 1\u001b[0m\n\u001b[1;32m----> 1\u001b[0m df2\u001b[38;5;241m.\u001b[39msub(s)\n",
      "File \u001b[1;32m~\\anaconda3\\Lib\\site-packages\\pandas\\core\\frame.py:8090\u001b[0m, in \u001b[0;36mDataFrame.sub\u001b[1;34m(self, other, axis, level, fill_value)\u001b[0m\n\u001b[0;32m   8088\u001b[0m \u001b[38;5;129m@Appender\u001b[39m(ops\u001b[38;5;241m.\u001b[39mmake_flex_doc(\u001b[38;5;124m\"\u001b[39m\u001b[38;5;124msub\u001b[39m\u001b[38;5;124m\"\u001b[39m, \u001b[38;5;124m\"\u001b[39m\u001b[38;5;124mdataframe\u001b[39m\u001b[38;5;124m\"\u001b[39m))\n\u001b[0;32m   8089\u001b[0m \u001b[38;5;28;01mdef\u001b[39;00m \u001b[38;5;21msub\u001b[39m(\u001b[38;5;28mself\u001b[39m, other, axis: Axis \u001b[38;5;241m=\u001b[39m \u001b[38;5;124m\"\u001b[39m\u001b[38;5;124mcolumns\u001b[39m\u001b[38;5;124m\"\u001b[39m, level\u001b[38;5;241m=\u001b[39m\u001b[38;5;28;01mNone\u001b[39;00m, fill_value\u001b[38;5;241m=\u001b[39m\u001b[38;5;28;01mNone\u001b[39;00m):\n\u001b[1;32m-> 8090\u001b[0m     \u001b[38;5;28;01mreturn\u001b[39;00m \u001b[38;5;28mself\u001b[39m\u001b[38;5;241m.\u001b[39m_flex_arith_method(\n\u001b[0;32m   8091\u001b[0m         other, operator\u001b[38;5;241m.\u001b[39msub, level\u001b[38;5;241m=\u001b[39mlevel, fill_value\u001b[38;5;241m=\u001b[39mfill_value, axis\u001b[38;5;241m=\u001b[39maxis\n\u001b[0;32m   8092\u001b[0m     )\n",
      "File \u001b[1;32m~\\anaconda3\\Lib\\site-packages\\pandas\\core\\frame.py:8000\u001b[0m, in \u001b[0;36mDataFrame._flex_arith_method\u001b[1;34m(self, other, op, axis, level, fill_value)\u001b[0m\n\u001b[0;32m   7997\u001b[0m \u001b[38;5;28;01mwith\u001b[39;00m np\u001b[38;5;241m.\u001b[39merrstate(\u001b[38;5;28mall\u001b[39m\u001b[38;5;241m=\u001b[39m\u001b[38;5;124m\"\u001b[39m\u001b[38;5;124mignore\u001b[39m\u001b[38;5;124m\"\u001b[39m):\n\u001b[0;32m   7998\u001b[0m     \u001b[38;5;28;01mif\u001b[39;00m \u001b[38;5;28misinstance\u001b[39m(other, DataFrame):\n\u001b[0;32m   7999\u001b[0m         \u001b[38;5;66;03m# Another DataFrame\u001b[39;00m\n\u001b[1;32m-> 8000\u001b[0m         new_data \u001b[38;5;241m=\u001b[39m \u001b[38;5;28mself\u001b[39m\u001b[38;5;241m.\u001b[39m_combine_frame(other, op, fill_value)\n\u001b[0;32m   8002\u001b[0m     \u001b[38;5;28;01melif\u001b[39;00m \u001b[38;5;28misinstance\u001b[39m(other, Series):\n\u001b[0;32m   8003\u001b[0m         new_data \u001b[38;5;241m=\u001b[39m \u001b[38;5;28mself\u001b[39m\u001b[38;5;241m.\u001b[39m_dispatch_frame_op(other, op, axis\u001b[38;5;241m=\u001b[39maxis)\n",
      "File \u001b[1;32m~\\anaconda3\\Lib\\site-packages\\pandas\\core\\frame.py:7742\u001b[0m, in \u001b[0;36mDataFrame._combine_frame\u001b[1;34m(self, other, func, fill_value)\u001b[0m\n\u001b[0;32m   7739\u001b[0m         left, right \u001b[38;5;241m=\u001b[39m ops\u001b[38;5;241m.\u001b[39mfill_binop(left, right, fill_value)\n\u001b[0;32m   7740\u001b[0m         \u001b[38;5;28;01mreturn\u001b[39;00m func(left, right)\n\u001b[1;32m-> 7742\u001b[0m new_data \u001b[38;5;241m=\u001b[39m \u001b[38;5;28mself\u001b[39m\u001b[38;5;241m.\u001b[39m_dispatch_frame_op(other, _arith_op)\n\u001b[0;32m   7743\u001b[0m \u001b[38;5;28;01mreturn\u001b[39;00m new_data\n",
      "File \u001b[1;32m~\\anaconda3\\Lib\\site-packages\\pandas\\core\\frame.py:7687\u001b[0m, in \u001b[0;36mDataFrame._dispatch_frame_op\u001b[1;34m(self, right, func, axis)\u001b[0m\n\u001b[0;32m   7681\u001b[0m     \u001b[38;5;28;01massert\u001b[39;00m \u001b[38;5;28mself\u001b[39m\u001b[38;5;241m.\u001b[39mcolumns\u001b[38;5;241m.\u001b[39mequals(right\u001b[38;5;241m.\u001b[39mcolumns)\n\u001b[0;32m   7682\u001b[0m     \u001b[38;5;66;03m# TODO: The previous assertion `assert right._indexed_same(self)`\u001b[39;00m\n\u001b[0;32m   7683\u001b[0m     \u001b[38;5;66;03m#  fails in cases with empty columns reached via\u001b[39;00m\n\u001b[0;32m   7684\u001b[0m     \u001b[38;5;66;03m#  _frame_arith_method_with_reindex\u001b[39;00m\n\u001b[0;32m   7685\u001b[0m \n\u001b[0;32m   7686\u001b[0m     \u001b[38;5;66;03m# TODO operate_blockwise expects a manager of the same type\u001b[39;00m\n\u001b[1;32m-> 7687\u001b[0m     bm \u001b[38;5;241m=\u001b[39m \u001b[38;5;28mself\u001b[39m\u001b[38;5;241m.\u001b[39m_mgr\u001b[38;5;241m.\u001b[39moperate_blockwise(\n\u001b[0;32m   7688\u001b[0m         \u001b[38;5;66;03m# error: Argument 1 to \"operate_blockwise\" of \"ArrayManager\" has\u001b[39;00m\n\u001b[0;32m   7689\u001b[0m         \u001b[38;5;66;03m# incompatible type \"Union[ArrayManager, BlockManager]\"; expected\u001b[39;00m\n\u001b[0;32m   7690\u001b[0m         \u001b[38;5;66;03m# \"ArrayManager\"\u001b[39;00m\n\u001b[0;32m   7691\u001b[0m         \u001b[38;5;66;03m# error: Argument 1 to \"operate_blockwise\" of \"BlockManager\" has\u001b[39;00m\n\u001b[0;32m   7692\u001b[0m         \u001b[38;5;66;03m# incompatible type \"Union[ArrayManager, BlockManager]\"; expected\u001b[39;00m\n\u001b[0;32m   7693\u001b[0m         \u001b[38;5;66;03m# \"BlockManager\"\u001b[39;00m\n\u001b[0;32m   7694\u001b[0m         right\u001b[38;5;241m.\u001b[39m_mgr,  \u001b[38;5;66;03m# type: ignore[arg-type]\u001b[39;00m\n\u001b[0;32m   7695\u001b[0m         array_op,\n\u001b[0;32m   7696\u001b[0m     )\n\u001b[0;32m   7697\u001b[0m     \u001b[38;5;28;01mreturn\u001b[39;00m \u001b[38;5;28mself\u001b[39m\u001b[38;5;241m.\u001b[39m_constructor_from_mgr(bm, axes\u001b[38;5;241m=\u001b[39mbm\u001b[38;5;241m.\u001b[39maxes)\n\u001b[0;32m   7699\u001b[0m \u001b[38;5;28;01melif\u001b[39;00m \u001b[38;5;28misinstance\u001b[39m(right, Series) \u001b[38;5;129;01mand\u001b[39;00m axis \u001b[38;5;241m==\u001b[39m \u001b[38;5;241m1\u001b[39m:\n\u001b[0;32m   7700\u001b[0m     \u001b[38;5;66;03m# axis=1 means we want to operate row-by-row\u001b[39;00m\n",
      "File \u001b[1;32m~\\anaconda3\\Lib\\site-packages\\pandas\\core\\internals\\managers.py:1470\u001b[0m, in \u001b[0;36mBlockManager.operate_blockwise\u001b[1;34m(self, other, array_op)\u001b[0m\n\u001b[0;32m   1466\u001b[0m \u001b[38;5;28;01mdef\u001b[39;00m \u001b[38;5;21moperate_blockwise\u001b[39m(\u001b[38;5;28mself\u001b[39m, other: BlockManager, array_op) \u001b[38;5;241m-\u001b[39m\u001b[38;5;241m>\u001b[39m BlockManager:\n\u001b[0;32m   1467\u001b[0m \u001b[38;5;250m    \u001b[39m\u001b[38;5;124;03m\"\"\"\u001b[39;00m\n\u001b[0;32m   1468\u001b[0m \u001b[38;5;124;03m    Apply array_op blockwise with another (aligned) BlockManager.\u001b[39;00m\n\u001b[0;32m   1469\u001b[0m \u001b[38;5;124;03m    \"\"\"\u001b[39;00m\n\u001b[1;32m-> 1470\u001b[0m     \u001b[38;5;28;01mreturn\u001b[39;00m operate_blockwise(\u001b[38;5;28mself\u001b[39m, other, array_op)\n",
      "File \u001b[1;32m~\\anaconda3\\Lib\\site-packages\\pandas\\core\\internals\\ops.py:65\u001b[0m, in \u001b[0;36moperate_blockwise\u001b[1;34m(left, right, array_op)\u001b[0m\n\u001b[0;32m     63\u001b[0m res_blks: \u001b[38;5;28mlist\u001b[39m[Block] \u001b[38;5;241m=\u001b[39m []\n\u001b[0;32m     64\u001b[0m \u001b[38;5;28;01mfor\u001b[39;00m lvals, rvals, locs, left_ea, right_ea, rblk \u001b[38;5;129;01min\u001b[39;00m _iter_block_pairs(left, right):\n\u001b[1;32m---> 65\u001b[0m     res_values \u001b[38;5;241m=\u001b[39m array_op(lvals, rvals)\n\u001b[0;32m     66\u001b[0m     \u001b[38;5;28;01mif\u001b[39;00m (\n\u001b[0;32m     67\u001b[0m         left_ea\n\u001b[0;32m     68\u001b[0m         \u001b[38;5;129;01mand\u001b[39;00m \u001b[38;5;129;01mnot\u001b[39;00m right_ea\n\u001b[0;32m     69\u001b[0m         \u001b[38;5;129;01mand\u001b[39;00m \u001b[38;5;28mhasattr\u001b[39m(res_values, \u001b[38;5;124m\"\u001b[39m\u001b[38;5;124mreshape\u001b[39m\u001b[38;5;124m\"\u001b[39m)\n\u001b[0;32m     70\u001b[0m         \u001b[38;5;129;01mand\u001b[39;00m \u001b[38;5;129;01mnot\u001b[39;00m is_1d_only_ea_dtype(res_values\u001b[38;5;241m.\u001b[39mdtype)\n\u001b[0;32m     71\u001b[0m     ):\n\u001b[0;32m     72\u001b[0m         res_values \u001b[38;5;241m=\u001b[39m res_values\u001b[38;5;241m.\u001b[39mreshape(\u001b[38;5;241m1\u001b[39m, \u001b[38;5;241m-\u001b[39m\u001b[38;5;241m1\u001b[39m)\n",
      "File \u001b[1;32m~\\anaconda3\\Lib\\site-packages\\pandas\\core\\ops\\array_ops.py:275\u001b[0m, in \u001b[0;36marithmetic_op\u001b[1;34m(left, right, op)\u001b[0m\n\u001b[0;32m    262\u001b[0m \u001b[38;5;66;03m# NB: We assume that extract_array and ensure_wrapped_if_datetimelike\u001b[39;00m\n\u001b[0;32m    263\u001b[0m \u001b[38;5;66;03m#  have already been called on `left` and `right`,\u001b[39;00m\n\u001b[0;32m    264\u001b[0m \u001b[38;5;66;03m#  and `maybe_prepare_scalar_for_op` has already been called on `right`\u001b[39;00m\n\u001b[0;32m    265\u001b[0m \u001b[38;5;66;03m# We need to special-case datetime64/timedelta64 dtypes (e.g. because numpy\u001b[39;00m\n\u001b[0;32m    266\u001b[0m \u001b[38;5;66;03m# casts integer dtypes to timedelta64 when operating with timedelta64 - GH#22390)\u001b[39;00m\n\u001b[0;32m    268\u001b[0m \u001b[38;5;28;01mif\u001b[39;00m (\n\u001b[0;32m    269\u001b[0m     should_extension_dispatch(left, right)\n\u001b[0;32m    270\u001b[0m     \u001b[38;5;129;01mor\u001b[39;00m \u001b[38;5;28misinstance\u001b[39m(right, (Timedelta, BaseOffset, Timestamp))\n\u001b[1;32m   (...)\u001b[0m\n\u001b[0;32m    273\u001b[0m     \u001b[38;5;66;03m# Timedelta/Timestamp and other custom scalars are included in the check\u001b[39;00m\n\u001b[0;32m    274\u001b[0m     \u001b[38;5;66;03m# because numexpr will fail on it, see GH#31457\u001b[39;00m\n\u001b[1;32m--> 275\u001b[0m     res_values \u001b[38;5;241m=\u001b[39m op(left, right)\n\u001b[0;32m    276\u001b[0m \u001b[38;5;28;01melse\u001b[39;00m:\n\u001b[0;32m    277\u001b[0m     \u001b[38;5;66;03m# TODO we should handle EAs consistently and move this check before the if/else\u001b[39;00m\n\u001b[0;32m    278\u001b[0m     \u001b[38;5;66;03m# (https://github.com/pandas-dev/pandas/issues/41165)\u001b[39;00m\n\u001b[0;32m    279\u001b[0m     \u001b[38;5;66;03m# error: Argument 2 to \"_bool_arith_check\" has incompatible type\u001b[39;00m\n\u001b[0;32m    280\u001b[0m     \u001b[38;5;66;03m# \"Union[ExtensionArray, ndarray[Any, Any]]\"; expected \"ndarray[Any, Any]\"\u001b[39;00m\n\u001b[0;32m    281\u001b[0m     _bool_arith_check(op, left, right)  \u001b[38;5;66;03m# type: ignore[arg-type]\u001b[39;00m\n",
      "File \u001b[1;32m~\\anaconda3\\Lib\\site-packages\\pandas\\core\\arrays\\datetimelike.py:2112\u001b[0m, in \u001b[0;36mTimelikeOps.__array_ufunc__\u001b[1;34m(self, ufunc, method, *inputs, **kwargs)\u001b[0m\n\u001b[0;32m   2104\u001b[0m \u001b[38;5;28;01mif\u001b[39;00m (\n\u001b[0;32m   2105\u001b[0m     ufunc \u001b[38;5;129;01min\u001b[39;00m [np\u001b[38;5;241m.\u001b[39misnan, np\u001b[38;5;241m.\u001b[39misinf, np\u001b[38;5;241m.\u001b[39misfinite]\n\u001b[0;32m   2106\u001b[0m     \u001b[38;5;129;01mand\u001b[39;00m \u001b[38;5;28mlen\u001b[39m(inputs) \u001b[38;5;241m==\u001b[39m \u001b[38;5;241m1\u001b[39m\n\u001b[0;32m   2107\u001b[0m     \u001b[38;5;129;01mand\u001b[39;00m inputs[\u001b[38;5;241m0\u001b[39m] \u001b[38;5;129;01mis\u001b[39;00m \u001b[38;5;28mself\u001b[39m\n\u001b[0;32m   2108\u001b[0m ):\n\u001b[0;32m   2109\u001b[0m     \u001b[38;5;66;03m# numpy 1.18 changed isinf and isnan to not raise on dt64/td64\u001b[39;00m\n\u001b[0;32m   2110\u001b[0m     \u001b[38;5;28;01mreturn\u001b[39;00m \u001b[38;5;28mgetattr\u001b[39m(ufunc, method)(\u001b[38;5;28mself\u001b[39m\u001b[38;5;241m.\u001b[39m_ndarray, \u001b[38;5;241m*\u001b[39m\u001b[38;5;241m*\u001b[39mkwargs)\n\u001b[1;32m-> 2112\u001b[0m \u001b[38;5;28;01mreturn\u001b[39;00m \u001b[38;5;28msuper\u001b[39m()\u001b[38;5;241m.\u001b[39m__array_ufunc__(ufunc, method, \u001b[38;5;241m*\u001b[39minputs, \u001b[38;5;241m*\u001b[39m\u001b[38;5;241m*\u001b[39mkwargs)\n",
      "File \u001b[1;32m~\\anaconda3\\Lib\\site-packages\\pandas\\core\\arrays\\base.py:2166\u001b[0m, in \u001b[0;36mExtensionArray.__array_ufunc__\u001b[1;34m(self, ufunc, method, *inputs, **kwargs)\u001b[0m\n\u001b[0;32m   2163\u001b[0m     \u001b[38;5;28;01mif\u001b[39;00m result \u001b[38;5;129;01mis\u001b[39;00m \u001b[38;5;129;01mnot\u001b[39;00m \u001b[38;5;28mNotImplemented\u001b[39m:\n\u001b[0;32m   2164\u001b[0m         \u001b[38;5;28;01mreturn\u001b[39;00m result\n\u001b[1;32m-> 2166\u001b[0m \u001b[38;5;28;01mreturn\u001b[39;00m arraylike\u001b[38;5;241m.\u001b[39mdefault_array_ufunc(\u001b[38;5;28mself\u001b[39m, ufunc, method, \u001b[38;5;241m*\u001b[39minputs, \u001b[38;5;241m*\u001b[39m\u001b[38;5;241m*\u001b[39mkwargs)\n",
      "File \u001b[1;32m~\\anaconda3\\Lib\\site-packages\\pandas\\core\\arraylike.py:489\u001b[0m, in \u001b[0;36mdefault_array_ufunc\u001b[1;34m(self, ufunc, method, *inputs, **kwargs)\u001b[0m\n\u001b[0;32m    485\u001b[0m     \u001b[38;5;28;01mraise\u001b[39;00m \u001b[38;5;167;01mNotImplementedError\u001b[39;00m\n\u001b[0;32m    487\u001b[0m new_inputs \u001b[38;5;241m=\u001b[39m [x \u001b[38;5;28;01mif\u001b[39;00m x \u001b[38;5;129;01mis\u001b[39;00m \u001b[38;5;129;01mnot\u001b[39;00m \u001b[38;5;28mself\u001b[39m \u001b[38;5;28;01melse\u001b[39;00m np\u001b[38;5;241m.\u001b[39masarray(x) \u001b[38;5;28;01mfor\u001b[39;00m x \u001b[38;5;129;01min\u001b[39;00m inputs]\n\u001b[1;32m--> 489\u001b[0m \u001b[38;5;28;01mreturn\u001b[39;00m \u001b[38;5;28mgetattr\u001b[39m(ufunc, method)(\u001b[38;5;241m*\u001b[39mnew_inputs, \u001b[38;5;241m*\u001b[39m\u001b[38;5;241m*\u001b[39mkwargs)\n",
      "\u001b[1;31mUFuncTypeError\u001b[0m: ufunc 'subtract' cannot use operands with types dtype('<M8[s]') and dtype('float64')"
     ]
    }
   ],
   "source": [
    "df2.sub(s)\n"
   ]
  },
  {
   "cell_type": "code",
   "execution_count": 37,
   "id": "83c22a18-0431-4bbf-97e6-e1306959bde0",
   "metadata": {},
   "outputs": [
    {
     "data": {
      "text/html": [
       "<div>\n",
       "<style scoped>\n",
       "    .dataframe tbody tr th:only-of-type {\n",
       "        vertical-align: middle;\n",
       "    }\n",
       "\n",
       "    .dataframe tbody tr th {\n",
       "        vertical-align: top;\n",
       "    }\n",
       "\n",
       "    .dataframe thead th {\n",
       "        text-align: right;\n",
       "    }\n",
       "</style>\n",
       "<table border=\"1\" class=\"dataframe\">\n",
       "  <thead>\n",
       "    <tr style=\"text-align: right;\">\n",
       "      <th></th>\n",
       "      <th>A</th>\n",
       "      <th>b</th>\n",
       "      <th>c</th>\n",
       "    </tr>\n",
       "  </thead>\n",
       "  <tbody>\n",
       "    <tr>\n",
       "      <th>0</th>\n",
       "      <td>1</td>\n",
       "      <td>4</td>\n",
       "      <td>5</td>\n",
       "    </tr>\n",
       "    <tr>\n",
       "      <th>1</th>\n",
       "      <td>8</td>\n",
       "      <td>6</td>\n",
       "      <td>7</td>\n",
       "    </tr>\n",
       "    <tr>\n",
       "      <th>2</th>\n",
       "      <td>13</td>\n",
       "      <td>12</td>\n",
       "      <td>15</td>\n",
       "    </tr>\n",
       "    <tr>\n",
       "      <th>3</th>\n",
       "      <td>16</td>\n",
       "      <td>19</td>\n",
       "      <td>16</td>\n",
       "    </tr>\n",
       "    <tr>\n",
       "      <th>4</th>\n",
       "      <td>20</td>\n",
       "      <td>20</td>\n",
       "      <td>18</td>\n",
       "    </tr>\n",
       "  </tbody>\n",
       "</table>\n",
       "</div>"
      ],
      "text/plain": [
       "    A   b   c\n",
       "0   1   4   5\n",
       "1   8   6   7\n",
       "2  13  12  15\n",
       "3  16  19  16\n",
       "4  20  20  18"
      ]
     },
     "execution_count": 37,
     "metadata": {},
     "output_type": "execute_result"
    }
   ],
   "source": [
    "# apply function to data\n",
    "# cumsum- cumulative sum\n",
    "df4=pd.DataFrame(\n",
    "   {\n",
    "       'A':[1,7,5,3,4],\n",
    "       'b':[4,2,6,7,1],\n",
    "       'c':[5,2,8,1,2] }\n",
    ")\n",
    "we=df4.apply(np.cumsum)\n",
    "we"
   ]
  },
  {
   "cell_type": "code",
   "execution_count": 35,
   "id": "7afef4d8-ce7d-4729-8155-8796a62af5b0",
   "metadata": {},
   "outputs": [
    {
     "data": {
      "text/html": [
       "<div>\n",
       "<style scoped>\n",
       "    .dataframe tbody tr th:only-of-type {\n",
       "        vertical-align: middle;\n",
       "    }\n",
       "\n",
       "    .dataframe tbody tr th {\n",
       "        vertical-align: top;\n",
       "    }\n",
       "\n",
       "    .dataframe thead th {\n",
       "        text-align: right;\n",
       "    }\n",
       "</style>\n",
       "<table border=\"1\" class=\"dataframe\">\n",
       "  <thead>\n",
       "    <tr style=\"text-align: right;\">\n",
       "      <th></th>\n",
       "      <th>A</th>\n",
       "      <th>b</th>\n",
       "      <th>c</th>\n",
       "    </tr>\n",
       "  </thead>\n",
       "  <tbody>\n",
       "    <tr>\n",
       "      <th>0</th>\n",
       "      <td>6</td>\n",
       "      <td>3</td>\n",
       "      <td>3</td>\n",
       "    </tr>\n",
       "    <tr>\n",
       "      <th>1</th>\n",
       "      <td>0</td>\n",
       "      <td>5</td>\n",
       "      <td>6</td>\n",
       "    </tr>\n",
       "    <tr>\n",
       "      <th>2</th>\n",
       "      <td>2</td>\n",
       "      <td>1</td>\n",
       "      <td>0</td>\n",
       "    </tr>\n",
       "    <tr>\n",
       "      <th>3</th>\n",
       "      <td>4</td>\n",
       "      <td>0</td>\n",
       "      <td>7</td>\n",
       "    </tr>\n",
       "    <tr>\n",
       "      <th>4</th>\n",
       "      <td>3</td>\n",
       "      <td>6</td>\n",
       "      <td>6</td>\n",
       "    </tr>\n",
       "  </tbody>\n",
       "</table>\n",
       "</div>"
      ],
      "text/plain": [
       "   A  b  c\n",
       "0  6  3  3\n",
       "1  0  5  6\n",
       "2  2  1  0\n",
       "3  4  0  7\n",
       "4  3  6  6"
      ]
     },
     "execution_count": 35,
     "metadata": {},
     "output_type": "execute_result"
    }
   ],
   "source": [
    "ar=df4.apply(lambda x: x.max()-x)\n",
    "ar"
   ]
  },
  {
   "cell_type": "code",
   "execution_count": 43,
   "id": "f774c7be-d733-4a7e-8080-096f2da6bd25",
   "metadata": {},
   "outputs": [
    {
     "data": {
      "text/plain": [
       "0    4\n",
       "1    1\n",
       "2    1\n",
       "3    6\n",
       "4    2\n",
       "5    0\n",
       "6    6\n",
       "7    2\n",
       "8    6\n",
       "9    5\n",
       "dtype: int32"
      ]
     },
     "execution_count": 43,
     "metadata": {},
     "output_type": "execute_result"
    }
   ],
   "source": [
    "# Histogramming\n",
    "s=pd.Series(np.random.randint(0,7,size=10))\n",
    "s\n",
    "# random integers from 0,7 of size 10 i.e 10 rows "
   ]
  },
  {
   "cell_type": "code",
   "execution_count": 47,
   "id": "bbf26bdf-ee10-4736-86e8-887ec3eb93b1",
   "metadata": {},
   "outputs": [
    {
     "data": {
      "text/plain": [
       "6    3\n",
       "1    2\n",
       "2    2\n",
       "4    1\n",
       "0    1\n",
       "5    1\n",
       "Name: count, dtype: int64"
      ]
     },
     "execution_count": 47,
     "metadata": {},
     "output_type": "execute_result"
    }
   ],
   "source": [
    "s.value_counts()"
   ]
  },
  {
   "cell_type": "code",
   "execution_count": 51,
   "id": "dad606e5-897f-4727-b5b0-623feeaf7bec",
   "metadata": {},
   "outputs": [
    {
     "data": {
      "text/plain": [
       "0    sddsd\n",
       "1      asd\n",
       "2     fasd\n",
       "3      NaN\n",
       "4     fddf\n",
       "5     ewef\n",
       "6     wfds\n",
       "dtype: object"
      ]
     },
     "execution_count": 51,
     "metadata": {},
     "output_type": "execute_result"
    }
   ],
   "source": [
    "# string method\n",
    "A=pd.Series(['sddsd','asd','fasd',np.nan,'fddf','ewef','wfds'])\n",
    "A.str.lower()"
   ]
  },
  {
   "cell_type": "code",
   "execution_count": 53,
   "id": "43db7459-d698-48b7-aa1e-b415e379f9c5",
   "metadata": {},
   "outputs": [
    {
     "data": {
      "text/plain": [
       "0    SDDSD\n",
       "1      ASD\n",
       "2     FASD\n",
       "3      NaN\n",
       "4     FDDF\n",
       "5     EWEF\n",
       "6     WFDS\n",
       "dtype: object"
      ]
     },
     "execution_count": 53,
     "metadata": {},
     "output_type": "execute_result"
    }
   ],
   "source": [
    "A.str.upper()"
   ]
  },
  {
   "cell_type": "code",
   "execution_count": null,
   "id": "400972b8-4a45-4be1-9ba6-7a78bd61cd62",
   "metadata": {},
   "outputs": [],
   "source": []
  },
  {
   "cell_type": "code",
   "execution_count": null,
   "id": "a311476f-a3a9-420d-88d1-6d4c77dfed86",
   "metadata": {},
   "outputs": [],
   "source": []
  },
  {
   "cell_type": "code",
   "execution_count": 59,
   "id": "a6520e69-f3c8-449e-8380-6cfa0ac79a4f",
   "metadata": {},
   "outputs": [
    {
     "data": {
      "text/html": [
       "<div>\n",
       "<style scoped>\n",
       "    .dataframe tbody tr th:only-of-type {\n",
       "        vertical-align: middle;\n",
       "    }\n",
       "\n",
       "    .dataframe tbody tr th {\n",
       "        vertical-align: top;\n",
       "    }\n",
       "\n",
       "    .dataframe thead th {\n",
       "        text-align: right;\n",
       "    }\n",
       "</style>\n",
       "<table border=\"1\" class=\"dataframe\">\n",
       "  <thead>\n",
       "    <tr style=\"text-align: right;\">\n",
       "      <th></th>\n",
       "      <th></th>\n",
       "      <th>A</th>\n",
       "      <th>B</th>\n",
       "    </tr>\n",
       "    <tr>\n",
       "      <th>first</th>\n",
       "      <th>second</th>\n",
       "      <th></th>\n",
       "      <th></th>\n",
       "    </tr>\n",
       "  </thead>\n",
       "  <tbody>\n",
       "    <tr>\n",
       "      <th>dscs</th>\n",
       "      <th>edsa</th>\n",
       "      <td>-0.130506</td>\n",
       "      <td>0.437070</td>\n",
       "    </tr>\n",
       "    <tr>\n",
       "      <th>dvds</th>\n",
       "      <th>dfwd</th>\n",
       "      <td>0.528593</td>\n",
       "      <td>0.171964</td>\n",
       "    </tr>\n",
       "    <tr>\n",
       "      <th>wdfef</th>\n",
       "      <th>wwd</th>\n",
       "      <td>1.309553</td>\n",
       "      <td>0.159903</td>\n",
       "    </tr>\n",
       "    <tr>\n",
       "      <th>dgewf</th>\n",
       "      <th>dfe3</th>\n",
       "      <td>1.141793</td>\n",
       "      <td>-0.165185</td>\n",
       "    </tr>\n",
       "  </tbody>\n",
       "</table>\n",
       "</div>"
      ],
      "text/plain": [
       "                     A         B\n",
       "first second                    \n",
       "dscs  edsa   -0.130506  0.437070\n",
       "dvds  dfwd    0.528593  0.171964\n",
       "wdfef wwd     1.309553  0.159903\n",
       "dgewf dfe3    1.141793 -0.165185"
      ]
     },
     "execution_count": 59,
     "metadata": {},
     "output_type": "execute_result"
    }
   ],
   "source": [
    "# Reshaping\n",
    "tuples=list(\n",
    "    zip(\n",
    "        *[\n",
    "            ['dscs','dvds','wdfef','dgewf'],\n",
    "            ['edsa','dfwd','wwd','dfe3']]\n",
    "    )\n",
    ")\n",
    "index=pd.MultiIndex.from_tuples(tuples,names=['first','second'])\n",
    "df=pd.DataFrame(np.random.randn(4,2),index=index,columns=['A','B'])\n",
    "dfk=df[:4]\n",
    "dfk"
   ]
  },
  {
   "cell_type": "code",
   "execution_count": null,
   "id": "5008503e-def8-474f-9db2-6ad316a1fc8b",
   "metadata": {},
   "outputs": [],
   "source": [
    "# data structure\n",
    "import numpy as np\n",
    "import pandas as pd\n",
    "# data alignment in intrinstic i.e link between data \n",
    "# and label will not be broken until done explicitly\n",
    "# Series - 1-d labelled array , can hold any datatype "
   ]
  },
  {
   "cell_type": "code",
   "execution_count": 61,
   "id": "7d0b3715-df60-4f56-a1e8-49d5db47fb0f",
   "metadata": {},
   "outputs": [
    {
     "data": {
      "text/plain": [
       "a    0.464220\n",
       "b    0.067870\n",
       "c    1.688301\n",
       "d   -0.391985\n",
       "e   -2.160553\n",
       "dtype: float64"
      ]
     },
     "execution_count": 61,
     "metadata": {},
     "output_type": "execute_result"
    }
   ],
   "source": [
    "# explicitly done indexing \n",
    "s=pd.Series(np.random.randn(5),index=['a','b','c','d','e'])\n",
    "s"
   ]
  },
  {
   "cell_type": "code",
   "execution_count": null,
   "id": "a09e460f-279c-4a0b-9cc7-ae42164812e8",
   "metadata": {},
   "outputs": [],
   "source": []
  },
  {
   "cell_type": "code",
   "execution_count": 63,
   "id": "c5a2cf19-a851-4886-8ff0-77800d476470",
   "metadata": {},
   "outputs": [
    {
     "data": {
      "text/plain": [
       "A    False\n",
       "b    False\n",
       "c    False\n",
       "dtype: bool"
      ]
     },
     "execution_count": 63,
     "metadata": {},
     "output_type": "execute_result"
    }
   ],
   "source": [
    "# boolean reduction \n",
    "# give boolean value for whether given condition satifies\n",
    "# for all values in each column\n",
    "# all- for all values in each column\n",
    "# any- for any value(all not necessary) in each column\n",
    "(df4>2).all()"
   ]
  },
  {
   "cell_type": "code",
   "execution_count": 67,
   "id": "e6624b4b-a3f8-4271-b63f-d87d04877889",
   "metadata": {},
   "outputs": [
    {
     "data": {
      "text/plain": [
       "A    True\n",
       "b    True\n",
       "c    True\n",
       "dtype: bool"
      ]
     },
     "execution_count": 67,
     "metadata": {},
     "output_type": "execute_result"
    }
   ],
   "source": [
    "(df4>3).any()"
   ]
  },
  {
   "cell_type": "code",
   "execution_count": 71,
   "id": "302549f0-c50e-4a41-96b5-17772c64eb1b",
   "metadata": {},
   "outputs": [
    {
     "data": {
      "text/plain": [
       "True"
      ]
     },
     "execution_count": 71,
     "metadata": {},
     "output_type": "execute_result"
    }
   ],
   "source": [
    "(df4>4).any().any()\n",
    "# reduction to final boolean value i.e result came out true for all\n",
    "# columns then to display single true use another any "
   ]
  },
  {
   "cell_type": "code",
   "execution_count": 73,
   "id": "9806ddf7-5585-400f-b46f-fa0c6f56f080",
   "metadata": {},
   "outputs": [
    {
     "data": {
      "text/plain": [
       "False"
      ]
     },
     "execution_count": 73,
     "metadata": {},
     "output_type": "execute_result"
    }
   ],
   "source": [
    "df4.empty"
   ]
  },
  {
   "cell_type": "code",
   "execution_count": 75,
   "id": "b701582d-5532-47ce-bb93-31ec1c03bfd4",
   "metadata": {},
   "outputs": [
    {
     "data": {
      "text/plain": [
       "True"
      ]
     },
     "execution_count": 75,
     "metadata": {},
     "output_type": "execute_result"
    }
   ],
   "source": [
    "pd.DataFrame(columns=list('AB')).empty"
   ]
  },
  {
   "cell_type": "code",
   "execution_count": null,
   "id": "3b0f16b5-4689-4b23-9ad7-016538a3d6a1",
   "metadata": {},
   "outputs": [],
   "source": [
    "pd.Series([True])"
   ]
  },
  {
   "cell_type": "code",
   "execution_count": null,
   "id": "1f202c53-7f26-496f-a81e-8063597f4770",
   "metadata": {},
   "outputs": [],
   "source": []
  },
  {
   "cell_type": "code",
   "execution_count": 11,
   "id": "2d115583-0c6b-4430-a7eb-036b6d997ca2",
   "metadata": {},
   "outputs": [
    {
     "data": {
      "text/plain": [
       "[('bar', 'wedw'),\n",
       " ('dff', 'efw'),\n",
       " ('dfs', 'fewe'),\n",
       " ('egf', 'efwf'),\n",
       " ('ewrf', 'wef'),\n",
       " ('fsdf', 'wr')]"
      ]
     },
     "execution_count": 11,
     "metadata": {},
     "output_type": "execute_result"
    }
   ],
   "source": [
    "# multiindexing \n",
    "import pandas as pd\n",
    "import numpy as np\n",
    "arrays=[\n",
    "    ['bar','dff','dfs','egf','ewrf','fsdf'],\n",
    "    ['wedw','efw','fewe','efwf','wef','wr']]\n",
    "tuples=list(zip(*arrays))\n",
    "tuples"
   ]
  },
  {
   "cell_type": "code",
   "execution_count": 7,
   "id": "676e197d-a0be-47cc-9ee3-40d01d5ea64e",
   "metadata": {},
   "outputs": [
    {
     "data": {
      "text/plain": [
       "MultiIndex([( 'bar', 'wedw'),\n",
       "            ( 'dff',  'efw'),\n",
       "            ( 'dfs', 'fewe'),\n",
       "            ( 'egf', 'efwf'),\n",
       "            ('ewrf',  'wef'),\n",
       "            ('fsdf',   'wr')],\n",
       "           names=['first', 'second'])"
      ]
     },
     "execution_count": 7,
     "metadata": {},
     "output_type": "execute_result"
    }
   ],
   "source": [
    "index=pd.MultiIndex.from_tuples(tuples,names=['first','second'])\n",
    "index"
   ]
  },
  {
   "cell_type": "code",
   "execution_count": 15,
   "id": "7359a4ea-8044-4572-a678-3d0ecfedd473",
   "metadata": {},
   "outputs": [
    {
     "data": {
      "text/plain": [
       "first  second\n",
       "bar    wedw     -1.088887\n",
       "dff    efw       0.894123\n",
       "dfs    fewe     -0.099927\n",
       "egf    efwf     -0.829398\n",
       "ewrf   wef      -0.540341\n",
       "fsdf   wr        0.749006\n",
       "dtype: float64"
      ]
     },
     "execution_count": 15,
     "metadata": {},
     "output_type": "execute_result"
    }
   ],
   "source": [
    "s=pd.Series(np.random.randn(6),index=index)\n",
    "s"
   ]
  },
  {
   "cell_type": "code",
   "execution_count": null,
   "id": "bc9c6c51-5043-4795-a088-58435384bab4",
   "metadata": {},
   "outputs": [],
   "source": []
  },
  {
   "cell_type": "code",
   "execution_count": null,
   "id": "083b7739-d47c-4188-a09b-7dceffd72079",
   "metadata": {},
   "outputs": [],
   "source": []
  },
  {
   "cell_type": "code",
   "execution_count": null,
   "id": "ebb12d31-6cfb-4c2b-8837-663d97395776",
   "metadata": {},
   "outputs": [],
   "source": []
  },
  {
   "cell_type": "code",
   "execution_count": null,
   "id": "2b5c0fa5-16a7-49ab-88a5-9965679fa42a",
   "metadata": {},
   "outputs": [],
   "source": []
  },
  {
   "cell_type": "code",
   "execution_count": null,
   "id": "ea2b436b-a105-4a9c-a3fd-3f84466e4c2c",
   "metadata": {},
   "outputs": [],
   "source": []
  },
  {
   "cell_type": "code",
   "execution_count": null,
   "id": "638825d1-db4e-4073-acae-53748ccafaf4",
   "metadata": {},
   "outputs": [],
   "source": []
  },
  {
   "cell_type": "code",
   "execution_count": null,
   "id": "abe14de0-00b4-489a-a508-e028613c7367",
   "metadata": {},
   "outputs": [],
   "source": []
  },
  {
   "cell_type": "code",
   "execution_count": null,
   "id": "62860750-6b6a-4622-b767-d70c0eac13eb",
   "metadata": {},
   "outputs": [],
   "source": []
  },
  {
   "cell_type": "code",
   "execution_count": null,
   "id": "052a5a01-7969-45f9-b747-64a1dd68739b",
   "metadata": {},
   "outputs": [],
   "source": []
  },
  {
   "cell_type": "code",
   "execution_count": null,
   "id": "7fc777e5-2f1f-420b-8378-2450b0f8161b",
   "metadata": {},
   "outputs": [],
   "source": []
  },
  {
   "cell_type": "code",
   "execution_count": null,
   "id": "c723719d-dc77-4414-8a1a-e858939d585f",
   "metadata": {},
   "outputs": [],
   "source": []
  },
  {
   "cell_type": "code",
   "execution_count": null,
   "id": "bd7ad4d8-c37d-4d4e-952d-823c8d53a0d2",
   "metadata": {},
   "outputs": [],
   "source": []
  },
  {
   "cell_type": "code",
   "execution_count": null,
   "id": "ab767153-49aa-4467-bc99-f0d6b28bd6a6",
   "metadata": {},
   "outputs": [],
   "source": []
  },
  {
   "cell_type": "code",
   "execution_count": null,
   "id": "b5e59c7d-3d1b-4bc6-807e-8415b004a9e5",
   "metadata": {},
   "outputs": [],
   "source": []
  },
  {
   "cell_type": "code",
   "execution_count": null,
   "id": "2c792e04-f8aa-46dd-a309-ac02e2c8b69a",
   "metadata": {},
   "outputs": [],
   "source": []
  },
  {
   "cell_type": "code",
   "execution_count": null,
   "id": "29f83095-8014-4ea2-827c-264bafa14e63",
   "metadata": {},
   "outputs": [],
   "source": []
  },
  {
   "cell_type": "code",
   "execution_count": null,
   "id": "559d1960-889b-4b95-b27f-6a9833f2494c",
   "metadata": {},
   "outputs": [],
   "source": []
  },
  {
   "cell_type": "code",
   "execution_count": null,
   "id": "11a558c6-2204-4349-ad4b-cfa83ae27944",
   "metadata": {},
   "outputs": [],
   "source": []
  },
  {
   "cell_type": "code",
   "execution_count": null,
   "id": "5dffc3ca-c89f-4f47-95a4-e6c1330fd552",
   "metadata": {},
   "outputs": [],
   "source": []
  },
  {
   "cell_type": "code",
   "execution_count": null,
   "id": "a3d2e5c7-8fce-4aa3-8785-376f76d310cd",
   "metadata": {},
   "outputs": [],
   "source": []
  },
  {
   "cell_type": "code",
   "execution_count": null,
   "id": "5e88e289-30e0-457b-9459-430014bc2927",
   "metadata": {},
   "outputs": [],
   "source": []
  },
  {
   "cell_type": "code",
   "execution_count": null,
   "id": "d43c03c7-b5a9-4279-837e-b0da99ea44be",
   "metadata": {},
   "outputs": [],
   "source": []
  },
  {
   "cell_type": "code",
   "execution_count": null,
   "id": "0b7113d6-2f92-4a10-8fef-74ddb597bfe8",
   "metadata": {},
   "outputs": [],
   "source": []
  },
  {
   "cell_type": "code",
   "execution_count": null,
   "id": "0aff5175-9748-490c-bc23-4efd73d51d7b",
   "metadata": {},
   "outputs": [],
   "source": [
    "# Mising data\n"
   ]
  }
 ],
 "metadata": {
  "kernelspec": {
   "display_name": "Python 3 (ipykernel)",
   "language": "python",
   "name": "python3"
  },
  "language_info": {
   "codemirror_mode": {
    "name": "ipython",
    "version": 3
   },
   "file_extension": ".py",
   "mimetype": "text/x-python",
   "name": "python",
   "nbconvert_exporter": "python",
   "pygments_lexer": "ipython3",
   "version": "3.12.4"
  }
 },
 "nbformat": 4,
 "nbformat_minor": 5
}
